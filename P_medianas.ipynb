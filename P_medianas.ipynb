{
  "cells": [
    {
      "cell_type": "markdown",
      "metadata": {
        "id": "view-in-github",
        "colab_type": "text"
      },
      "source": [
        "<a href=\"https://colab.research.google.com/github/JuniorDurand/P-Median-Problem/blob/main/P_medianas.ipynb\" target=\"_parent\"><img src=\"https://colab.research.google.com/assets/colab-badge.svg\" alt=\"Open In Colab\"/></a>"
      ]
    },
    {
      "cell_type": "markdown",
      "metadata": {
        "id": "HaGPgyLqBjlc"
      },
      "source": [
        "#Problema das P-medianas"
      ]
    },
    {
      "cell_type": "markdown",
      "metadata": {
        "id": "qy9wQ5xiBorN"
      },
      "source": [
        "## Environment"
      ]
    },
    {
      "cell_type": "code",
      "execution_count": 1,
      "metadata": {
        "id": "P1ibODJxBhK9"
      },
      "outputs": [],
      "source": [
        "import os\n",
        "import numpy as np\n",
        "import itertools\n",
        "from itertools import combinations\n",
        "from random import randint\n",
        "import datetime\n",
        "import heapq\n",
        "import pandas as pd\n",
        "import random"
      ]
    },
    {
      "cell_type": "code",
      "source": [
        "!git clone https://github.com/JuniorDurand/P-Median-Problem.git\n",
        "\n",
        "os.chdir(\"P-Median-Problem\")"
      ],
      "metadata": {
        "colab": {
          "base_uri": "https://localhost:8080/"
        },
        "id": "jdVAvf_1dm0J",
        "outputId": "48f1ca47-560e-4719-c35c-6104e4077376"
      },
      "execution_count": 2,
      "outputs": [
        {
          "output_type": "stream",
          "name": "stdout",
          "text": [
            "Cloning into 'P-Median-Problem'...\n",
            "remote: Enumerating objects: 26, done.\u001b[K\n",
            "remote: Counting objects: 100% (26/26), done.\u001b[K\n",
            "remote: Compressing objects: 100% (25/25), done.\u001b[K\n",
            "remote: Total 26 (delta 4), reused 0 (delta 0), pack-reused 0\u001b[K\n",
            "Unpacking objects: 100% (26/26), 47.45 KiB | 899.00 KiB/s, done.\n"
          ]
        }
      ]
    },
    {
      "cell_type": "markdown",
      "metadata": {
        "id": "sUo0qTL1BrIf"
      },
      "source": [
        "## Dataset"
      ]
    },
    {
      "cell_type": "markdown",
      "source": [
        "### Synthetic Dataset"
      ],
      "metadata": {
        "id": "kT6wYaQlSavR"
      }
    },
    {
      "cell_type": "code",
      "source": [
        "vertices = [10, 20, 50, 70, 100, 150, 200]\n",
        "ps = [2, 5, 10, 15]\n",
        "count = 1\n",
        "synthetic_pmeds = []\n",
        "\n",
        "for p in ps:\n",
        "  for v in vertices:\n",
        "\n",
        "    if p >= v:\n",
        "      continue\n",
        "\n",
        "    file_path = \"syntpmed{count}.txt\".format(count=count)\n",
        "\n",
        "    if os.path.isfile(file_path):\n",
        "      count = count + 1\n",
        "      synthetic_pmeds.append(file_path)\n",
        "      continue\n",
        "\n",
        "    arq = open(file_path, \"a\")\n",
        "\n",
        "    # head of file\n",
        "    arq.write(\"{v} {p}\\n\".format(v=v, p=p))\n",
        "    for i in combinations(range(v), 2):\n",
        "\n",
        "      # define rand cost\n",
        "      c = randint(0,100)\n",
        "      # writer edge line\n",
        "      arq.write(\"{i} {j} {c}\\n\".format(i=i[0]+1, j=i[1]+1, c=c))\n",
        "\n",
        "    arq.close()\n",
        "    count = count + 1\n",
        "    synthetic_pmeds.append(file_path)\n",
        "\n",
        "\n"
      ],
      "metadata": {
        "id": "rAZDk6SHSdFh"
      },
      "execution_count": 3,
      "outputs": []
    },
    {
      "cell_type": "markdown",
      "source": [
        "### Brunel Dataset\n",
        "\n",
        "[Brunel Dataset](http://people.brunel.ac.uk/~mastjjb/jeb/orlib/pmedinfo.html)\n",
        "\n",
        "The graphs resulting from this dataset are not complete so they were not used in the analysis"
      ],
      "metadata": {
        "id": "dO51QtLlScsi"
      }
    },
    {
      "cell_type": "code",
      "execution_count": null,
      "metadata": {
        "id": "J4Jw3jnwEMcj"
      },
      "outputs": [],
      "source": [
        "brunel_pmeds = [\n",
        "    \"http://people.brunel.ac.uk/~mastjjb/jeb/orlib/files/pmed1.txt\",\n",
        "    \"http://people.brunel.ac.uk/~mastjjb/jeb/orlib/files/pmed2.txt\",\n",
        "    \"http://people.brunel.ac.uk/~mastjjb/jeb/orlib/files/pmed3.txt\",\n",
        "    \"http://people.brunel.ac.uk/~mastjjb/jeb/orlib/files/pmed4.txt\",\n",
        "    \"http://people.brunel.ac.uk/~mastjjb/jeb/orlib/files/pmed5.txt\",\n",
        "    \"http://people.brunel.ac.uk/~mastjjb/jeb/orlib/files/pmed6.txt\",\n",
        "    \"http://people.brunel.ac.uk/~mastjjb/jeb/orlib/files/pmed7.txt\",\n",
        "    \"http://people.brunel.ac.uk/~mastjjb/jeb/orlib/files/pmed8.txt\",\n",
        "    \"http://people.brunel.ac.uk/~mastjjb/jeb/orlib/files/pmed9.txt\",\n",
        "    \"http://people.brunel.ac.uk/~mastjjb/jeb/orlib/files/pmed10.txt\",\n",
        "    \"http://people.brunel.ac.uk/~mastjjb/jeb/orlib/files/pmed11.txt\",\n",
        "    \"http://people.brunel.ac.uk/~mastjjb/jeb/orlib/files/pmed12.txt\",\n",
        "    \"http://people.brunel.ac.uk/~mastjjb/jeb/orlib/files/pmed13.txt\",\n",
        "    \"http://people.brunel.ac.uk/~mastjjb/jeb/orlib/files/pmed14.txt\",\n",
        "    \"http://people.brunel.ac.uk/~mastjjb/jeb/orlib/files/pmed15.txt\",\n",
        "    \"http://people.brunel.ac.uk/~mastjjb/jeb/orlib/files/pmed16.txt\",\n",
        "    \"http://people.brunel.ac.uk/~mastjjb/jeb/orlib/files/pmed17.txt\",\n",
        "    \"http://people.brunel.ac.uk/~mastjjb/jeb/orlib/files/pmed18.txt\",\n",
        "    \"http://people.brunel.ac.uk/~mastjjb/jeb/orlib/files/pmed19.txt\",\n",
        "    \"http://people.brunel.ac.uk/~mastjjb/jeb/orlib/files/pmed20.txt\",\n",
        "    \"http://people.brunel.ac.uk/~mastjjb/jeb/orlib/files/pmed21.txt\",\n",
        "    \"http://people.brunel.ac.uk/~mastjjb/jeb/orlib/files/pmed22.txt\",\n",
        "    \"http://people.brunel.ac.uk/~mastjjb/jeb/orlib/files/pmed23.txt\",\n",
        "    \"http://people.brunel.ac.uk/~mastjjb/jeb/orlib/files/pmed24.txt\",\n",
        "    \"http://people.brunel.ac.uk/~mastjjb/jeb/orlib/files/pmed25.txt\",\n",
        "    \"http://people.brunel.ac.uk/~mastjjb/jeb/orlib/files/pmed26.txt\",\n",
        "    \"http://people.brunel.ac.uk/~mastjjb/jeb/orlib/files/pmed27.txt\",\n",
        "    \"http://people.brunel.ac.uk/~mastjjb/jeb/orlib/files/pmed28.txt\",\n",
        "    \"http://people.brunel.ac.uk/~mastjjb/jeb/orlib/files/pmed29.txt\",\n",
        "    \"http://people.brunel.ac.uk/~mastjjb/jeb/orlib/files/pmed30.txt\",\n",
        "    \"http://people.brunel.ac.uk/~mastjjb/jeb/orlib/files/pmed31.txt\",\n",
        "    \"http://people.brunel.ac.uk/~mastjjb/jeb/orlib/files/pmed32.txt\",\n",
        "    \"http://people.brunel.ac.uk/~mastjjb/jeb/orlib/files/pmed33.txt\",\n",
        "    \"http://people.brunel.ac.uk/~mastjjb/jeb/orlib/files/pmed34.txt\",\n",
        "    \"http://people.brunel.ac.uk/~mastjjb/jeb/orlib/files/pmed35.txt\",\n",
        "    \"http://people.brunel.ac.uk/~mastjjb/jeb/orlib/files/pmed36.txt\",\n",
        "    \"http://people.brunel.ac.uk/~mastjjb/jeb/orlib/files/pmed37.txt\",\n",
        "    \"http://people.brunel.ac.uk/~mastjjb/jeb/orlib/files/pmed38.txt\",\n",
        "    \"http://people.brunel.ac.uk/~mastjjb/jeb/orlib/files/pmed39.txt\",\n",
        "    \"http://people.brunel.ac.uk/~mastjjb/jeb/orlib/files/pmed40.txt\",\n",
        "]"
      ]
    },
    {
      "cell_type": "code",
      "execution_count": null,
      "metadata": {
        "id": "iLrzt4MTEytO"
      },
      "outputs": [],
      "source": [
        "for pmed in brunel_pmeds:\n",
        "  os.system('wget {FILE}'.format(FILE = pmed))"
      ]
    },
    {
      "cell_type": "code",
      "execution_count": null,
      "metadata": {
        "id": "n87294q2K50u"
      },
      "outputs": [],
      "source": [
        "def get_dataset(filepath):\n",
        "  with open(filepath.split('/')[-1]) as f:\n",
        "    content = f.readlines()\n",
        "\n",
        "  params = content[0].split()\n",
        "  params = [int(x) for x in params]\n",
        "\n",
        "  # def dataset parans\n",
        "  vertices = params[0]\n",
        "  p = params[1]\n",
        "  edges = 0\n",
        "\n",
        "  # preprocess cost edges\n",
        "  cost = [x.split() for x in content[1:]]\n",
        "  cost = [list(map(int, x)) for x in cost]\n",
        "\n",
        "  # create mat cost\n",
        "  cost_mat = np.full((vertices, vertices), np.nan)\n",
        "  for i, j, c in cost:\n",
        "    cost_mat[i-1][j-1] = c\n",
        "    cost_mat[j-1][i-1] = c\n",
        "\n",
        "  for i in range(vertices):\n",
        "    cost_mat[i][i] = 0\n",
        "\n",
        "  return {\n",
        "      \"vertices\" : vertices,\n",
        "      \"edges\": edges,\n",
        "      \"p\": p,\n",
        "      \"cost_mat\": cost_mat\n",
        "  }\n"
      ]
    },
    {
      "cell_type": "markdown",
      "metadata": {
        "id": "uIFqFHkKBt0E"
      },
      "source": [
        "## Linear Solution"
      ]
    },
    {
      "cell_type": "markdown",
      "metadata": {
        "id": "Tl1v2owEQg2Q"
      },
      "source": [
        "###Utility Functions"
      ]
    },
    {
      "cell_type": "markdown",
      "source": [
        "#### Binary count"
      ],
      "metadata": {
        "id": "-ujMk_9nXyPc"
      }
    },
    {
      "cell_type": "code",
      "execution_count": null,
      "metadata": {
        "id": "yUdIVJwHTVVs"
      },
      "outputs": [],
      "source": [
        "class BinaryCount:\n",
        "  def __init__(self, length: int, start: int = 0):\n",
        "    self.length = length\n",
        "    self.start = start\n",
        "    self.i = self.start\n",
        "\n",
        "  def __get_zeros(self, n):\n",
        "    zeros = \"\"\n",
        "    for i in range(n):\n",
        "      zeros = zeros + str(0)\n",
        "\n",
        "    return zeros\n",
        "\n",
        "  def __string_to_list_int(self, string):\n",
        "    bin_list = [*string]\n",
        "    bin_list = [ int(x) for x in bin_list]\n",
        "    return bin_list\n",
        "\n",
        "  def __next__(self):\n",
        "    bin_code = \"{number:b}\".format(number=self.i)\n",
        "    self.i = self.i + 1\n",
        "\n",
        "    if(len(bin_code) < self.length):\n",
        "      bin_code = self.__get_zeros(self.length - len(bin_code)) + bin_code\n",
        "\n",
        "    elif (len(bin_code) == self.length):\n",
        "      bin_code = bin_code\n",
        "\n",
        "    else:\n",
        "      raise StopIteration\n",
        "\n",
        "    # return bin_code\n",
        "    return self.__string_to_list_int(bin_code)\n",
        "\n",
        "  def __iter__(self):\n",
        "    return self\n"
      ]
    },
    {
      "cell_type": "markdown",
      "source": [
        "#### Get cost of solution"
      ],
      "metadata": {
        "id": "62CF__k4X3YM"
      }
    },
    {
      "cell_type": "code",
      "execution_count": null,
      "metadata": {
        "id": "ZGPM2kmFatr_"
      },
      "outputs": [],
      "source": [
        "def get_cost_sol(vertices, sol, cost_mat):\n",
        "  total_cost = 0\n",
        "  for i in range(vertices):\n",
        "    for j in range(vertices):\n",
        "      if not np.isnan(cost_mat[i][j]):\n",
        "        total_cost = total_cost + (cost_mat[i][j] * sol[i][j])\n",
        "      elif( sol[i][j] > 0):\n",
        "        raise Exception\n",
        "      else:\n",
        "        continue;\n",
        "  return total_cost\n",
        "\n"
      ]
    },
    {
      "cell_type": "markdown",
      "source": [
        "#### Check all served vertices restriction"
      ],
      "metadata": {
        "id": "5ZkXonHvX-ej"
      }
    },
    {
      "cell_type": "code",
      "execution_count": null,
      "metadata": {
        "colab": {
          "base_uri": "https://localhost:8080/"
        },
        "id": "ObYVwqehf7CT",
        "outputId": "b05f91ee-b4ad-4381-fce0-d1d53d4c6b04"
      },
      "outputs": [
        {
          "output_type": "execute_result",
          "data": {
            "text/plain": [
              "False"
            ]
          },
          "metadata": {},
          "execution_count": 12
        }
      ],
      "source": [
        "def restriction_all_served(vertices, sol):\n",
        "  sol = np.array(sol)\n",
        "  for i in range(vertices):\n",
        "    col = sol[:, i]\n",
        "    sum = np.sum(col)\n",
        "    if(sum != 1):\n",
        "      return False\n",
        "  return True\n",
        "\n",
        "sol_test = [[0,1,0], [1,0,0], [0,0,0]]\n",
        "restriction_all_served(3, sol_test)"
      ]
    },
    {
      "cell_type": "markdown",
      "source": [
        "#### Check number of servers restriction"
      ],
      "metadata": {
        "id": "Pvpjz70NYMQD"
      }
    },
    {
      "cell_type": "code",
      "execution_count": null,
      "metadata": {
        "colab": {
          "base_uri": "https://localhost:8080/"
        },
        "id": "Yn7aFnuCiJMM",
        "outputId": "949323c1-fee7-46ff-fd5e-7dec977d8ee6"
      },
      "outputs": [
        {
          "output_type": "execute_result",
          "data": {
            "text/plain": [
              "False"
            ]
          },
          "metadata": {},
          "execution_count": 13
        }
      ],
      "source": [
        "def restriction_p_servers(vertices, p, sol):\n",
        "  sol = np.array(sol)\n",
        "\n",
        "  col = sol[:, vertices]\n",
        "  sum = np.sum(col)\n",
        "  if(sum != p):\n",
        "    return False\n",
        "  return True\n",
        "\n",
        "sol_test = [[0,1,0,0], [1,0,0,1], [0,0,0,0]]\n",
        "restriction_p_servers(3, 2, sol_test)"
      ]
    },
    {
      "cell_type": "markdown",
      "source": [
        "#### Check vertives served by open servers"
      ],
      "metadata": {
        "id": "7MZpCFfeYU7z"
      }
    },
    {
      "cell_type": "code",
      "execution_count": null,
      "metadata": {
        "colab": {
          "base_uri": "https://localhost:8080/"
        },
        "id": "hbrECTfGjZHK",
        "outputId": "290d3d81-1732-4ab8-8845-8410bd14467f"
      },
      "outputs": [
        {
          "output_type": "execute_result",
          "data": {
            "text/plain": [
              "True"
            ]
          },
          "metadata": {},
          "execution_count": 14
        }
      ],
      "source": [
        "def restriction_served_by_open_servers(vertices, sol):\n",
        "  sol = np.array(sol)\n",
        "\n",
        "  for i in range(vertices):\n",
        "    row = sol[i, :vertices]\n",
        "    for j in row:\n",
        "      if not(j - sol[i,vertices] <= 0):\n",
        "        # print(i, row, sol[i,vertices])\n",
        "        return False\n",
        "  return True\n",
        "\n",
        "sol_test = [[0,1,0,1], [1,0,0,1], [0,0,0,1]]\n",
        "restriction_served_by_open_servers(3, sol_test)"
      ]
    },
    {
      "cell_type": "markdown",
      "metadata": {
        "id": "sECXIw3JYMd4"
      },
      "source": [
        "### Solver"
      ]
    },
    {
      "cell_type": "code",
      "execution_count": null,
      "metadata": {
        "id": "21NXfr32YLrv"
      },
      "outputs": [],
      "source": [
        "def linear_solver(vertices, edges, p, cost_mat):\n",
        "  solutions = []\n",
        "\n",
        "  bin_count = BinaryCount( vertices * (vertices + 1) )\n",
        "\n",
        "  for bin in bin_count:\n",
        "    sol = np.array(bin)\n",
        "    sol = np.reshape(sol, (vertices, (vertices + 1)))\n",
        "\n",
        "\n",
        "    if not restriction_p_servers(vertices, p, sol):\n",
        "      continue;\n",
        "\n",
        "    if not restriction_all_served(vertices, sol):\n",
        "      continue;\n",
        "\n",
        "    if not restriction_served_by_open_servers(vertices, sol):\n",
        "      continue;\n",
        "    # print(sol)\n",
        "\n",
        "    cost = get_cost_sol(vertices, sol, cost_mat)\n",
        "\n",
        "    solutions.append([cost, sol])\n",
        "\n",
        "  return solutions\n",
        "\n",
        "\n",
        "\n",
        "\n",
        "\n",
        "\n"
      ]
    },
    {
      "cell_type": "markdown",
      "source": [
        "### Execute Solution"
      ],
      "metadata": {
        "id": "e46yUAK-Y4Cz"
      }
    },
    {
      "cell_type": "code",
      "execution_count": null,
      "metadata": {
        "colab": {
          "base_uri": "https://localhost:8080/"
        },
        "id": "7JoIdEWg41HD",
        "outputId": "6382bd73-4fef-4891-e946-46cbc6b8a79b"
      },
      "outputs": [
        {
          "name": "stdout",
          "output_type": "stream",
          "text": [
            "{'vertices': 4, 'edges': 40, 'p': 2, 'cost_mat': array([[ 0., 34., 32., 66.],\n",
            "       [34.,  0., 73., 63.],\n",
            "       [32., 73.,  0., 92.],\n",
            "       [66., 63., 92.,  0.]])}\n",
            "66.0\n",
            "[[1 1 1 0 1]\n",
            " [0 0 0 0 0]\n",
            " [0 0 0 0 0]\n",
            " [0 0 0 1 1]]\n",
            "95.0\n",
            "[[0 0 0 0 0]\n",
            " [0 0 0 0 0]\n",
            " [1 0 1 0 1]\n",
            " [0 1 0 1 1]]\n",
            "95.0\n",
            "[[0 0 0 0 0]\n",
            " [0 1 0 1 1]\n",
            " [1 0 1 0 1]\n",
            " [0 0 0 0 0]]\n",
            "95.0\n",
            "[[1 0 1 0 1]\n",
            " [0 0 0 0 0]\n",
            " [0 0 0 0 0]\n",
            " [0 1 0 1 1]]\n",
            "95.0\n",
            "[[1 0 1 0 1]\n",
            " [0 1 0 1 1]\n",
            " [0 0 0 0 0]\n",
            " [0 0 0 0 0]]\n",
            "97.0\n",
            "[[0 0 0 0 0]\n",
            " [1 1 0 1 1]\n",
            " [0 0 1 0 1]\n",
            " [0 0 0 0 0]]\n",
            "98.0\n",
            "[[1 0 1 1 1]\n",
            " [0 1 0 0 1]\n",
            " [0 0 0 0 0]\n",
            " [0 0 0 0 0]]\n",
            "100.0\n",
            "[[1 1 0 1 1]\n",
            " [0 0 0 0 0]\n",
            " [0 0 1 0 1]\n",
            " [0 0 0 0 0]]\n",
            "105.0\n",
            "[[0 0 0 0 0]\n",
            " [0 0 0 0 0]\n",
            " [1 1 1 0 1]\n",
            " [0 0 0 1 1]]\n",
            "107.0\n",
            "[[0 0 0 0 0]\n",
            " [1 1 1 0 1]\n",
            " [0 0 0 0 0]\n",
            " [0 0 0 1 1]]\n",
            "124.0\n",
            "[[0 0 0 0 0]\n",
            " [0 1 0 0 1]\n",
            " [1 0 1 1 1]\n",
            " [0 0 0 0 0]]\n",
            "126.0\n",
            "[[0 0 0 0 0]\n",
            " [1 1 0 0 1]\n",
            " [0 0 0 0 0]\n",
            " [0 0 1 1 1]]\n",
            "126.0\n",
            "[[0 0 0 0 0]\n",
            " [1 1 0 0 1]\n",
            " [0 0 1 1 1]\n",
            " [0 0 0 0 0]]\n",
            "126.0\n",
            "[[1 1 0 0 1]\n",
            " [0 0 0 0 0]\n",
            " [0 0 0 0 0]\n",
            " [0 0 1 1 1]]\n",
            "126.0\n",
            "[[1 1 0 0 1]\n",
            " [0 0 0 0 0]\n",
            " [0 0 1 1 1]\n",
            " [0 0 0 0 0]]\n",
            "129.0\n",
            "[[0 0 0 0 0]\n",
            " [0 0 0 0 0]\n",
            " [0 0 1 0 1]\n",
            " [1 1 0 1 1]]\n",
            "129.0\n",
            "[[0 0 1 0 1]\n",
            " [1 1 0 1 1]\n",
            " [0 0 0 0 0]\n",
            " [0 0 0 0 0]]\n",
            "129.0\n",
            "[[1 1 1 0 1]\n",
            " [0 0 0 1 1]\n",
            " [0 0 0 0 0]\n",
            " [0 0 0 0 0]]\n",
            "132.0\n",
            "[[0 0 1 1 1]\n",
            " [1 1 0 0 1]\n",
            " [0 0 0 0 0]\n",
            " [0 0 0 0 0]]\n",
            "132.0\n",
            "[[0 1 0 1 1]\n",
            " [0 0 0 0 0]\n",
            " [1 0 1 0 1]\n",
            " [0 0 0 0 0]]\n",
            "132.0\n",
            "[[0 1 1 0 1]\n",
            " [0 0 0 0 0]\n",
            " [0 0 0 0 0]\n",
            " [1 0 0 1 1]]\n",
            "132.0\n",
            "[[1 1 1 1 1]\n",
            " [0 0 0 0 0]\n",
            " [0 0 0 0 0]\n",
            " [0 0 0 0 1]]\n",
            "132.0\n",
            "[[1 1 1 1 1]\n",
            " [0 0 0 0 0]\n",
            " [0 0 0 0 1]\n",
            " [0 0 0 0 0]]\n",
            "132.0\n",
            "[[1 1 1 1 1]\n",
            " [0 0 0 0 1]\n",
            " [0 0 0 0 0]\n",
            " [0 0 0 0 0]]\n",
            "136.0\n",
            "[[1 0 0 0 1]\n",
            " [0 1 1 1 1]\n",
            " [0 0 0 0 0]\n",
            " [0 0 0 0 0]]\n",
            "139.0\n",
            "[[0 0 0 0 0]\n",
            " [0 0 0 0 0]\n",
            " [0 1 1 0 1]\n",
            " [1 0 0 1 1]]\n",
            "139.0\n",
            "[[0 0 0 0 0]\n",
            " [0 1 1 0 1]\n",
            " [0 0 0 0 0]\n",
            " [1 0 0 1 1]]\n",
            "139.0\n",
            "[[1 0 0 1 1]\n",
            " [0 0 0 0 0]\n",
            " [0 1 1 0 1]\n",
            " [0 0 0 0 0]]\n",
            "139.0\n",
            "[[1 0 0 1 1]\n",
            " [0 1 1 0 1]\n",
            " [0 0 0 0 0]\n",
            " [0 0 0 0 0]]\n",
            "155.0\n",
            "[[1 0 0 0 1]\n",
            " [0 0 0 0 0]\n",
            " [0 0 0 0 0]\n",
            " [0 1 1 1 1]]\n",
            "158.0\n",
            "[[0 0 0 0 0]\n",
            " [0 1 0 0 1]\n",
            " [0 0 0 0 0]\n",
            " [1 0 1 1 1]]\n",
            "158.0\n",
            "[[0 1 0 0 1]\n",
            " [0 0 0 0 0]\n",
            " [1 0 1 1 1]\n",
            " [0 0 0 0 0]]\n",
            "158.0\n",
            "[[1 1 1 0 1]\n",
            " [0 0 0 0 0]\n",
            " [0 0 0 1 1]\n",
            " [0 0 0 0 0]]\n",
            "161.0\n",
            "[[0 0 1 0 1]\n",
            " [0 0 0 0 0]\n",
            " [0 0 0 0 0]\n",
            " [1 1 0 1 1]]\n",
            "161.0\n",
            "[[1 0 1 1 1]\n",
            " [0 0 0 0 0]\n",
            " [0 0 0 0 0]\n",
            " [0 1 0 0 1]]\n",
            "163.0\n",
            "[[0 1 1 0 1]\n",
            " [1 0 0 1 1]\n",
            " [0 0 0 0 0]\n",
            " [0 0 0 0 0]]\n",
            "164.0\n",
            "[[0 1 1 1 1]\n",
            " [0 0 0 0 0]\n",
            " [1 0 0 0 1]\n",
            " [0 0 0 0 0]]\n",
            "165.0\n",
            "[[1 0 0 0 1]\n",
            " [0 0 0 0 0]\n",
            " [0 1 1 1 1]\n",
            " [0 0 0 0 0]]\n",
            "166.0\n",
            "[[0 1 1 1 1]\n",
            " [1 0 0 0 1]\n",
            " [0 0 0 0 0]\n",
            " [0 0 0 0 0]]\n",
            "168.0\n",
            "[[0 0 0 0 0]\n",
            " [0 0 0 1 1]\n",
            " [1 1 1 0 1]\n",
            " [0 0 0 0 0]]\n",
            "168.0\n",
            "[[0 0 0 0 0]\n",
            " [0 1 1 1 1]\n",
            " [1 0 0 0 1]\n",
            " [0 0 0 0 0]]\n",
            "170.0\n",
            "[[0 0 0 0 0]\n",
            " [1 0 0 1 1]\n",
            " [0 1 1 0 1]\n",
            " [0 0 0 0 0]]\n",
            "170.0\n",
            "[[0 0 0 0 0]\n",
            " [1 0 1 0 1]\n",
            " [0 0 0 0 0]\n",
            " [0 1 0 1 1]]\n",
            "170.0\n",
            "[[0 0 0 0 0]\n",
            " [1 1 1 1 1]\n",
            " [0 0 0 0 0]\n",
            " [0 0 0 0 1]]\n",
            "170.0\n",
            "[[0 0 0 0 0]\n",
            " [1 1 1 1 1]\n",
            " [0 0 0 0 1]\n",
            " [0 0 0 0 0]]\n",
            "170.0\n",
            "[[0 0 0 0 1]\n",
            " [1 1 1 1 1]\n",
            " [0 0 0 0 0]\n",
            " [0 0 0 0 0]]\n",
            "170.0\n",
            "[[1 1 0 0 1]\n",
            " [0 0 1 1 1]\n",
            " [0 0 0 0 0]\n",
            " [0 0 0 0 0]]\n",
            "171.0\n",
            "[[0 0 0 1 1]\n",
            " [0 0 0 0 0]\n",
            " [1 1 1 0 1]\n",
            " [0 0 0 0 0]]\n",
            "171.0\n",
            "[[1 0 1 1 1]\n",
            " [0 0 0 0 0]\n",
            " [0 1 0 0 1]\n",
            " [0 0 0 0 0]]\n",
            "173.0\n",
            "[[0 0 0 1 1]\n",
            " [1 1 1 0 1]\n",
            " [0 0 0 0 0]\n",
            " [0 0 0 0 0]]\n",
            "173.0\n",
            "[[1 1 0 1 1]\n",
            " [0 0 1 0 1]\n",
            " [0 0 0 0 0]\n",
            " [0 0 0 0 0]]\n",
            "187.0\n",
            "[[0 0 0 0 0]\n",
            " [0 0 0 0 0]\n",
            " [1 0 0 0 1]\n",
            " [0 1 1 1 1]]\n",
            "187.0\n",
            "[[0 0 0 0 0]\n",
            " [0 0 0 0 0]\n",
            " [1 0 1 1 1]\n",
            " [0 1 0 0 1]]\n",
            "189.0\n",
            "[[0 0 0 0 0]\n",
            " [1 0 0 0 1]\n",
            " [0 0 0 0 0]\n",
            " [0 1 1 1 1]]\n",
            "189.0\n",
            "[[0 0 0 0 0]\n",
            " [1 1 0 1 1]\n",
            " [0 0 0 0 0]\n",
            " [0 0 1 0 1]]\n",
            "190.0\n",
            "[[0 1 1 0 1]\n",
            " [0 0 0 0 0]\n",
            " [1 0 0 1 1]\n",
            " [0 0 0 0 0]]\n",
            "192.0\n",
            "[[0 1 0 0 1]\n",
            " [0 0 0 0 0]\n",
            " [0 0 0 0 0]\n",
            " [1 0 1 1 1]]\n",
            "192.0\n",
            "[[1 1 0 1 1]\n",
            " [0 0 0 0 0]\n",
            " [0 0 0 0 0]\n",
            " [0 0 1 0 1]]\n",
            "197.0\n",
            "[[0 0 0 0 0]\n",
            " [0 0 0 0 0]\n",
            " [1 1 0 0 1]\n",
            " [0 0 1 1 1]]\n",
            "197.0\n",
            "[[0 0 0 0 0]\n",
            " [0 0 0 0 0]\n",
            " [1 1 1 1 1]\n",
            " [0 0 0 0 1]]\n",
            "197.0\n",
            "[[0 0 0 0 0]\n",
            " [0 0 0 0 1]\n",
            " [1 1 1 1 1]\n",
            " [0 0 0 0 0]]\n",
            "197.0\n",
            "[[0 0 0 0 0]\n",
            " [0 1 1 0 1]\n",
            " [1 0 0 1 1]\n",
            " [0 0 0 0 0]]\n",
            "197.0\n",
            "[[0 0 0 0 1]\n",
            " [0 0 0 0 0]\n",
            " [1 1 1 1 1]\n",
            " [0 0 0 0 0]]\n",
            "197.0\n",
            "[[1 0 1 0 1]\n",
            " [0 0 0 0 0]\n",
            " [0 1 0 1 1]\n",
            " [0 0 0 0 0]]\n",
            "198.0\n",
            "[[0 1 1 1 1]\n",
            " [0 0 0 0 0]\n",
            " [0 0 0 0 0]\n",
            " [1 0 0 0 1]]\n",
            "199.0\n",
            "[[0 0 0 0 0]\n",
            " [1 0 0 0 1]\n",
            " [0 1 1 1 1]\n",
            " [0 0 0 0 0]]\n",
            "199.0\n",
            "[[0 0 0 0 0]\n",
            " [1 1 1 0 1]\n",
            " [0 0 0 1 1]\n",
            " [0 0 0 0 0]]\n",
            "202.0\n",
            "[[0 0 0 0 0]\n",
            " [0 0 1 0 1]\n",
            " [0 0 0 0 0]\n",
            " [1 1 0 1 1]]\n",
            "202.0\n",
            "[[0 0 0 0 0]\n",
            " [0 1 1 1 1]\n",
            " [0 0 0 0 0]\n",
            " [1 0 0 0 1]]\n",
            "203.0\n",
            "[[0 0 1 1 1]\n",
            " [0 0 0 0 0]\n",
            " [1 1 0 0 1]\n",
            " [0 0 0 0 0]]\n",
            "204.0\n",
            "[[0 1 0 0 1]\n",
            " [1 0 1 1 1]\n",
            " [0 0 0 0 0]\n",
            " [0 0 0 0 0]]\n",
            "207.0\n",
            "[[0 1 0 1 1]\n",
            " [1 0 1 0 1]\n",
            " [0 0 0 0 0]\n",
            " [0 0 0 0 0]]\n",
            "221.0\n",
            "[[0 0 0 0 0]\n",
            " [0 0 0 0 0]\n",
            " [0 0 0 0 1]\n",
            " [1 1 1 1 1]]\n",
            "221.0\n",
            "[[0 0 0 0 0]\n",
            " [0 0 0 0 0]\n",
            " [0 0 1 1 1]\n",
            " [1 1 0 0 1]]\n",
            "221.0\n",
            "[[0 0 0 0 0]\n",
            " [0 0 0 0 1]\n",
            " [0 0 0 0 0]\n",
            " [1 1 1 1 1]]\n",
            "221.0\n",
            "[[0 0 0 0 0]\n",
            " [0 1 0 1 1]\n",
            " [0 0 0 0 0]\n",
            " [1 0 1 0 1]]\n",
            "221.0\n",
            "[[0 0 0 0 1]\n",
            " [0 0 0 0 0]\n",
            " [0 0 0 0 0]\n",
            " [1 1 1 1 1]]\n",
            "221.0\n",
            "[[1 0 0 1 1]\n",
            " [0 0 0 0 0]\n",
            " [0 0 0 0 0]\n",
            " [0 1 1 0 1]]\n",
            "227.0\n",
            "[[0 0 1 1 1]\n",
            " [0 0 0 0 0]\n",
            " [0 0 0 0 0]\n",
            " [1 1 0 0 1]]\n",
            "229.0\n",
            "[[0 0 1 0 1]\n",
            " [0 0 0 0 0]\n",
            " [1 1 0 1 1]\n",
            " [0 0 0 0 0]]\n",
            "231.0\n",
            "[[0 0 0 0 0]\n",
            " [0 0 0 0 0]\n",
            " [0 1 0 0 1]\n",
            " [1 0 1 1 1]]\n",
            "231.0\n",
            "[[0 0 0 0 0]\n",
            " [0 0 0 0 0]\n",
            " [0 1 1 1 1]\n",
            " [1 0 0 0 1]]\n",
            "233.0\n",
            "[[0 0 0 0 0]\n",
            " [1 0 1 1 1]\n",
            " [0 0 0 0 0]\n",
            " [0 1 0 0 1]]\n",
            "241.0\n",
            "[[0 0 0 0 0]\n",
            " [0 0 1 1 1]\n",
            " [1 1 0 0 1]\n",
            " [0 0 0 0 0]]\n",
            "243.0\n",
            "[[0 0 0 0 0]\n",
            " [1 0 1 1 1]\n",
            " [0 1 0 0 1]\n",
            " [0 0 0 0 0]]\n",
            "252.0\n",
            "[[0 0 0 0 0]\n",
            " [1 0 0 1 1]\n",
            " [0 0 0 0 0]\n",
            " [0 1 1 0 1]]\n",
            "258.0\n",
            "[[0 1 0 1 1]\n",
            " [0 0 0 0 0]\n",
            " [0 0 0 0 0]\n",
            " [1 0 1 0 1]]\n",
            "265.0\n",
            "[[0 0 0 0 0]\n",
            " [0 0 1 1 1]\n",
            " [0 0 0 0 0]\n",
            " [1 1 0 0 1]]\n",
            "270.0\n",
            "[[0 0 0 0 0]\n",
            " [0 0 1 0 1]\n",
            " [1 1 0 1 1]\n",
            " [0 0 0 0 0]]\n",
            "272.0\n",
            "[[0 0 0 0 0]\n",
            " [1 0 1 0 1]\n",
            " [0 1 0 1 1]\n",
            " [0 0 0 0 0]]\n",
            "279.0\n",
            "[[0 0 0 0 0]\n",
            " [0 0 0 0 0]\n",
            " [1 0 0 1 1]\n",
            " [0 1 1 0 1]]\n",
            "284.0\n",
            "[[0 0 0 0 0]\n",
            " [0 0 0 1 1]\n",
            " [0 0 0 0 0]\n",
            " [1 1 1 0 1]]\n",
            "287.0\n",
            "[[0 0 0 1 1]\n",
            " [0 0 0 0 0]\n",
            " [0 0 0 0 0]\n",
            " [1 1 1 0 1]]\n",
            "289.0\n",
            "[[0 0 0 0 0]\n",
            " [0 0 0 0 0]\n",
            " [1 1 0 1 1]\n",
            " [0 0 1 0 1]]\n",
            "313.0\n",
            "[[0 0 0 0 0]\n",
            " [0 0 0 0 0]\n",
            " [0 0 0 1 1]\n",
            " [1 1 1 0 1]]\n",
            "323.0\n",
            "[[0 0 0 0 0]\n",
            " [0 0 0 0 0]\n",
            " [0 1 0 1 1]\n",
            " [1 0 1 0 1]]\n"
          ]
        }
      ],
      "source": [
        "data = get_dataset('./pmed00.txt')\n",
        "\n",
        "print(data)\n",
        "\n",
        "solutions = linear_solver(data[\"vertices\"], data[\"edges\"], data[\"p\"], data[\"cost_mat\"])\n",
        "\n",
        "solutions.sort(key=lambda s : s[0])\n",
        "\n",
        "\n",
        "print(\"Best cost: \", solutions[0][0])\n",
        "print(\"Best solution matrix: \\n\", solutions[0][1])"
      ]
    },
    {
      "cell_type": "markdown",
      "metadata": {
        "id": "aBLNR9Z_9zQe"
      },
      "source": [
        "## Improved Linear Solution"
      ]
    },
    {
      "cell_type": "markdown",
      "metadata": {
        "id": "KdCCaiu2-BfY"
      },
      "source": [
        "### Class Solution"
      ]
    },
    {
      "cell_type": "code",
      "execution_count": null,
      "metadata": {
        "id": "97DT86Eg-EWm"
      },
      "outputs": [],
      "source": [
        "class Solution:\n",
        "  def __init__(self, vertices: int, p: list, c_mat):\n",
        "    self.v = vertices\n",
        "    self.p = p\n",
        "    self.c_mat = c_mat\n",
        "    # self.s_mat = np.full((vertices, vertices), 0, dtype=int)\n",
        "    self.s_vet = []\n",
        "\n",
        "    # col iterator\n",
        "    self.i = 0\n",
        "\n",
        "    # solution cost\n",
        "    self.c = 0.0\n",
        "\n",
        "    # possible solution\n",
        "    self.impossible = False\n",
        "\n",
        "    self.nancount = 0\n",
        "\n",
        "  # exec sol step\n",
        "  def sol_step(self):\n",
        "    if self.i < self.v:\n",
        "      min_cost_serv = float(\"inf\")\n",
        "      min_cost_serv_ind = None\n",
        "      for serv in self.p:\n",
        "\n",
        "        # if cost not def continue\n",
        "        if np.isnan(self.c_mat[serv][self.i]):\n",
        "          continue\n",
        "\n",
        "        # update cost min\n",
        "        if self.c_mat[serv][self.i] < min_cost_serv:\n",
        "          min_cost_serv = self.c_mat[serv][self.i]\n",
        "          min_cost_serv_ind = serv\n",
        "\n",
        "      # if not find edge sol, is impossible\n",
        "      if min_cost_serv_ind is None :\n",
        "        self.impossible = True;\n",
        "        self.c = float(\"inf\")\n",
        "        self.i = self.v\n",
        "\n",
        "      # update solution\n",
        "      else:\n",
        "        # add sol into v_mat\n",
        "        self.s_vet.append(min_cost_serv_ind)\n",
        "        # iterate col\n",
        "        self.i = self.i + 1\n",
        "        # update cost\n",
        "        self.c = self.c + min_cost_serv\n",
        "\n",
        "  def solved(self):\n",
        "    if self.i < self.v:\n",
        "      return False\n",
        "    else:\n",
        "      return True\n",
        "\n",
        "  def __lt__(self, s):\n",
        "    return self.c < s.c\n",
        "\n",
        "  def __le__(self, s):\n",
        "    return self.c <= s.c\n",
        "\n",
        "  def __eq__(self, s):\n",
        "    return self.c == s.c\n",
        "\n",
        "  def __gt__(self, s):\n",
        "    return self.c > s.c\n",
        "\n",
        "  def __ge__(self, s):\n",
        "    return self.c >= s.c\n",
        "\n"
      ]
    },
    {
      "cell_type": "markdown",
      "source": [
        "### Solver"
      ],
      "metadata": {
        "id": "DWa23cnhyzGm"
      }
    },
    {
      "cell_type": "code",
      "execution_count": null,
      "metadata": {
        "id": "CTvSkpNXDyex"
      },
      "outputs": [],
      "source": [
        "def solver(vertices, edges, p, cost_mat):\n",
        "  solutions = []\n",
        "\n",
        "  # create solutions instances\n",
        "  comb = combinations(range(vertices), p)\n",
        "  for c in list(comb):\n",
        "    s = Solution(vertices, c, cost_mat)\n",
        "    solutions.append(s)\n",
        "\n",
        "  # resolve all solutions\n",
        "  for s in solutions:\n",
        "    while not s.solved():\n",
        "      s.sol_step()\n",
        "  return solutions\n",
        "\n",
        "\n",
        "\n",
        "\n",
        "\n",
        "\n"
      ]
    },
    {
      "cell_type": "markdown",
      "source": [
        "### Execute Solution"
      ],
      "metadata": {
        "id": "eAMoKCbiy3T2"
      }
    },
    {
      "cell_type": "code",
      "source": [
        "h = []\n",
        "\n",
        "for pmed in synthetic_pmeds:\n",
        "  data = get_dataset(pmed)\n",
        "\n",
        "  start_time =  datetime.datetime.now()\n",
        "  solutions = solver(data[\"vertices\"], data[\"edges\"], data[\"p\"], data[\"cost_mat\"])\n",
        "  end_time =  datetime.datetime.now()\n",
        "\n",
        "  solutions.sort()\n",
        "\n",
        "  h.append({\n",
        "      \"file\": pmed,\n",
        "      \"start_time\": start_time,\n",
        "      \"end_time\": end_time,\n",
        "      \"min_cost\": solutions[0].c,\n",
        "      \"s_vet\": solutions[0].s_vet\n",
        "  })\n",
        "  print(h)\n",
        "\n",
        "print(h)"
      ],
      "metadata": {
        "colab": {
          "base_uri": "https://localhost:8080/"
        },
        "id": "hQRRI5MCbWCS",
        "outputId": "8e53a134-a8d0-4b84-8c08-95a017fb0b32"
      },
      "execution_count": null,
      "outputs": [
        {
          "output_type": "stream",
          "name": "stdout",
          "text": [
            "[{'file': 'syntpmed1.txt', 'start_time': datetime.datetime(2023, 7, 10, 15, 44, 29, 317428), 'end_time': datetime.datetime(2023, 7, 10, 15, 44, 29, 320055), 'min_cost': 153.0, 's_vet': [0, 3, 3, 3, 0, 3, 3, 3, 0, 3]}]\n",
            "[{'file': 'syntpmed1.txt', 'start_time': datetime.datetime(2023, 7, 10, 15, 44, 29, 317428), 'end_time': datetime.datetime(2023, 7, 10, 15, 44, 29, 320055), 'min_cost': 153.0, 's_vet': [0, 3, 3, 3, 0, 3, 3, 3, 0, 3]}, {'file': 'syntpmed2.txt', 'start_time': datetime.datetime(2023, 7, 10, 15, 44, 29, 321443), 'end_time': datetime.datetime(2023, 7, 10, 15, 44, 29, 350523), 'min_cost': 349.0, 's_vet': [19, 11, 19, 11, 19, 11, 11, 11, 19, 19, 11, 11, 11, 19, 11, 19, 19, 11, 19, 19]}]\n",
            "[{'file': 'syntpmed1.txt', 'start_time': datetime.datetime(2023, 7, 10, 15, 44, 29, 317428), 'end_time': datetime.datetime(2023, 7, 10, 15, 44, 29, 320055), 'min_cost': 153.0, 's_vet': [0, 3, 3, 3, 0, 3, 3, 3, 0, 3]}, {'file': 'syntpmed2.txt', 'start_time': datetime.datetime(2023, 7, 10, 15, 44, 29, 321443), 'end_time': datetime.datetime(2023, 7, 10, 15, 44, 29, 350523), 'min_cost': 349.0, 's_vet': [19, 11, 19, 11, 19, 11, 11, 11, 19, 19, 11, 11, 11, 19, 11, 19, 19, 11, 19, 19]}, {'file': 'syntpmed3.txt', 'start_time': datetime.datetime(2023, 7, 10, 15, 44, 29, 353300), 'end_time': datetime.datetime(2023, 7, 10, 15, 44, 29, 682729), 'min_cost': 1239.0, 's_vet': [42, 1, 1, 42, 42, 1, 42, 1, 42, 1, 1, 42, 42, 42, 42, 42, 42, 1, 1, 1, 42, 42, 42, 42, 1, 1, 42, 1, 42, 1, 1, 1, 1, 1, 42, 42, 1, 1, 42, 1, 42, 42, 42, 42, 42, 42, 42, 1, 42, 42]}]\n",
            "[{'file': 'syntpmed1.txt', 'start_time': datetime.datetime(2023, 7, 10, 15, 44, 29, 317428), 'end_time': datetime.datetime(2023, 7, 10, 15, 44, 29, 320055), 'min_cost': 153.0, 's_vet': [0, 3, 3, 3, 0, 3, 3, 3, 0, 3]}, {'file': 'syntpmed2.txt', 'start_time': datetime.datetime(2023, 7, 10, 15, 44, 29, 321443), 'end_time': datetime.datetime(2023, 7, 10, 15, 44, 29, 350523), 'min_cost': 349.0, 's_vet': [19, 11, 19, 11, 19, 11, 11, 11, 19, 19, 11, 11, 11, 19, 11, 19, 19, 11, 19, 19]}, {'file': 'syntpmed3.txt', 'start_time': datetime.datetime(2023, 7, 10, 15, 44, 29, 353300), 'end_time': datetime.datetime(2023, 7, 10, 15, 44, 29, 682729), 'min_cost': 1239.0, 's_vet': [42, 1, 1, 42, 42, 1, 42, 1, 42, 1, 1, 42, 42, 42, 42, 42, 42, 1, 1, 1, 42, 42, 42, 42, 1, 1, 42, 1, 42, 1, 1, 1, 1, 1, 42, 42, 1, 1, 42, 1, 42, 42, 42, 42, 42, 42, 42, 1, 42, 42]}, {'file': 'syntpmed4.txt', 'start_time': datetime.datetime(2023, 7, 10, 15, 44, 29, 690189), 'end_time': datetime.datetime(2023, 7, 10, 15, 44, 30, 592899), 'min_cost': 1710.0, 's_vet': [48, 3, 48, 3, 48, 3, 48, 48, 48, 48, 48, 48, 3, 3, 3, 3, 48, 48, 3, 48, 3, 48, 48, 3, 3, 3, 48, 3, 3, 3, 3, 48, 48, 3, 3, 3, 3, 3, 3, 48, 3, 48, 3, 48, 48, 3, 48, 48, 48, 48, 3, 48, 48, 3, 3, 48, 3, 48, 3, 48, 48, 48, 48, 3, 48, 48, 48, 48, 3, 48]}]\n",
            "[{'file': 'syntpmed1.txt', 'start_time': datetime.datetime(2023, 7, 10, 15, 44, 29, 317428), 'end_time': datetime.datetime(2023, 7, 10, 15, 44, 29, 320055), 'min_cost': 153.0, 's_vet': [0, 3, 3, 3, 0, 3, 3, 3, 0, 3]}, {'file': 'syntpmed2.txt', 'start_time': datetime.datetime(2023, 7, 10, 15, 44, 29, 321443), 'end_time': datetime.datetime(2023, 7, 10, 15, 44, 29, 350523), 'min_cost': 349.0, 's_vet': [19, 11, 19, 11, 19, 11, 11, 11, 19, 19, 11, 11, 11, 19, 11, 19, 19, 11, 19, 19]}, {'file': 'syntpmed3.txt', 'start_time': datetime.datetime(2023, 7, 10, 15, 44, 29, 353300), 'end_time': datetime.datetime(2023, 7, 10, 15, 44, 29, 682729), 'min_cost': 1239.0, 's_vet': [42, 1, 1, 42, 42, 1, 42, 1, 42, 1, 1, 42, 42, 42, 42, 42, 42, 1, 1, 1, 42, 42, 42, 42, 1, 1, 42, 1, 42, 1, 1, 1, 1, 1, 42, 42, 1, 1, 42, 1, 42, 42, 42, 42, 42, 42, 42, 1, 42, 42]}, {'file': 'syntpmed4.txt', 'start_time': datetime.datetime(2023, 7, 10, 15, 44, 29, 690189), 'end_time': datetime.datetime(2023, 7, 10, 15, 44, 30, 592899), 'min_cost': 1710.0, 's_vet': [48, 3, 48, 3, 48, 3, 48, 48, 48, 48, 48, 48, 3, 3, 3, 3, 48, 48, 3, 48, 3, 48, 48, 3, 3, 3, 48, 3, 3, 3, 3, 48, 48, 3, 3, 3, 3, 3, 3, 48, 3, 48, 3, 48, 48, 3, 48, 48, 48, 48, 3, 48, 48, 3, 3, 48, 3, 48, 3, 48, 48, 48, 48, 3, 48, 48, 48, 48, 3, 48]}, {'file': 'syntpmed5.txt', 'start_time': datetime.datetime(2023, 7, 10, 15, 44, 30, 596959), 'end_time': datetime.datetime(2023, 7, 10, 15, 44, 30, 628045), 'min_cost': 67.0, 's_vet': [0, 1, 2, 3, 5, 5, 5, 1, 1, 3]}]\n",
            "[{'file': 'syntpmed1.txt', 'start_time': datetime.datetime(2023, 7, 10, 15, 44, 29, 317428), 'end_time': datetime.datetime(2023, 7, 10, 15, 44, 29, 320055), 'min_cost': 153.0, 's_vet': [0, 3, 3, 3, 0, 3, 3, 3, 0, 3]}, {'file': 'syntpmed2.txt', 'start_time': datetime.datetime(2023, 7, 10, 15, 44, 29, 321443), 'end_time': datetime.datetime(2023, 7, 10, 15, 44, 29, 350523), 'min_cost': 349.0, 's_vet': [19, 11, 19, 11, 19, 11, 11, 11, 19, 19, 11, 11, 11, 19, 11, 19, 19, 11, 19, 19]}, {'file': 'syntpmed3.txt', 'start_time': datetime.datetime(2023, 7, 10, 15, 44, 29, 353300), 'end_time': datetime.datetime(2023, 7, 10, 15, 44, 29, 682729), 'min_cost': 1239.0, 's_vet': [42, 1, 1, 42, 42, 1, 42, 1, 42, 1, 1, 42, 42, 42, 42, 42, 42, 1, 1, 1, 42, 42, 42, 42, 1, 1, 42, 1, 42, 1, 1, 1, 1, 1, 42, 42, 1, 1, 42, 1, 42, 42, 42, 42, 42, 42, 42, 1, 42, 42]}, {'file': 'syntpmed4.txt', 'start_time': datetime.datetime(2023, 7, 10, 15, 44, 29, 690189), 'end_time': datetime.datetime(2023, 7, 10, 15, 44, 30, 592899), 'min_cost': 1710.0, 's_vet': [48, 3, 48, 3, 48, 3, 48, 48, 48, 48, 48, 48, 3, 3, 3, 3, 48, 48, 3, 48, 3, 48, 48, 3, 3, 3, 48, 3, 3, 3, 3, 48, 48, 3, 3, 3, 3, 3, 3, 48, 3, 48, 3, 48, 48, 3, 48, 48, 48, 48, 3, 48, 48, 3, 3, 48, 3, 48, 3, 48, 48, 48, 48, 3, 48, 48, 48, 48, 3, 48]}, {'file': 'syntpmed5.txt', 'start_time': datetime.datetime(2023, 7, 10, 15, 44, 30, 596959), 'end_time': datetime.datetime(2023, 7, 10, 15, 44, 30, 628045), 'min_cost': 67.0, 's_vet': [0, 1, 2, 3, 5, 5, 5, 1, 1, 3]}, {'file': 'syntpmed6.txt', 'start_time': datetime.datetime(2023, 7, 10, 15, 44, 30, 629316), 'end_time': datetime.datetime(2023, 7, 10, 15, 44, 34, 225665), 'min_cost': 99.0, 's_vet': [18, 11, 14, 13, 4, 14, 4, 14, 13, 4, 4, 11, 14, 13, 14, 4, 18, 11, 18, 13]}]\n",
            "[{'file': 'syntpmed1.txt', 'start_time': datetime.datetime(2023, 7, 10, 15, 44, 29, 317428), 'end_time': datetime.datetime(2023, 7, 10, 15, 44, 29, 320055), 'min_cost': 153.0, 's_vet': [0, 3, 3, 3, 0, 3, 3, 3, 0, 3]}, {'file': 'syntpmed2.txt', 'start_time': datetime.datetime(2023, 7, 10, 15, 44, 29, 321443), 'end_time': datetime.datetime(2023, 7, 10, 15, 44, 29, 350523), 'min_cost': 349.0, 's_vet': [19, 11, 19, 11, 19, 11, 11, 11, 19, 19, 11, 11, 11, 19, 11, 19, 19, 11, 19, 19]}, {'file': 'syntpmed3.txt', 'start_time': datetime.datetime(2023, 7, 10, 15, 44, 29, 353300), 'end_time': datetime.datetime(2023, 7, 10, 15, 44, 29, 682729), 'min_cost': 1239.0, 's_vet': [42, 1, 1, 42, 42, 1, 42, 1, 42, 1, 1, 42, 42, 42, 42, 42, 42, 1, 1, 1, 42, 42, 42, 42, 1, 1, 42, 1, 42, 1, 1, 1, 1, 1, 42, 42, 1, 1, 42, 1, 42, 42, 42, 42, 42, 42, 42, 1, 42, 42]}, {'file': 'syntpmed4.txt', 'start_time': datetime.datetime(2023, 7, 10, 15, 44, 29, 690189), 'end_time': datetime.datetime(2023, 7, 10, 15, 44, 30, 592899), 'min_cost': 1710.0, 's_vet': [48, 3, 48, 3, 48, 3, 48, 48, 48, 48, 48, 48, 3, 3, 3, 3, 48, 48, 3, 48, 3, 48, 48, 3, 3, 3, 48, 3, 3, 3, 3, 48, 48, 3, 3, 3, 3, 3, 3, 48, 3, 48, 3, 48, 48, 3, 48, 48, 48, 48, 3, 48, 48, 3, 3, 48, 3, 48, 3, 48, 48, 48, 48, 3, 48, 48, 48, 48, 3, 48]}, {'file': 'syntpmed5.txt', 'start_time': datetime.datetime(2023, 7, 10, 15, 44, 30, 596959), 'end_time': datetime.datetime(2023, 7, 10, 15, 44, 30, 628045), 'min_cost': 67.0, 's_vet': [0, 1, 2, 3, 5, 5, 5, 1, 1, 3]}, {'file': 'syntpmed6.txt', 'start_time': datetime.datetime(2023, 7, 10, 15, 44, 30, 629316), 'end_time': datetime.datetime(2023, 7, 10, 15, 44, 34, 225665), 'min_cost': 99.0, 's_vet': [18, 11, 14, 13, 4, 14, 4, 14, 13, 4, 4, 11, 14, 13, 14, 4, 18, 11, 18, 13]}, {'file': 'syntpmed7.txt', 'start_time': datetime.datetime(2023, 7, 10, 15, 44, 34, 250925), 'end_time': datetime.datetime(2023, 7, 10, 16, 4, 44, 411198), 'min_cost': 356.0, 's_vet': [11, 31, 7, 31, 31, 7, 21, 7, 21, 31, 10, 11, 31, 21, 11, 11, 7, 10, 11, 7, 21, 21, 21, 31, 21, 10, 10, 7, 7, 7, 21, 31, 10, 10, 21, 11, 21, 7, 7, 11, 10, 10, 31, 11, 21, 31, 21, 11, 7, 21]}]\n",
            "[{'file': 'syntpmed1.txt', 'start_time': datetime.datetime(2023, 7, 10, 15, 44, 29, 317428), 'end_time': datetime.datetime(2023, 7, 10, 15, 44, 29, 320055), 'min_cost': 153.0, 's_vet': [0, 3, 3, 3, 0, 3, 3, 3, 0, 3]}, {'file': 'syntpmed2.txt', 'start_time': datetime.datetime(2023, 7, 10, 15, 44, 29, 321443), 'end_time': datetime.datetime(2023, 7, 10, 15, 44, 29, 350523), 'min_cost': 349.0, 's_vet': [19, 11, 19, 11, 19, 11, 11, 11, 19, 19, 11, 11, 11, 19, 11, 19, 19, 11, 19, 19]}, {'file': 'syntpmed3.txt', 'start_time': datetime.datetime(2023, 7, 10, 15, 44, 29, 353300), 'end_time': datetime.datetime(2023, 7, 10, 15, 44, 29, 682729), 'min_cost': 1239.0, 's_vet': [42, 1, 1, 42, 42, 1, 42, 1, 42, 1, 1, 42, 42, 42, 42, 42, 42, 1, 1, 1, 42, 42, 42, 42, 1, 1, 42, 1, 42, 1, 1, 1, 1, 1, 42, 42, 1, 1, 42, 1, 42, 42, 42, 42, 42, 42, 42, 1, 42, 42]}, {'file': 'syntpmed4.txt', 'start_time': datetime.datetime(2023, 7, 10, 15, 44, 29, 690189), 'end_time': datetime.datetime(2023, 7, 10, 15, 44, 30, 592899), 'min_cost': 1710.0, 's_vet': [48, 3, 48, 3, 48, 3, 48, 48, 48, 48, 48, 48, 3, 3, 3, 3, 48, 48, 3, 48, 3, 48, 48, 3, 3, 3, 48, 3, 3, 3, 3, 48, 48, 3, 3, 3, 3, 3, 3, 48, 3, 48, 3, 48, 48, 3, 48, 48, 48, 48, 3, 48, 48, 3, 3, 48, 3, 48, 3, 48, 48, 48, 48, 3, 48, 48, 48, 48, 3, 48]}, {'file': 'syntpmed5.txt', 'start_time': datetime.datetime(2023, 7, 10, 15, 44, 30, 596959), 'end_time': datetime.datetime(2023, 7, 10, 15, 44, 30, 628045), 'min_cost': 67.0, 's_vet': [0, 1, 2, 3, 5, 5, 5, 1, 1, 3]}, {'file': 'syntpmed6.txt', 'start_time': datetime.datetime(2023, 7, 10, 15, 44, 30, 629316), 'end_time': datetime.datetime(2023, 7, 10, 15, 44, 34, 225665), 'min_cost': 99.0, 's_vet': [18, 11, 14, 13, 4, 14, 4, 14, 13, 4, 4, 11, 14, 13, 14, 4, 18, 11, 18, 13]}, {'file': 'syntpmed7.txt', 'start_time': datetime.datetime(2023, 7, 10, 15, 44, 34, 250925), 'end_time': datetime.datetime(2023, 7, 10, 16, 4, 44, 411198), 'min_cost': 356.0, 's_vet': [11, 31, 7, 31, 31, 7, 21, 7, 21, 31, 10, 11, 31, 21, 11, 11, 7, 10, 11, 7, 21, 21, 21, 31, 21, 10, 10, 7, 7, 7, 21, 31, 10, 10, 21, 11, 21, 7, 7, 11, 10, 10, 31, 11, 21, 31, 21, 11, 7, 21]}, {'file': 'syntpmed8.txt', 'start_time': datetime.datetime(2023, 7, 10, 16, 4, 48, 193054), 'end_time': datetime.datetime(2023, 7, 10, 18, 45, 54, 757729), 'min_cost': 535.0, 's_vet': [60, 65, 43, 58, 60, 58, 11, 43, 60, 65, 65, 11, 60, 65, 43, 11, 11, 65, 60, 58, 58, 58, 60, 43, 65, 65, 65, 58, 11, 60, 60, 43, 65, 60, 43, 58, 43, 11, 11, 43, 65, 65, 58, 43, 58, 60, 60, 11, 58, 58, 58, 11, 58, 60, 65, 60, 65, 60, 58, 60, 60, 60, 65, 60, 43, 65, 11, 58, 43, 58]}]\n"
          ]
        }
      ]
    },
    {
      "cell_type": "code",
      "source": [
        "h_df = pd.DataFrame(h)\n",
        "print(h_df)\n",
        "h_df.to_csv(\"linear_sol.csv\")"
      ],
      "metadata": {
        "id": "kUck5NhvnySd"
      },
      "execution_count": null,
      "outputs": []
    },
    {
      "cell_type": "markdown",
      "metadata": {
        "id": "PswgAvlJyr3x"
      },
      "source": [
        "## Linear Solution with Heuristics"
      ]
    },
    {
      "cell_type": "markdown",
      "source": [
        "### Solver"
      ],
      "metadata": {
        "id": "yXP7jW81y9Y-"
      }
    },
    {
      "cell_type": "code",
      "execution_count": null,
      "metadata": {
        "id": "Nu-zn-_zyr35"
      },
      "outputs": [],
      "source": [
        "def heuristic_solver(vertices, edges, p, cost_mat):\n",
        "  solutions = []\n",
        "\n",
        "  # create solutions instances\n",
        "  comb = combinations(range(vertices), p)\n",
        "  for c in list(comb):\n",
        "    s = Solution(vertices, c, cost_mat)\n",
        "    solutions.append(s)\n",
        "\n",
        "  # get first of priority queue\n",
        "  s = solutions[0]\n",
        "  while not s.solved() and not s.impossible:\n",
        "\n",
        "    # sol step first of heap\n",
        "    s.sol_step()\n",
        "\n",
        "    if s.impossible:\n",
        "      heapq.heappop(solutions)\n",
        "\n",
        "    # heapify heap\n",
        "    heapq.heapify(solutions)\n",
        "    # get most promising solution\n",
        "    s = solutions[0]\n",
        "\n",
        "  return solutions"
      ]
    },
    {
      "cell_type": "code",
      "source": [
        "h = []\n",
        "\n",
        "for pmed in synthetic_pmeds:\n",
        "  data = get_dataset(pmed)\n",
        "\n",
        "  start_time =  datetime.datetime.now()\n",
        "  solutions = heuristic_solver(data[\"vertices\"], data[\"edges\"], data[\"p\"], data[\"cost_mat\"])\n",
        "  end_time =  datetime.datetime.now()\n",
        "\n",
        "  solutions.sort()\n",
        "\n",
        "  h.append({\n",
        "      \"file\": pmed,\n",
        "      \"start_time\": start_time,\n",
        "      \"end_time\": end_time,\n",
        "      \"min_cost\": solutions[0].c,\n",
        "      \"s_vet\": solutions[0].s_vet\n",
        "  })\n",
        "  print(h)\n",
        "\n",
        "print(h)"
      ],
      "metadata": {
        "id": "Km5YLX4ioXIM"
      },
      "execution_count": null,
      "outputs": []
    },
    {
      "cell_type": "code",
      "source": [
        "h_df = pd.DataFrame(h)\n",
        "print(h_df)\n",
        "h_df.to_csv(\"heuristic_old_sol.csv\")"
      ],
      "metadata": {
        "id": "ODDu9inxorvO"
      },
      "execution_count": null,
      "outputs": []
    },
    {
      "cell_type": "markdown",
      "metadata": {
        "id": "hQZyP2kQR_Zv"
      },
      "source": [
        "## Myopic Solution"
      ]
    },
    {
      "cell_type": "markdown",
      "source": [
        "### Solver"
      ],
      "metadata": {
        "id": "tS_dHBu_R_Z7"
      }
    },
    {
      "cell_type": "code",
      "execution_count": null,
      "metadata": {
        "id": "McH9bFf-R_Z8"
      },
      "outputs": [],
      "source": [
        "def heuristic_myopic_solver(vertices, edges, p, cost_mat):\n",
        "  # solutions = []\n",
        "\n",
        "  # create solutions instances\n",
        "  solution_candidate = []\n",
        "  s = None\n",
        "  while len(solution_candidate) < p:\n",
        "    s_list = solution_candidate.copy()\n",
        "    s_list_temp = solution_candidate.copy()\n",
        "    s_list_temp.append(-1)\n",
        "    s_cost = float(\"inf\")\n",
        "    s_temp = None\n",
        "\n",
        "    for i in range(vertices):\n",
        "      if i not in s_list:\n",
        "        s_list_temp[len(solution_candidate)] = i\n",
        "        s_temp = Solution(vertices, s_list_temp, cost_mat)\n",
        "\n",
        "        while not s_temp.solved():\n",
        "          s_temp.sol_step()\n",
        "\n",
        "        if s_cost > s_temp.c:\n",
        "          # print(s_temp.c)\n",
        "          s_list = s_list_temp\n",
        "          s_cost = s_temp.c\n",
        "          s = s_temp\n",
        "\n",
        "    solution_candidate = s_list\n",
        "  return s, solution_candidate"
      ]
    },
    {
      "cell_type": "code",
      "source": [
        "h = []\n",
        "\n",
        "for pmed in synthetic_pmeds:\n",
        "  data = get_dataset(pmed)\n",
        "\n",
        "  start_time =  datetime.datetime.now()\n",
        "  solutions = heuristic_myopic_solver(data[\"vertices\"], data[\"edges\"], data[\"p\"], data[\"cost_mat\"])\n",
        "  end_time =  datetime.datetime.now()\n",
        "\n",
        "  # solutions.sort()\n",
        "\n",
        "  h.append({\n",
        "      \"file\": pmed,\n",
        "      \"start_time\": start_time,\n",
        "      \"end_time\": end_time,\n",
        "      \"min_cost\": solutions[0].c,\n",
        "      \"s_vet\": solutions[0].s_vet\n",
        "  })\n",
        "  print(h)\n",
        "\n",
        "print(h)"
      ],
      "metadata": {
        "colab": {
          "base_uri": "https://localhost:8080/"
        },
        "id": "eHVaaXKER_Z8",
        "outputId": "f19d7305-9d9f-46d0-9efd-6356e55628f7"
      },
      "execution_count": null,
      "outputs": [
        {
          "output_type": "stream",
          "name": "stdout",
          "text": [
            "[{'file': 'syntpmed1.txt', 'start_time': datetime.datetime(2023, 7, 10, 19, 55, 35, 868846), 'end_time': datetime.datetime(2023, 7, 10, 19, 55, 35, 869836), 'min_cost': 215.0, 's_vet': [3, 3, 3, 3, 3, 3, 3, 3, 9, 9]}]\n",
            "[{'file': 'syntpmed1.txt', 'start_time': datetime.datetime(2023, 7, 10, 19, 55, 35, 868846), 'end_time': datetime.datetime(2023, 7, 10, 19, 55, 35, 869836), 'min_cost': 215.0, 's_vet': [3, 3, 3, 3, 3, 3, 3, 3, 9, 9]}, {'file': 'syntpmed2.txt', 'start_time': datetime.datetime(2023, 7, 10, 19, 55, 35, 871403), 'end_time': datetime.datetime(2023, 7, 10, 19, 55, 35, 874908), 'min_cost': 349.0, 's_vet': [19, 11, 19, 11, 19, 11, 11, 11, 19, 19, 11, 11, 11, 19, 11, 19, 19, 11, 19, 19]}]\n",
            "[{'file': 'syntpmed1.txt', 'start_time': datetime.datetime(2023, 7, 10, 19, 55, 35, 868846), 'end_time': datetime.datetime(2023, 7, 10, 19, 55, 35, 869836), 'min_cost': 215.0, 's_vet': [3, 3, 3, 3, 3, 3, 3, 3, 9, 9]}, {'file': 'syntpmed2.txt', 'start_time': datetime.datetime(2023, 7, 10, 19, 55, 35, 871403), 'end_time': datetime.datetime(2023, 7, 10, 19, 55, 35, 874908), 'min_cost': 349.0, 's_vet': [19, 11, 19, 11, 19, 11, 11, 11, 19, 19, 11, 11, 11, 19, 11, 19, 19, 11, 19, 19]}, {'file': 'syntpmed3.txt', 'start_time': datetime.datetime(2023, 7, 10, 19, 55, 35, 878548), 'end_time': datetime.datetime(2023, 7, 10, 19, 55, 35, 900404), 'min_cost': 1383.0, 's_vet': [49, 35, 35, 49, 49, 49, 35, 49, 49, 49, 35, 35, 35, 49, 49, 35, 49, 49, 35, 35, 35, 49, 35, 35, 35, 35, 35, 35, 49, 49, 35, 49, 49, 35, 49, 35, 49, 35, 35, 35, 35, 49, 35, 35, 49, 49, 35, 49, 35, 49]}]\n",
            "[{'file': 'syntpmed1.txt', 'start_time': datetime.datetime(2023, 7, 10, 19, 55, 35, 868846), 'end_time': datetime.datetime(2023, 7, 10, 19, 55, 35, 869836), 'min_cost': 215.0, 's_vet': [3, 3, 3, 3, 3, 3, 3, 3, 9, 9]}, {'file': 'syntpmed2.txt', 'start_time': datetime.datetime(2023, 7, 10, 19, 55, 35, 871403), 'end_time': datetime.datetime(2023, 7, 10, 19, 55, 35, 874908), 'min_cost': 349.0, 's_vet': [19, 11, 19, 11, 19, 11, 11, 11, 19, 19, 11, 11, 11, 19, 11, 19, 19, 11, 19, 19]}, {'file': 'syntpmed3.txt', 'start_time': datetime.datetime(2023, 7, 10, 19, 55, 35, 878548), 'end_time': datetime.datetime(2023, 7, 10, 19, 55, 35, 900404), 'min_cost': 1383.0, 's_vet': [49, 35, 35, 49, 49, 49, 35, 49, 49, 49, 35, 35, 35, 49, 49, 35, 49, 49, 35, 35, 35, 49, 35, 35, 35, 35, 35, 35, 49, 49, 35, 49, 49, 35, 49, 35, 49, 35, 35, 35, 35, 49, 35, 35, 49, 49, 35, 49, 35, 49]}, {'file': 'syntpmed4.txt', 'start_time': datetime.datetime(2023, 7, 10, 19, 55, 35, 907654), 'end_time': datetime.datetime(2023, 7, 10, 19, 55, 35, 953375), 'min_cost': 1886.0, 's_vet': [69, 69, 69, 53, 69, 69, 53, 53, 69, 53, 53, 69, 53, 69, 53, 53, 69, 53, 53, 53, 53, 53, 53, 53, 53, 53, 53, 53, 53, 69, 53, 69, 53, 53, 53, 69, 69, 53, 53, 53, 53, 69, 69, 69, 53, 53, 69, 53, 69, 69, 69, 69, 69, 53, 69, 69, 69, 69, 69, 53, 69, 69, 69, 69, 53, 69, 53, 69, 53, 69]}]\n",
            "[{'file': 'syntpmed1.txt', 'start_time': datetime.datetime(2023, 7, 10, 19, 55, 35, 868846), 'end_time': datetime.datetime(2023, 7, 10, 19, 55, 35, 869836), 'min_cost': 215.0, 's_vet': [3, 3, 3, 3, 3, 3, 3, 3, 9, 9]}, {'file': 'syntpmed2.txt', 'start_time': datetime.datetime(2023, 7, 10, 19, 55, 35, 871403), 'end_time': datetime.datetime(2023, 7, 10, 19, 55, 35, 874908), 'min_cost': 349.0, 's_vet': [19, 11, 19, 11, 19, 11, 11, 11, 19, 19, 11, 11, 11, 19, 11, 19, 19, 11, 19, 19]}, {'file': 'syntpmed3.txt', 'start_time': datetime.datetime(2023, 7, 10, 19, 55, 35, 878548), 'end_time': datetime.datetime(2023, 7, 10, 19, 55, 35, 900404), 'min_cost': 1383.0, 's_vet': [49, 35, 35, 49, 49, 49, 35, 49, 49, 49, 35, 35, 35, 49, 49, 35, 49, 49, 35, 35, 35, 49, 35, 35, 35, 35, 35, 35, 49, 49, 35, 49, 49, 35, 49, 35, 49, 35, 35, 35, 35, 49, 35, 35, 49, 49, 35, 49, 35, 49]}, {'file': 'syntpmed4.txt', 'start_time': datetime.datetime(2023, 7, 10, 19, 55, 35, 907654), 'end_time': datetime.datetime(2023, 7, 10, 19, 55, 35, 953375), 'min_cost': 1886.0, 's_vet': [69, 69, 69, 53, 69, 69, 53, 53, 69, 53, 53, 69, 53, 69, 53, 53, 69, 53, 53, 53, 53, 53, 53, 53, 53, 53, 53, 53, 53, 69, 53, 69, 53, 53, 53, 69, 69, 53, 53, 53, 53, 69, 69, 69, 53, 53, 69, 53, 69, 69, 69, 69, 69, 53, 69, 69, 69, 69, 69, 53, 69, 69, 69, 69, 53, 69, 53, 69, 53, 69]}, {'file': 'syntpmed5.txt', 'start_time': datetime.datetime(2023, 7, 10, 19, 55, 35, 954395), 'end_time': datetime.datetime(2023, 7, 10, 19, 55, 35, 957337), 'min_cost': 83.0, 's_vet': [0, 8, 9, 9, 7, 6, 6, 7, 8, 9]}]\n",
            "[{'file': 'syntpmed1.txt', 'start_time': datetime.datetime(2023, 7, 10, 19, 55, 35, 868846), 'end_time': datetime.datetime(2023, 7, 10, 19, 55, 35, 869836), 'min_cost': 215.0, 's_vet': [3, 3, 3, 3, 3, 3, 3, 3, 9, 9]}, {'file': 'syntpmed2.txt', 'start_time': datetime.datetime(2023, 7, 10, 19, 55, 35, 871403), 'end_time': datetime.datetime(2023, 7, 10, 19, 55, 35, 874908), 'min_cost': 349.0, 's_vet': [19, 11, 19, 11, 19, 11, 11, 11, 19, 19, 11, 11, 11, 19, 11, 19, 19, 11, 19, 19]}, {'file': 'syntpmed3.txt', 'start_time': datetime.datetime(2023, 7, 10, 19, 55, 35, 878548), 'end_time': datetime.datetime(2023, 7, 10, 19, 55, 35, 900404), 'min_cost': 1383.0, 's_vet': [49, 35, 35, 49, 49, 49, 35, 49, 49, 49, 35, 35, 35, 49, 49, 35, 49, 49, 35, 35, 35, 49, 35, 35, 35, 35, 35, 35, 49, 49, 35, 49, 49, 35, 49, 35, 49, 35, 35, 35, 35, 49, 35, 35, 49, 49, 35, 49, 35, 49]}, {'file': 'syntpmed4.txt', 'start_time': datetime.datetime(2023, 7, 10, 19, 55, 35, 907654), 'end_time': datetime.datetime(2023, 7, 10, 19, 55, 35, 953375), 'min_cost': 1886.0, 's_vet': [69, 69, 69, 53, 69, 69, 53, 53, 69, 53, 53, 69, 53, 69, 53, 53, 69, 53, 53, 53, 53, 53, 53, 53, 53, 53, 53, 53, 53, 69, 53, 69, 53, 53, 53, 69, 69, 53, 53, 53, 53, 69, 69, 69, 53, 53, 69, 53, 69, 69, 69, 69, 69, 53, 69, 69, 69, 69, 69, 53, 69, 69, 69, 69, 53, 69, 53, 69, 53, 69]}, {'file': 'syntpmed5.txt', 'start_time': datetime.datetime(2023, 7, 10, 19, 55, 35, 954395), 'end_time': datetime.datetime(2023, 7, 10, 19, 55, 35, 957337), 'min_cost': 83.0, 's_vet': [0, 8, 9, 9, 7, 6, 6, 7, 8, 9]}, {'file': 'syntpmed6.txt', 'start_time': datetime.datetime(2023, 7, 10, 19, 55, 35, 958262), 'end_time': datetime.datetime(2023, 7, 10, 19, 55, 35, 971809), 'min_cost': 175.0, 's_vet': [18, 19, 2, 17, 2, 19, 16, 2, 18, 2, 2, 17, 19, 19, 2, 16, 16, 17, 18, 19]}]\n",
            "[{'file': 'syntpmed1.txt', 'start_time': datetime.datetime(2023, 7, 10, 19, 55, 35, 868846), 'end_time': datetime.datetime(2023, 7, 10, 19, 55, 35, 869836), 'min_cost': 215.0, 's_vet': [3, 3, 3, 3, 3, 3, 3, 3, 9, 9]}, {'file': 'syntpmed2.txt', 'start_time': datetime.datetime(2023, 7, 10, 19, 55, 35, 871403), 'end_time': datetime.datetime(2023, 7, 10, 19, 55, 35, 874908), 'min_cost': 349.0, 's_vet': [19, 11, 19, 11, 19, 11, 11, 11, 19, 19, 11, 11, 11, 19, 11, 19, 19, 11, 19, 19]}, {'file': 'syntpmed3.txt', 'start_time': datetime.datetime(2023, 7, 10, 19, 55, 35, 878548), 'end_time': datetime.datetime(2023, 7, 10, 19, 55, 35, 900404), 'min_cost': 1383.0, 's_vet': [49, 35, 35, 49, 49, 49, 35, 49, 49, 49, 35, 35, 35, 49, 49, 35, 49, 49, 35, 35, 35, 49, 35, 35, 35, 35, 35, 35, 49, 49, 35, 49, 49, 35, 49, 35, 49, 35, 35, 35, 35, 49, 35, 35, 49, 49, 35, 49, 35, 49]}, {'file': 'syntpmed4.txt', 'start_time': datetime.datetime(2023, 7, 10, 19, 55, 35, 907654), 'end_time': datetime.datetime(2023, 7, 10, 19, 55, 35, 953375), 'min_cost': 1886.0, 's_vet': [69, 69, 69, 53, 69, 69, 53, 53, 69, 53, 53, 69, 53, 69, 53, 53, 69, 53, 53, 53, 53, 53, 53, 53, 53, 53, 53, 53, 53, 69, 53, 69, 53, 53, 53, 69, 69, 53, 53, 53, 53, 69, 69, 69, 53, 53, 69, 53, 69, 69, 69, 69, 69, 53, 69, 69, 69, 69, 69, 53, 69, 69, 69, 69, 53, 69, 53, 69, 53, 69]}, {'file': 'syntpmed5.txt', 'start_time': datetime.datetime(2023, 7, 10, 19, 55, 35, 954395), 'end_time': datetime.datetime(2023, 7, 10, 19, 55, 35, 957337), 'min_cost': 83.0, 's_vet': [0, 8, 9, 9, 7, 6, 6, 7, 8, 9]}, {'file': 'syntpmed6.txt', 'start_time': datetime.datetime(2023, 7, 10, 19, 55, 35, 958262), 'end_time': datetime.datetime(2023, 7, 10, 19, 55, 35, 971809), 'min_cost': 175.0, 's_vet': [18, 19, 2, 17, 2, 19, 16, 2, 18, 2, 2, 17, 19, 19, 2, 16, 16, 17, 18, 19]}, {'file': 'syntpmed7.txt', 'start_time': datetime.datetime(2023, 7, 10, 19, 55, 35, 975498), 'end_time': datetime.datetime(2023, 7, 10, 19, 55, 36, 65984), 'min_cost': 571.0, 's_vet': [35, 49, 35, 48, 49, 35, 49, 48, 35, 35, 48, 47, 48, 35, 48, 35, 48, 35, 48, 49, 35, 46, 46, 48, 47, 49, 46, 48, 47, 35, 46, 48, 49, 48, 46, 35, 48, 47, 47, 46, 47, 35, 49, 46, 49, 46, 46, 47, 48, 49]}]\n",
            "[{'file': 'syntpmed1.txt', 'start_time': datetime.datetime(2023, 7, 10, 19, 55, 35, 868846), 'end_time': datetime.datetime(2023, 7, 10, 19, 55, 35, 869836), 'min_cost': 215.0, 's_vet': [3, 3, 3, 3, 3, 3, 3, 3, 9, 9]}, {'file': 'syntpmed2.txt', 'start_time': datetime.datetime(2023, 7, 10, 19, 55, 35, 871403), 'end_time': datetime.datetime(2023, 7, 10, 19, 55, 35, 874908), 'min_cost': 349.0, 's_vet': [19, 11, 19, 11, 19, 11, 11, 11, 19, 19, 11, 11, 11, 19, 11, 19, 19, 11, 19, 19]}, {'file': 'syntpmed3.txt', 'start_time': datetime.datetime(2023, 7, 10, 19, 55, 35, 878548), 'end_time': datetime.datetime(2023, 7, 10, 19, 55, 35, 900404), 'min_cost': 1383.0, 's_vet': [49, 35, 35, 49, 49, 49, 35, 49, 49, 49, 35, 35, 35, 49, 49, 35, 49, 49, 35, 35, 35, 49, 35, 35, 35, 35, 35, 35, 49, 49, 35, 49, 49, 35, 49, 35, 49, 35, 35, 35, 35, 49, 35, 35, 49, 49, 35, 49, 35, 49]}, {'file': 'syntpmed4.txt', 'start_time': datetime.datetime(2023, 7, 10, 19, 55, 35, 907654), 'end_time': datetime.datetime(2023, 7, 10, 19, 55, 35, 953375), 'min_cost': 1886.0, 's_vet': [69, 69, 69, 53, 69, 69, 53, 53, 69, 53, 53, 69, 53, 69, 53, 53, 69, 53, 53, 53, 53, 53, 53, 53, 53, 53, 53, 53, 53, 69, 53, 69, 53, 53, 53, 69, 69, 53, 53, 53, 53, 69, 69, 69, 53, 53, 69, 53, 69, 69, 69, 69, 69, 53, 69, 69, 69, 69, 69, 53, 69, 69, 69, 69, 53, 69, 53, 69, 53, 69]}, {'file': 'syntpmed5.txt', 'start_time': datetime.datetime(2023, 7, 10, 19, 55, 35, 954395), 'end_time': datetime.datetime(2023, 7, 10, 19, 55, 35, 957337), 'min_cost': 83.0, 's_vet': [0, 8, 9, 9, 7, 6, 6, 7, 8, 9]}, {'file': 'syntpmed6.txt', 'start_time': datetime.datetime(2023, 7, 10, 19, 55, 35, 958262), 'end_time': datetime.datetime(2023, 7, 10, 19, 55, 35, 971809), 'min_cost': 175.0, 's_vet': [18, 19, 2, 17, 2, 19, 16, 2, 18, 2, 2, 17, 19, 19, 2, 16, 16, 17, 18, 19]}, {'file': 'syntpmed7.txt', 'start_time': datetime.datetime(2023, 7, 10, 19, 55, 35, 975498), 'end_time': datetime.datetime(2023, 7, 10, 19, 55, 36, 65984), 'min_cost': 571.0, 's_vet': [35, 49, 35, 48, 49, 35, 49, 48, 35, 35, 48, 47, 48, 35, 48, 35, 48, 35, 48, 49, 35, 46, 46, 48, 47, 49, 46, 48, 47, 35, 46, 48, 49, 48, 46, 35, 48, 47, 47, 46, 47, 35, 49, 46, 49, 46, 46, 47, 48, 49]}, {'file': 'syntpmed8.txt', 'start_time': datetime.datetime(2023, 7, 10, 19, 55, 36, 70761), 'end_time': datetime.datetime(2023, 7, 10, 19, 55, 36, 253807), 'min_cost': 1051.0, 's_vet': [5, 68, 68, 66, 68, 5, 68, 67, 69, 5, 69, 66, 5, 66, 5, 66, 5, 67, 66, 67, 67, 5, 5, 69, 67, 69, 5, 5, 66, 67, 68, 66, 68, 69, 5, 67, 67, 69, 68, 5, 5, 68, 69, 68, 67, 5, 5, 68, 5, 69, 67, 66, 5, 66, 69, 69, 66, 66, 67, 68, 66, 69, 68, 68, 5, 5, 66, 67, 68, 69]}]\n",
            "[{'file': 'syntpmed1.txt', 'start_time': datetime.datetime(2023, 7, 10, 19, 55, 35, 868846), 'end_time': datetime.datetime(2023, 7, 10, 19, 55, 35, 869836), 'min_cost': 215.0, 's_vet': [3, 3, 3, 3, 3, 3, 3, 3, 9, 9]}, {'file': 'syntpmed2.txt', 'start_time': datetime.datetime(2023, 7, 10, 19, 55, 35, 871403), 'end_time': datetime.datetime(2023, 7, 10, 19, 55, 35, 874908), 'min_cost': 349.0, 's_vet': [19, 11, 19, 11, 19, 11, 11, 11, 19, 19, 11, 11, 11, 19, 11, 19, 19, 11, 19, 19]}, {'file': 'syntpmed3.txt', 'start_time': datetime.datetime(2023, 7, 10, 19, 55, 35, 878548), 'end_time': datetime.datetime(2023, 7, 10, 19, 55, 35, 900404), 'min_cost': 1383.0, 's_vet': [49, 35, 35, 49, 49, 49, 35, 49, 49, 49, 35, 35, 35, 49, 49, 35, 49, 49, 35, 35, 35, 49, 35, 35, 35, 35, 35, 35, 49, 49, 35, 49, 49, 35, 49, 35, 49, 35, 35, 35, 35, 49, 35, 35, 49, 49, 35, 49, 35, 49]}, {'file': 'syntpmed4.txt', 'start_time': datetime.datetime(2023, 7, 10, 19, 55, 35, 907654), 'end_time': datetime.datetime(2023, 7, 10, 19, 55, 35, 953375), 'min_cost': 1886.0, 's_vet': [69, 69, 69, 53, 69, 69, 53, 53, 69, 53, 53, 69, 53, 69, 53, 53, 69, 53, 53, 53, 53, 53, 53, 53, 53, 53, 53, 53, 53, 69, 53, 69, 53, 53, 53, 69, 69, 53, 53, 53, 53, 69, 69, 69, 53, 53, 69, 53, 69, 69, 69, 69, 69, 53, 69, 69, 69, 69, 69, 53, 69, 69, 69, 69, 53, 69, 53, 69, 53, 69]}, {'file': 'syntpmed5.txt', 'start_time': datetime.datetime(2023, 7, 10, 19, 55, 35, 954395), 'end_time': datetime.datetime(2023, 7, 10, 19, 55, 35, 957337), 'min_cost': 83.0, 's_vet': [0, 8, 9, 9, 7, 6, 6, 7, 8, 9]}, {'file': 'syntpmed6.txt', 'start_time': datetime.datetime(2023, 7, 10, 19, 55, 35, 958262), 'end_time': datetime.datetime(2023, 7, 10, 19, 55, 35, 971809), 'min_cost': 175.0, 's_vet': [18, 19, 2, 17, 2, 19, 16, 2, 18, 2, 2, 17, 19, 19, 2, 16, 16, 17, 18, 19]}, {'file': 'syntpmed7.txt', 'start_time': datetime.datetime(2023, 7, 10, 19, 55, 35, 975498), 'end_time': datetime.datetime(2023, 7, 10, 19, 55, 36, 65984), 'min_cost': 571.0, 's_vet': [35, 49, 35, 48, 49, 35, 49, 48, 35, 35, 48, 47, 48, 35, 48, 35, 48, 35, 48, 49, 35, 46, 46, 48, 47, 49, 46, 48, 47, 35, 46, 48, 49, 48, 46, 35, 48, 47, 47, 46, 47, 35, 49, 46, 49, 46, 46, 47, 48, 49]}, {'file': 'syntpmed8.txt', 'start_time': datetime.datetime(2023, 7, 10, 19, 55, 36, 70761), 'end_time': datetime.datetime(2023, 7, 10, 19, 55, 36, 253807), 'min_cost': 1051.0, 's_vet': [5, 68, 68, 66, 68, 5, 68, 67, 69, 5, 69, 66, 5, 66, 5, 66, 5, 67, 66, 67, 67, 5, 5, 69, 67, 69, 5, 5, 66, 67, 68, 66, 68, 69, 5, 67, 67, 69, 68, 5, 5, 68, 69, 68, 67, 5, 5, 68, 5, 69, 67, 66, 5, 66, 69, 69, 66, 66, 67, 68, 66, 69, 68, 68, 5, 5, 66, 67, 68, 69]}, {'file': 'syntpmed9.txt', 'start_time': datetime.datetime(2023, 7, 10, 19, 55, 36, 255816), 'end_time': datetime.datetime(2023, 7, 10, 19, 55, 36, 292449), 'min_cost': 52.0, 's_vet': [11, 17, 13, 10, 14, 10, 11, 14, 19, 12, 10, 11, 12, 13, 14, 15, 16, 17, 18, 19]}]\n",
            "[{'file': 'syntpmed1.txt', 'start_time': datetime.datetime(2023, 7, 10, 19, 55, 35, 868846), 'end_time': datetime.datetime(2023, 7, 10, 19, 55, 35, 869836), 'min_cost': 215.0, 's_vet': [3, 3, 3, 3, 3, 3, 3, 3, 9, 9]}, {'file': 'syntpmed2.txt', 'start_time': datetime.datetime(2023, 7, 10, 19, 55, 35, 871403), 'end_time': datetime.datetime(2023, 7, 10, 19, 55, 35, 874908), 'min_cost': 349.0, 's_vet': [19, 11, 19, 11, 19, 11, 11, 11, 19, 19, 11, 11, 11, 19, 11, 19, 19, 11, 19, 19]}, {'file': 'syntpmed3.txt', 'start_time': datetime.datetime(2023, 7, 10, 19, 55, 35, 878548), 'end_time': datetime.datetime(2023, 7, 10, 19, 55, 35, 900404), 'min_cost': 1383.0, 's_vet': [49, 35, 35, 49, 49, 49, 35, 49, 49, 49, 35, 35, 35, 49, 49, 35, 49, 49, 35, 35, 35, 49, 35, 35, 35, 35, 35, 35, 49, 49, 35, 49, 49, 35, 49, 35, 49, 35, 35, 35, 35, 49, 35, 35, 49, 49, 35, 49, 35, 49]}, {'file': 'syntpmed4.txt', 'start_time': datetime.datetime(2023, 7, 10, 19, 55, 35, 907654), 'end_time': datetime.datetime(2023, 7, 10, 19, 55, 35, 953375), 'min_cost': 1886.0, 's_vet': [69, 69, 69, 53, 69, 69, 53, 53, 69, 53, 53, 69, 53, 69, 53, 53, 69, 53, 53, 53, 53, 53, 53, 53, 53, 53, 53, 53, 53, 69, 53, 69, 53, 53, 53, 69, 69, 53, 53, 53, 53, 69, 69, 69, 53, 53, 69, 53, 69, 69, 69, 69, 69, 53, 69, 69, 69, 69, 69, 53, 69, 69, 69, 69, 53, 69, 53, 69, 53, 69]}, {'file': 'syntpmed5.txt', 'start_time': datetime.datetime(2023, 7, 10, 19, 55, 35, 954395), 'end_time': datetime.datetime(2023, 7, 10, 19, 55, 35, 957337), 'min_cost': 83.0, 's_vet': [0, 8, 9, 9, 7, 6, 6, 7, 8, 9]}, {'file': 'syntpmed6.txt', 'start_time': datetime.datetime(2023, 7, 10, 19, 55, 35, 958262), 'end_time': datetime.datetime(2023, 7, 10, 19, 55, 35, 971809), 'min_cost': 175.0, 's_vet': [18, 19, 2, 17, 2, 19, 16, 2, 18, 2, 2, 17, 19, 19, 2, 16, 16, 17, 18, 19]}, {'file': 'syntpmed7.txt', 'start_time': datetime.datetime(2023, 7, 10, 19, 55, 35, 975498), 'end_time': datetime.datetime(2023, 7, 10, 19, 55, 36, 65984), 'min_cost': 571.0, 's_vet': [35, 49, 35, 48, 49, 35, 49, 48, 35, 35, 48, 47, 48, 35, 48, 35, 48, 35, 48, 49, 35, 46, 46, 48, 47, 49, 46, 48, 47, 35, 46, 48, 49, 48, 46, 35, 48, 47, 47, 46, 47, 35, 49, 46, 49, 46, 46, 47, 48, 49]}, {'file': 'syntpmed8.txt', 'start_time': datetime.datetime(2023, 7, 10, 19, 55, 36, 70761), 'end_time': datetime.datetime(2023, 7, 10, 19, 55, 36, 253807), 'min_cost': 1051.0, 's_vet': [5, 68, 68, 66, 68, 5, 68, 67, 69, 5, 69, 66, 5, 66, 5, 66, 5, 67, 66, 67, 67, 5, 5, 69, 67, 69, 5, 5, 66, 67, 68, 66, 68, 69, 5, 67, 67, 69, 68, 5, 5, 68, 69, 68, 67, 5, 5, 68, 5, 69, 67, 66, 5, 66, 69, 69, 66, 66, 67, 68, 66, 69, 68, 68, 5, 5, 66, 67, 68, 69]}, {'file': 'syntpmed9.txt', 'start_time': datetime.datetime(2023, 7, 10, 19, 55, 36, 255816), 'end_time': datetime.datetime(2023, 7, 10, 19, 55, 36, 292449), 'min_cost': 52.0, 's_vet': [11, 17, 13, 10, 14, 10, 11, 14, 19, 12, 10, 11, 12, 13, 14, 15, 16, 17, 18, 19]}, {'file': 'syntpmed10.txt', 'start_time': datetime.datetime(2023, 7, 10, 19, 55, 36, 297224), 'end_time': datetime.datetime(2023, 7, 10, 19, 55, 36, 582181), 'min_cost': 285.0, 's_vet': [46, 42, 43, 42, 49, 41, 41, 42, 49, 46, 46, 47, 48, 47, 49, 23, 44, 42, 46, 48, 44, 45, 47, 23, 44, 23, 45, 49, 49, 46, 48, 43, 46, 23, 45, 23, 44, 45, 23, 46, 46, 41, 42, 43, 44, 45, 46, 47, 48, 49]}]\n",
            "[{'file': 'syntpmed1.txt', 'start_time': datetime.datetime(2023, 7, 10, 19, 55, 35, 868846), 'end_time': datetime.datetime(2023, 7, 10, 19, 55, 35, 869836), 'min_cost': 215.0, 's_vet': [3, 3, 3, 3, 3, 3, 3, 3, 9, 9]}, {'file': 'syntpmed2.txt', 'start_time': datetime.datetime(2023, 7, 10, 19, 55, 35, 871403), 'end_time': datetime.datetime(2023, 7, 10, 19, 55, 35, 874908), 'min_cost': 349.0, 's_vet': [19, 11, 19, 11, 19, 11, 11, 11, 19, 19, 11, 11, 11, 19, 11, 19, 19, 11, 19, 19]}, {'file': 'syntpmed3.txt', 'start_time': datetime.datetime(2023, 7, 10, 19, 55, 35, 878548), 'end_time': datetime.datetime(2023, 7, 10, 19, 55, 35, 900404), 'min_cost': 1383.0, 's_vet': [49, 35, 35, 49, 49, 49, 35, 49, 49, 49, 35, 35, 35, 49, 49, 35, 49, 49, 35, 35, 35, 49, 35, 35, 35, 35, 35, 35, 49, 49, 35, 49, 49, 35, 49, 35, 49, 35, 35, 35, 35, 49, 35, 35, 49, 49, 35, 49, 35, 49]}, {'file': 'syntpmed4.txt', 'start_time': datetime.datetime(2023, 7, 10, 19, 55, 35, 907654), 'end_time': datetime.datetime(2023, 7, 10, 19, 55, 35, 953375), 'min_cost': 1886.0, 's_vet': [69, 69, 69, 53, 69, 69, 53, 53, 69, 53, 53, 69, 53, 69, 53, 53, 69, 53, 53, 53, 53, 53, 53, 53, 53, 53, 53, 53, 53, 69, 53, 69, 53, 53, 53, 69, 69, 53, 53, 53, 53, 69, 69, 69, 53, 53, 69, 53, 69, 69, 69, 69, 69, 53, 69, 69, 69, 69, 69, 53, 69, 69, 69, 69, 53, 69, 53, 69, 53, 69]}, {'file': 'syntpmed5.txt', 'start_time': datetime.datetime(2023, 7, 10, 19, 55, 35, 954395), 'end_time': datetime.datetime(2023, 7, 10, 19, 55, 35, 957337), 'min_cost': 83.0, 's_vet': [0, 8, 9, 9, 7, 6, 6, 7, 8, 9]}, {'file': 'syntpmed6.txt', 'start_time': datetime.datetime(2023, 7, 10, 19, 55, 35, 958262), 'end_time': datetime.datetime(2023, 7, 10, 19, 55, 35, 971809), 'min_cost': 175.0, 's_vet': [18, 19, 2, 17, 2, 19, 16, 2, 18, 2, 2, 17, 19, 19, 2, 16, 16, 17, 18, 19]}, {'file': 'syntpmed7.txt', 'start_time': datetime.datetime(2023, 7, 10, 19, 55, 35, 975498), 'end_time': datetime.datetime(2023, 7, 10, 19, 55, 36, 65984), 'min_cost': 571.0, 's_vet': [35, 49, 35, 48, 49, 35, 49, 48, 35, 35, 48, 47, 48, 35, 48, 35, 48, 35, 48, 49, 35, 46, 46, 48, 47, 49, 46, 48, 47, 35, 46, 48, 49, 48, 46, 35, 48, 47, 47, 46, 47, 35, 49, 46, 49, 46, 46, 47, 48, 49]}, {'file': 'syntpmed8.txt', 'start_time': datetime.datetime(2023, 7, 10, 19, 55, 36, 70761), 'end_time': datetime.datetime(2023, 7, 10, 19, 55, 36, 253807), 'min_cost': 1051.0, 's_vet': [5, 68, 68, 66, 68, 5, 68, 67, 69, 5, 69, 66, 5, 66, 5, 66, 5, 67, 66, 67, 67, 5, 5, 69, 67, 69, 5, 5, 66, 67, 68, 66, 68, 69, 5, 67, 67, 69, 68, 5, 5, 68, 69, 68, 67, 5, 5, 68, 5, 69, 67, 66, 5, 66, 69, 69, 66, 66, 67, 68, 66, 69, 68, 68, 5, 5, 66, 67, 68, 69]}, {'file': 'syntpmed9.txt', 'start_time': datetime.datetime(2023, 7, 10, 19, 55, 36, 255816), 'end_time': datetime.datetime(2023, 7, 10, 19, 55, 36, 292449), 'min_cost': 52.0, 's_vet': [11, 17, 13, 10, 14, 10, 11, 14, 19, 12, 10, 11, 12, 13, 14, 15, 16, 17, 18, 19]}, {'file': 'syntpmed10.txt', 'start_time': datetime.datetime(2023, 7, 10, 19, 55, 36, 297224), 'end_time': datetime.datetime(2023, 7, 10, 19, 55, 36, 582181), 'min_cost': 285.0, 's_vet': [46, 42, 43, 42, 49, 41, 41, 42, 49, 46, 46, 47, 48, 47, 49, 23, 44, 42, 46, 48, 44, 45, 47, 23, 44, 23, 45, 49, 49, 46, 48, 43, 46, 23, 45, 23, 44, 45, 23, 46, 46, 41, 42, 43, 44, 45, 46, 47, 48, 49]}, {'file': 'syntpmed11.txt', 'start_time': datetime.datetime(2023, 7, 10, 19, 55, 36, 587379), 'end_time': datetime.datetime(2023, 7, 10, 19, 55, 37, 159058), 'min_cost': 527.0, 's_vet': [65, 66, 68, 49, 66, 67, 68, 61, 66, 64, 64, 64, 61, 66, 69, 68, 61, 65, 61, 64, 49, 65, 69, 49, 64, 49, 67, 66, 49, 63, 61, 61, 49, 49, 62, 65, 69, 64, 61, 66, 66, 65, 68, 61, 49, 62, 49, 67, 69, 49, 61, 68, 66, 49, 62, 49, 67, 64, 62, 68, 68, 61, 62, 63, 64, 65, 66, 67, 68, 69]}]\n",
            "[{'file': 'syntpmed1.txt', 'start_time': datetime.datetime(2023, 7, 10, 19, 55, 35, 868846), 'end_time': datetime.datetime(2023, 7, 10, 19, 55, 35, 869836), 'min_cost': 215.0, 's_vet': [3, 3, 3, 3, 3, 3, 3, 3, 9, 9]}, {'file': 'syntpmed2.txt', 'start_time': datetime.datetime(2023, 7, 10, 19, 55, 35, 871403), 'end_time': datetime.datetime(2023, 7, 10, 19, 55, 35, 874908), 'min_cost': 349.0, 's_vet': [19, 11, 19, 11, 19, 11, 11, 11, 19, 19, 11, 11, 11, 19, 11, 19, 19, 11, 19, 19]}, {'file': 'syntpmed3.txt', 'start_time': datetime.datetime(2023, 7, 10, 19, 55, 35, 878548), 'end_time': datetime.datetime(2023, 7, 10, 19, 55, 35, 900404), 'min_cost': 1383.0, 's_vet': [49, 35, 35, 49, 49, 49, 35, 49, 49, 49, 35, 35, 35, 49, 49, 35, 49, 49, 35, 35, 35, 49, 35, 35, 35, 35, 35, 35, 49, 49, 35, 49, 49, 35, 49, 35, 49, 35, 35, 35, 35, 49, 35, 35, 49, 49, 35, 49, 35, 49]}, {'file': 'syntpmed4.txt', 'start_time': datetime.datetime(2023, 7, 10, 19, 55, 35, 907654), 'end_time': datetime.datetime(2023, 7, 10, 19, 55, 35, 953375), 'min_cost': 1886.0, 's_vet': [69, 69, 69, 53, 69, 69, 53, 53, 69, 53, 53, 69, 53, 69, 53, 53, 69, 53, 53, 53, 53, 53, 53, 53, 53, 53, 53, 53, 53, 69, 53, 69, 53, 53, 53, 69, 69, 53, 53, 53, 53, 69, 69, 69, 53, 53, 69, 53, 69, 69, 69, 69, 69, 53, 69, 69, 69, 69, 69, 53, 69, 69, 69, 69, 53, 69, 53, 69, 53, 69]}, {'file': 'syntpmed5.txt', 'start_time': datetime.datetime(2023, 7, 10, 19, 55, 35, 954395), 'end_time': datetime.datetime(2023, 7, 10, 19, 55, 35, 957337), 'min_cost': 83.0, 's_vet': [0, 8, 9, 9, 7, 6, 6, 7, 8, 9]}, {'file': 'syntpmed6.txt', 'start_time': datetime.datetime(2023, 7, 10, 19, 55, 35, 958262), 'end_time': datetime.datetime(2023, 7, 10, 19, 55, 35, 971809), 'min_cost': 175.0, 's_vet': [18, 19, 2, 17, 2, 19, 16, 2, 18, 2, 2, 17, 19, 19, 2, 16, 16, 17, 18, 19]}, {'file': 'syntpmed7.txt', 'start_time': datetime.datetime(2023, 7, 10, 19, 55, 35, 975498), 'end_time': datetime.datetime(2023, 7, 10, 19, 55, 36, 65984), 'min_cost': 571.0, 's_vet': [35, 49, 35, 48, 49, 35, 49, 48, 35, 35, 48, 47, 48, 35, 48, 35, 48, 35, 48, 49, 35, 46, 46, 48, 47, 49, 46, 48, 47, 35, 46, 48, 49, 48, 46, 35, 48, 47, 47, 46, 47, 35, 49, 46, 49, 46, 46, 47, 48, 49]}, {'file': 'syntpmed8.txt', 'start_time': datetime.datetime(2023, 7, 10, 19, 55, 36, 70761), 'end_time': datetime.datetime(2023, 7, 10, 19, 55, 36, 253807), 'min_cost': 1051.0, 's_vet': [5, 68, 68, 66, 68, 5, 68, 67, 69, 5, 69, 66, 5, 66, 5, 66, 5, 67, 66, 67, 67, 5, 5, 69, 67, 69, 5, 5, 66, 67, 68, 66, 68, 69, 5, 67, 67, 69, 68, 5, 5, 68, 69, 68, 67, 5, 5, 68, 5, 69, 67, 66, 5, 66, 69, 69, 66, 66, 67, 68, 66, 69, 68, 68, 5, 5, 66, 67, 68, 69]}, {'file': 'syntpmed9.txt', 'start_time': datetime.datetime(2023, 7, 10, 19, 55, 36, 255816), 'end_time': datetime.datetime(2023, 7, 10, 19, 55, 36, 292449), 'min_cost': 52.0, 's_vet': [11, 17, 13, 10, 14, 10, 11, 14, 19, 12, 10, 11, 12, 13, 14, 15, 16, 17, 18, 19]}, {'file': 'syntpmed10.txt', 'start_time': datetime.datetime(2023, 7, 10, 19, 55, 36, 297224), 'end_time': datetime.datetime(2023, 7, 10, 19, 55, 36, 582181), 'min_cost': 285.0, 's_vet': [46, 42, 43, 42, 49, 41, 41, 42, 49, 46, 46, 47, 48, 47, 49, 23, 44, 42, 46, 48, 44, 45, 47, 23, 44, 23, 45, 49, 49, 46, 48, 43, 46, 23, 45, 23, 44, 45, 23, 46, 46, 41, 42, 43, 44, 45, 46, 47, 48, 49]}, {'file': 'syntpmed11.txt', 'start_time': datetime.datetime(2023, 7, 10, 19, 55, 36, 587379), 'end_time': datetime.datetime(2023, 7, 10, 19, 55, 37, 159058), 'min_cost': 527.0, 's_vet': [65, 66, 68, 49, 66, 67, 68, 61, 66, 64, 64, 64, 61, 66, 69, 68, 61, 65, 61, 64, 49, 65, 69, 49, 64, 49, 67, 66, 49, 63, 61, 61, 49, 49, 62, 65, 69, 64, 61, 66, 66, 65, 68, 61, 49, 62, 49, 67, 69, 49, 61, 68, 66, 49, 62, 49, 67, 64, 62, 68, 68, 61, 62, 63, 64, 65, 66, 67, 68, 69]}]\n"
          ]
        }
      ]
    },
    {
      "cell_type": "code",
      "source": [
        "h_df = pd.DataFrame(h)\n",
        "print(h_df)\n",
        "h_df.to_csv(\"heuristic_myopic_sol.csv\")"
      ],
      "metadata": {
        "id": "XcWNAbHqR_Z8"
      },
      "execution_count": null,
      "outputs": []
    },
    {
      "cell_type": "markdown",
      "metadata": {
        "id": "5EtrM7rsvxCj"
      },
      "source": [
        "## Exchange Solution"
      ]
    },
    {
      "cell_type": "markdown",
      "source": [
        "### Solver"
      ],
      "metadata": {
        "id": "UA4vsB4PvxCl"
      }
    },
    {
      "cell_type": "code",
      "execution_count": null,
      "metadata": {
        "id": "6Fa1pGFDvxCm"
      },
      "outputs": [],
      "source": [
        "def heuristic_exchange_solver(vertices, edges, p, cost_mat, sol_init = None):\n",
        "\n",
        "  # def sol init\n",
        "  if sol_init is None:\n",
        "    solution_candidate = random.choices(range(vertices), k=p)\n",
        "  else:\n",
        "    solution_candidate = sol_init\n",
        "\n",
        "  # create sol init instance\n",
        "  s = Solution(vertices, solution_candidate, cost_mat)\n",
        "  while not s.solved():\n",
        "    s.sol_step()\n",
        "\n",
        "\n",
        "  for i in range(p):\n",
        "    for j in range(vertices):\n",
        "\n",
        "      solution_temp = solution_candidate.copy()\n",
        "      if j in solution_candidate:\n",
        "        continue\n",
        "\n",
        "      solution_temp[i] = j\n",
        "      s_temp = Solution(vertices, solution_temp, cost_mat)\n",
        "\n",
        "      while not s_temp.solved():\n",
        "        s_temp.sol_step()\n",
        "\n",
        "      if s_temp.c < s.c:\n",
        "        solution_candidate = solution_temp\n",
        "        s = s_temp\n",
        "  return s, solution_candidate"
      ]
    },
    {
      "cell_type": "code",
      "source": [
        "h = []\n",
        "\n",
        "for pmed in synthetic_pmeds:\n",
        "  data = get_dataset(pmed)\n",
        "\n",
        "  start_time =  datetime.datetime.now()\n",
        "  solutions = heuristic_exchange_solver(data[\"vertices\"], data[\"edges\"], data[\"p\"], data[\"cost_mat\"])\n",
        "  end_time =  datetime.datetime.now()\n",
        "\n",
        "\n",
        "  h.append({\n",
        "      \"file\": pmed,\n",
        "      \"start_time\": start_time,\n",
        "      \"end_time\": end_time,\n",
        "      \"min_cost\": solutions[0].c,\n",
        "      \"s_vet\": solutions[0].s_vet\n",
        "  })\n",
        "  print(h)\n",
        "\n",
        "print(h)"
      ],
      "metadata": {
        "colab": {
          "base_uri": "https://localhost:8080/"
        },
        "outputId": "a95303c3-5b36-4018-ab73-42e18679bc9a",
        "id": "BcMeMFgIvxCn"
      },
      "execution_count": null,
      "outputs": [
        {
          "output_type": "stream",
          "name": "stdout",
          "text": [
            "[{'file': 'syntpmed1.txt', 'start_time': datetime.datetime(2023, 7, 11, 1, 17, 55, 347463), 'end_time': datetime.datetime(2023, 7, 11, 1, 17, 55, 348607), 'min_cost': 153.0, 's_vet': [0, 3, 3, 3, 0, 3, 3, 3, 0, 3]}]\n",
            "[{'file': 'syntpmed1.txt', 'start_time': datetime.datetime(2023, 7, 11, 1, 17, 55, 347463), 'end_time': datetime.datetime(2023, 7, 11, 1, 17, 55, 348607), 'min_cost': 153.0, 's_vet': [0, 3, 3, 3, 0, 3, 3, 3, 0, 3]}, {'file': 'syntpmed2.txt', 'start_time': datetime.datetime(2023, 7, 11, 1, 17, 55, 349343), 'end_time': datetime.datetime(2023, 7, 11, 1, 17, 55, 353769), 'min_cost': 349.0, 's_vet': [19, 11, 19, 11, 19, 11, 11, 11, 19, 19, 11, 11, 11, 19, 11, 19, 19, 11, 19, 19]}]\n",
            "[{'file': 'syntpmed1.txt', 'start_time': datetime.datetime(2023, 7, 11, 1, 17, 55, 347463), 'end_time': datetime.datetime(2023, 7, 11, 1, 17, 55, 348607), 'min_cost': 153.0, 's_vet': [0, 3, 3, 3, 0, 3, 3, 3, 0, 3]}, {'file': 'syntpmed2.txt', 'start_time': datetime.datetime(2023, 7, 11, 1, 17, 55, 349343), 'end_time': datetime.datetime(2023, 7, 11, 1, 17, 55, 353769), 'min_cost': 349.0, 's_vet': [19, 11, 19, 11, 19, 11, 11, 11, 19, 19, 11, 11, 11, 19, 11, 19, 19, 11, 19, 19]}, {'file': 'syntpmed3.txt', 'start_time': datetime.datetime(2023, 7, 11, 1, 17, 55, 357788), 'end_time': datetime.datetime(2023, 7, 11, 1, 17, 55, 385611), 'min_cost': 1332.0, 's_vet': [11, 18, 11, 18, 11, 11, 11, 18, 18, 11, 11, 11, 18, 11, 18, 18, 11, 18, 18, 11, 18, 18, 11, 18, 18, 18, 11, 18, 18, 11, 18, 11, 18, 18, 11, 18, 18, 18, 18, 18, 18, 11, 18, 18, 11, 18, 11, 18, 11, 18]}]\n",
            "[{'file': 'syntpmed1.txt', 'start_time': datetime.datetime(2023, 7, 11, 1, 17, 55, 347463), 'end_time': datetime.datetime(2023, 7, 11, 1, 17, 55, 348607), 'min_cost': 153.0, 's_vet': [0, 3, 3, 3, 0, 3, 3, 3, 0, 3]}, {'file': 'syntpmed2.txt', 'start_time': datetime.datetime(2023, 7, 11, 1, 17, 55, 349343), 'end_time': datetime.datetime(2023, 7, 11, 1, 17, 55, 353769), 'min_cost': 349.0, 's_vet': [19, 11, 19, 11, 19, 11, 11, 11, 19, 19, 11, 11, 11, 19, 11, 19, 19, 11, 19, 19]}, {'file': 'syntpmed3.txt', 'start_time': datetime.datetime(2023, 7, 11, 1, 17, 55, 357788), 'end_time': datetime.datetime(2023, 7, 11, 1, 17, 55, 385611), 'min_cost': 1332.0, 's_vet': [11, 18, 11, 18, 11, 11, 11, 18, 18, 11, 11, 11, 18, 11, 18, 18, 11, 18, 18, 11, 18, 18, 11, 18, 18, 18, 11, 18, 18, 11, 18, 11, 18, 18, 11, 18, 18, 18, 18, 18, 18, 11, 18, 18, 11, 18, 11, 18, 11, 18]}, {'file': 'syntpmed4.txt', 'start_time': datetime.datetime(2023, 7, 11, 1, 17, 55, 390424), 'end_time': datetime.datetime(2023, 7, 11, 1, 17, 55, 445011), 'min_cost': 1771.0, 's_vet': [59, 50, 50, 50, 59, 50, 59, 50, 50, 59, 59, 59, 59, 59, 59, 50, 50, 50, 50, 50, 59, 59, 59, 50, 50, 50, 59, 50, 50, 59, 59, 59, 50, 59, 59, 50, 59, 59, 59, 59, 50, 59, 50, 59, 59, 59, 50, 59, 50, 59, 50, 59, 59, 59, 50, 59, 50, 50, 50, 59, 50, 50, 50, 50, 59, 59, 59, 50, 50, 50]}]\n",
            "[{'file': 'syntpmed1.txt', 'start_time': datetime.datetime(2023, 7, 11, 1, 17, 55, 347463), 'end_time': datetime.datetime(2023, 7, 11, 1, 17, 55, 348607), 'min_cost': 153.0, 's_vet': [0, 3, 3, 3, 0, 3, 3, 3, 0, 3]}, {'file': 'syntpmed2.txt', 'start_time': datetime.datetime(2023, 7, 11, 1, 17, 55, 349343), 'end_time': datetime.datetime(2023, 7, 11, 1, 17, 55, 353769), 'min_cost': 349.0, 's_vet': [19, 11, 19, 11, 19, 11, 11, 11, 19, 19, 11, 11, 11, 19, 11, 19, 19, 11, 19, 19]}, {'file': 'syntpmed3.txt', 'start_time': datetime.datetime(2023, 7, 11, 1, 17, 55, 357788), 'end_time': datetime.datetime(2023, 7, 11, 1, 17, 55, 385611), 'min_cost': 1332.0, 's_vet': [11, 18, 11, 18, 11, 11, 11, 18, 18, 11, 11, 11, 18, 11, 18, 18, 11, 18, 18, 11, 18, 18, 11, 18, 18, 18, 11, 18, 18, 11, 18, 11, 18, 18, 11, 18, 18, 18, 18, 18, 18, 11, 18, 18, 11, 18, 11, 18, 11, 18]}, {'file': 'syntpmed4.txt', 'start_time': datetime.datetime(2023, 7, 11, 1, 17, 55, 390424), 'end_time': datetime.datetime(2023, 7, 11, 1, 17, 55, 445011), 'min_cost': 1771.0, 's_vet': [59, 50, 50, 50, 59, 50, 59, 50, 50, 59, 59, 59, 59, 59, 59, 50, 50, 50, 50, 50, 59, 59, 59, 50, 50, 50, 59, 50, 50, 59, 59, 59, 50, 59, 59, 50, 59, 59, 59, 59, 50, 59, 50, 59, 59, 59, 50, 59, 50, 59, 50, 59, 59, 59, 50, 59, 50, 50, 50, 59, 50, 50, 50, 50, 59, 59, 59, 50, 50, 50]}, {'file': 'syntpmed5.txt', 'start_time': datetime.datetime(2023, 7, 11, 1, 17, 55, 445853), 'end_time': datetime.datetime(2023, 7, 11, 1, 17, 55, 449648), 'min_cost': 70.0, 's_vet': [0, 1, 5, 3, 4, 5, 5, 4, 1, 3]}]\n",
            "[{'file': 'syntpmed1.txt', 'start_time': datetime.datetime(2023, 7, 11, 1, 17, 55, 347463), 'end_time': datetime.datetime(2023, 7, 11, 1, 17, 55, 348607), 'min_cost': 153.0, 's_vet': [0, 3, 3, 3, 0, 3, 3, 3, 0, 3]}, {'file': 'syntpmed2.txt', 'start_time': datetime.datetime(2023, 7, 11, 1, 17, 55, 349343), 'end_time': datetime.datetime(2023, 7, 11, 1, 17, 55, 353769), 'min_cost': 349.0, 's_vet': [19, 11, 19, 11, 19, 11, 11, 11, 19, 19, 11, 11, 11, 19, 11, 19, 19, 11, 19, 19]}, {'file': 'syntpmed3.txt', 'start_time': datetime.datetime(2023, 7, 11, 1, 17, 55, 357788), 'end_time': datetime.datetime(2023, 7, 11, 1, 17, 55, 385611), 'min_cost': 1332.0, 's_vet': [11, 18, 11, 18, 11, 11, 11, 18, 18, 11, 11, 11, 18, 11, 18, 18, 11, 18, 18, 11, 18, 18, 11, 18, 18, 18, 11, 18, 18, 11, 18, 11, 18, 18, 11, 18, 18, 18, 18, 18, 18, 11, 18, 18, 11, 18, 11, 18, 11, 18]}, {'file': 'syntpmed4.txt', 'start_time': datetime.datetime(2023, 7, 11, 1, 17, 55, 390424), 'end_time': datetime.datetime(2023, 7, 11, 1, 17, 55, 445011), 'min_cost': 1771.0, 's_vet': [59, 50, 50, 50, 59, 50, 59, 50, 50, 59, 59, 59, 59, 59, 59, 50, 50, 50, 50, 50, 59, 59, 59, 50, 50, 50, 59, 50, 50, 59, 59, 59, 50, 59, 59, 50, 59, 59, 59, 59, 50, 59, 50, 59, 59, 59, 50, 59, 50, 59, 50, 59, 59, 59, 50, 59, 50, 50, 50, 59, 50, 50, 50, 50, 59, 59, 59, 50, 50, 50]}, {'file': 'syntpmed5.txt', 'start_time': datetime.datetime(2023, 7, 11, 1, 17, 55, 445853), 'end_time': datetime.datetime(2023, 7, 11, 1, 17, 55, 449648), 'min_cost': 70.0, 's_vet': [0, 1, 5, 3, 4, 5, 5, 4, 1, 3]}, {'file': 'syntpmed6.txt', 'start_time': datetime.datetime(2023, 7, 11, 1, 17, 55, 450507), 'end_time': datetime.datetime(2023, 7, 11, 1, 17, 55, 469113), 'min_cost': 101.0, 's_vet': [18, 19, 14, 17, 4, 14, 4, 14, 18, 4, 4, 17, 14, 4, 14, 4, 18, 17, 18, 19]}]\n",
            "[{'file': 'syntpmed1.txt', 'start_time': datetime.datetime(2023, 7, 11, 1, 17, 55, 347463), 'end_time': datetime.datetime(2023, 7, 11, 1, 17, 55, 348607), 'min_cost': 153.0, 's_vet': [0, 3, 3, 3, 0, 3, 3, 3, 0, 3]}, {'file': 'syntpmed2.txt', 'start_time': datetime.datetime(2023, 7, 11, 1, 17, 55, 349343), 'end_time': datetime.datetime(2023, 7, 11, 1, 17, 55, 353769), 'min_cost': 349.0, 's_vet': [19, 11, 19, 11, 19, 11, 11, 11, 19, 19, 11, 11, 11, 19, 11, 19, 19, 11, 19, 19]}, {'file': 'syntpmed3.txt', 'start_time': datetime.datetime(2023, 7, 11, 1, 17, 55, 357788), 'end_time': datetime.datetime(2023, 7, 11, 1, 17, 55, 385611), 'min_cost': 1332.0, 's_vet': [11, 18, 11, 18, 11, 11, 11, 18, 18, 11, 11, 11, 18, 11, 18, 18, 11, 18, 18, 11, 18, 18, 11, 18, 18, 18, 11, 18, 18, 11, 18, 11, 18, 18, 11, 18, 18, 18, 18, 18, 18, 11, 18, 18, 11, 18, 11, 18, 11, 18]}, {'file': 'syntpmed4.txt', 'start_time': datetime.datetime(2023, 7, 11, 1, 17, 55, 390424), 'end_time': datetime.datetime(2023, 7, 11, 1, 17, 55, 445011), 'min_cost': 1771.0, 's_vet': [59, 50, 50, 50, 59, 50, 59, 50, 50, 59, 59, 59, 59, 59, 59, 50, 50, 50, 50, 50, 59, 59, 59, 50, 50, 50, 59, 50, 50, 59, 59, 59, 50, 59, 59, 50, 59, 59, 59, 59, 50, 59, 50, 59, 59, 59, 50, 59, 50, 59, 50, 59, 59, 59, 50, 59, 50, 50, 50, 59, 50, 50, 50, 50, 59, 59, 59, 50, 50, 50]}, {'file': 'syntpmed5.txt', 'start_time': datetime.datetime(2023, 7, 11, 1, 17, 55, 445853), 'end_time': datetime.datetime(2023, 7, 11, 1, 17, 55, 449648), 'min_cost': 70.0, 's_vet': [0, 1, 5, 3, 4, 5, 5, 4, 1, 3]}, {'file': 'syntpmed6.txt', 'start_time': datetime.datetime(2023, 7, 11, 1, 17, 55, 450507), 'end_time': datetime.datetime(2023, 7, 11, 1, 17, 55, 469113), 'min_cost': 101.0, 's_vet': [18, 19, 14, 17, 4, 14, 4, 14, 18, 4, 4, 17, 14, 4, 14, 4, 18, 17, 18, 19]}, {'file': 'syntpmed7.txt', 'start_time': datetime.datetime(2023, 7, 11, 1, 17, 55, 471691), 'end_time': datetime.datetime(2023, 7, 11, 1, 17, 55, 609586), 'min_cost': 372.0, 's_vet': [9, 49, 7, 11, 49, 7, 49, 7, 43, 9, 7, 11, 9, 43, 11, 11, 7, 7, 43, 49, 9, 49, 43, 11, 9, 49, 43, 7, 7, 7, 7, 9, 43, 43, 7, 11, 11, 7, 7, 11, 9, 7, 11, 43, 49, 9, 11, 11, 7, 49]}]\n",
            "[{'file': 'syntpmed1.txt', 'start_time': datetime.datetime(2023, 7, 11, 1, 17, 55, 347463), 'end_time': datetime.datetime(2023, 7, 11, 1, 17, 55, 348607), 'min_cost': 153.0, 's_vet': [0, 3, 3, 3, 0, 3, 3, 3, 0, 3]}, {'file': 'syntpmed2.txt', 'start_time': datetime.datetime(2023, 7, 11, 1, 17, 55, 349343), 'end_time': datetime.datetime(2023, 7, 11, 1, 17, 55, 353769), 'min_cost': 349.0, 's_vet': [19, 11, 19, 11, 19, 11, 11, 11, 19, 19, 11, 11, 11, 19, 11, 19, 19, 11, 19, 19]}, {'file': 'syntpmed3.txt', 'start_time': datetime.datetime(2023, 7, 11, 1, 17, 55, 357788), 'end_time': datetime.datetime(2023, 7, 11, 1, 17, 55, 385611), 'min_cost': 1332.0, 's_vet': [11, 18, 11, 18, 11, 11, 11, 18, 18, 11, 11, 11, 18, 11, 18, 18, 11, 18, 18, 11, 18, 18, 11, 18, 18, 18, 11, 18, 18, 11, 18, 11, 18, 18, 11, 18, 18, 18, 18, 18, 18, 11, 18, 18, 11, 18, 11, 18, 11, 18]}, {'file': 'syntpmed4.txt', 'start_time': datetime.datetime(2023, 7, 11, 1, 17, 55, 390424), 'end_time': datetime.datetime(2023, 7, 11, 1, 17, 55, 445011), 'min_cost': 1771.0, 's_vet': [59, 50, 50, 50, 59, 50, 59, 50, 50, 59, 59, 59, 59, 59, 59, 50, 50, 50, 50, 50, 59, 59, 59, 50, 50, 50, 59, 50, 50, 59, 59, 59, 50, 59, 59, 50, 59, 59, 59, 59, 50, 59, 50, 59, 59, 59, 50, 59, 50, 59, 50, 59, 59, 59, 50, 59, 50, 50, 50, 59, 50, 50, 50, 50, 59, 59, 59, 50, 50, 50]}, {'file': 'syntpmed5.txt', 'start_time': datetime.datetime(2023, 7, 11, 1, 17, 55, 445853), 'end_time': datetime.datetime(2023, 7, 11, 1, 17, 55, 449648), 'min_cost': 70.0, 's_vet': [0, 1, 5, 3, 4, 5, 5, 4, 1, 3]}, {'file': 'syntpmed6.txt', 'start_time': datetime.datetime(2023, 7, 11, 1, 17, 55, 450507), 'end_time': datetime.datetime(2023, 7, 11, 1, 17, 55, 469113), 'min_cost': 101.0, 's_vet': [18, 19, 14, 17, 4, 14, 4, 14, 18, 4, 4, 17, 14, 4, 14, 4, 18, 17, 18, 19]}, {'file': 'syntpmed7.txt', 'start_time': datetime.datetime(2023, 7, 11, 1, 17, 55, 471691), 'end_time': datetime.datetime(2023, 7, 11, 1, 17, 55, 609586), 'min_cost': 372.0, 's_vet': [9, 49, 7, 11, 49, 7, 49, 7, 43, 9, 7, 11, 9, 43, 11, 11, 7, 7, 43, 49, 9, 49, 43, 11, 9, 49, 43, 7, 7, 7, 7, 9, 43, 43, 7, 11, 11, 7, 7, 11, 9, 7, 11, 43, 49, 9, 11, 11, 7, 49]}, {'file': 'syntpmed8.txt', 'start_time': datetime.datetime(2023, 7, 11, 1, 17, 55, 614580), 'end_time': datetime.datetime(2023, 7, 11, 1, 17, 55, 887178), 'min_cost': 535.0, 's_vet': [60, 65, 43, 58, 60, 58, 11, 43, 60, 65, 65, 11, 60, 65, 43, 11, 11, 65, 60, 58, 58, 58, 60, 43, 65, 65, 65, 58, 11, 60, 60, 43, 65, 60, 43, 58, 43, 11, 11, 43, 65, 65, 58, 43, 58, 60, 60, 11, 58, 58, 58, 11, 58, 60, 65, 60, 65, 60, 58, 60, 60, 60, 65, 60, 43, 65, 11, 58, 43, 58]}]\n",
            "[{'file': 'syntpmed1.txt', 'start_time': datetime.datetime(2023, 7, 11, 1, 17, 55, 347463), 'end_time': datetime.datetime(2023, 7, 11, 1, 17, 55, 348607), 'min_cost': 153.0, 's_vet': [0, 3, 3, 3, 0, 3, 3, 3, 0, 3]}, {'file': 'syntpmed2.txt', 'start_time': datetime.datetime(2023, 7, 11, 1, 17, 55, 349343), 'end_time': datetime.datetime(2023, 7, 11, 1, 17, 55, 353769), 'min_cost': 349.0, 's_vet': [19, 11, 19, 11, 19, 11, 11, 11, 19, 19, 11, 11, 11, 19, 11, 19, 19, 11, 19, 19]}, {'file': 'syntpmed3.txt', 'start_time': datetime.datetime(2023, 7, 11, 1, 17, 55, 357788), 'end_time': datetime.datetime(2023, 7, 11, 1, 17, 55, 385611), 'min_cost': 1332.0, 's_vet': [11, 18, 11, 18, 11, 11, 11, 18, 18, 11, 11, 11, 18, 11, 18, 18, 11, 18, 18, 11, 18, 18, 11, 18, 18, 18, 11, 18, 18, 11, 18, 11, 18, 18, 11, 18, 18, 18, 18, 18, 18, 11, 18, 18, 11, 18, 11, 18, 11, 18]}, {'file': 'syntpmed4.txt', 'start_time': datetime.datetime(2023, 7, 11, 1, 17, 55, 390424), 'end_time': datetime.datetime(2023, 7, 11, 1, 17, 55, 445011), 'min_cost': 1771.0, 's_vet': [59, 50, 50, 50, 59, 50, 59, 50, 50, 59, 59, 59, 59, 59, 59, 50, 50, 50, 50, 50, 59, 59, 59, 50, 50, 50, 59, 50, 50, 59, 59, 59, 50, 59, 59, 50, 59, 59, 59, 59, 50, 59, 50, 59, 59, 59, 50, 59, 50, 59, 50, 59, 59, 59, 50, 59, 50, 50, 50, 59, 50, 50, 50, 50, 59, 59, 59, 50, 50, 50]}, {'file': 'syntpmed5.txt', 'start_time': datetime.datetime(2023, 7, 11, 1, 17, 55, 445853), 'end_time': datetime.datetime(2023, 7, 11, 1, 17, 55, 449648), 'min_cost': 70.0, 's_vet': [0, 1, 5, 3, 4, 5, 5, 4, 1, 3]}, {'file': 'syntpmed6.txt', 'start_time': datetime.datetime(2023, 7, 11, 1, 17, 55, 450507), 'end_time': datetime.datetime(2023, 7, 11, 1, 17, 55, 469113), 'min_cost': 101.0, 's_vet': [18, 19, 14, 17, 4, 14, 4, 14, 18, 4, 4, 17, 14, 4, 14, 4, 18, 17, 18, 19]}, {'file': 'syntpmed7.txt', 'start_time': datetime.datetime(2023, 7, 11, 1, 17, 55, 471691), 'end_time': datetime.datetime(2023, 7, 11, 1, 17, 55, 609586), 'min_cost': 372.0, 's_vet': [9, 49, 7, 11, 49, 7, 49, 7, 43, 9, 7, 11, 9, 43, 11, 11, 7, 7, 43, 49, 9, 49, 43, 11, 9, 49, 43, 7, 7, 7, 7, 9, 43, 43, 7, 11, 11, 7, 7, 11, 9, 7, 11, 43, 49, 9, 11, 11, 7, 49]}, {'file': 'syntpmed8.txt', 'start_time': datetime.datetime(2023, 7, 11, 1, 17, 55, 614580), 'end_time': datetime.datetime(2023, 7, 11, 1, 17, 55, 887178), 'min_cost': 535.0, 's_vet': [60, 65, 43, 58, 60, 58, 11, 43, 60, 65, 65, 11, 60, 65, 43, 11, 11, 65, 60, 58, 58, 58, 60, 43, 65, 65, 65, 58, 11, 60, 60, 43, 65, 60, 43, 58, 43, 11, 11, 43, 65, 65, 58, 43, 58, 60, 60, 11, 58, 58, 58, 11, 58, 60, 65, 60, 65, 60, 58, 60, 60, 60, 65, 60, 43, 65, 11, 58, 43, 58]}, {'file': 'syntpmed9.txt', 'start_time': datetime.datetime(2023, 7, 11, 1, 17, 55, 888498), 'end_time': datetime.datetime(2023, 7, 11, 1, 17, 55, 933389), 'min_cost': 27.0, 's_vet': [0, 1, 13, 3, 4, 6, 6, 7, 8, 12, 3, 0, 12, 13, 4, 4, 4, 13, 18, 0]}]\n",
            "[{'file': 'syntpmed1.txt', 'start_time': datetime.datetime(2023, 7, 11, 1, 17, 55, 347463), 'end_time': datetime.datetime(2023, 7, 11, 1, 17, 55, 348607), 'min_cost': 153.0, 's_vet': [0, 3, 3, 3, 0, 3, 3, 3, 0, 3]}, {'file': 'syntpmed2.txt', 'start_time': datetime.datetime(2023, 7, 11, 1, 17, 55, 349343), 'end_time': datetime.datetime(2023, 7, 11, 1, 17, 55, 353769), 'min_cost': 349.0, 's_vet': [19, 11, 19, 11, 19, 11, 11, 11, 19, 19, 11, 11, 11, 19, 11, 19, 19, 11, 19, 19]}, {'file': 'syntpmed3.txt', 'start_time': datetime.datetime(2023, 7, 11, 1, 17, 55, 357788), 'end_time': datetime.datetime(2023, 7, 11, 1, 17, 55, 385611), 'min_cost': 1332.0, 's_vet': [11, 18, 11, 18, 11, 11, 11, 18, 18, 11, 11, 11, 18, 11, 18, 18, 11, 18, 18, 11, 18, 18, 11, 18, 18, 18, 11, 18, 18, 11, 18, 11, 18, 18, 11, 18, 18, 18, 18, 18, 18, 11, 18, 18, 11, 18, 11, 18, 11, 18]}, {'file': 'syntpmed4.txt', 'start_time': datetime.datetime(2023, 7, 11, 1, 17, 55, 390424), 'end_time': datetime.datetime(2023, 7, 11, 1, 17, 55, 445011), 'min_cost': 1771.0, 's_vet': [59, 50, 50, 50, 59, 50, 59, 50, 50, 59, 59, 59, 59, 59, 59, 50, 50, 50, 50, 50, 59, 59, 59, 50, 50, 50, 59, 50, 50, 59, 59, 59, 50, 59, 59, 50, 59, 59, 59, 59, 50, 59, 50, 59, 59, 59, 50, 59, 50, 59, 50, 59, 59, 59, 50, 59, 50, 50, 50, 59, 50, 50, 50, 50, 59, 59, 59, 50, 50, 50]}, {'file': 'syntpmed5.txt', 'start_time': datetime.datetime(2023, 7, 11, 1, 17, 55, 445853), 'end_time': datetime.datetime(2023, 7, 11, 1, 17, 55, 449648), 'min_cost': 70.0, 's_vet': [0, 1, 5, 3, 4, 5, 5, 4, 1, 3]}, {'file': 'syntpmed6.txt', 'start_time': datetime.datetime(2023, 7, 11, 1, 17, 55, 450507), 'end_time': datetime.datetime(2023, 7, 11, 1, 17, 55, 469113), 'min_cost': 101.0, 's_vet': [18, 19, 14, 17, 4, 14, 4, 14, 18, 4, 4, 17, 14, 4, 14, 4, 18, 17, 18, 19]}, {'file': 'syntpmed7.txt', 'start_time': datetime.datetime(2023, 7, 11, 1, 17, 55, 471691), 'end_time': datetime.datetime(2023, 7, 11, 1, 17, 55, 609586), 'min_cost': 372.0, 's_vet': [9, 49, 7, 11, 49, 7, 49, 7, 43, 9, 7, 11, 9, 43, 11, 11, 7, 7, 43, 49, 9, 49, 43, 11, 9, 49, 43, 7, 7, 7, 7, 9, 43, 43, 7, 11, 11, 7, 7, 11, 9, 7, 11, 43, 49, 9, 11, 11, 7, 49]}, {'file': 'syntpmed8.txt', 'start_time': datetime.datetime(2023, 7, 11, 1, 17, 55, 614580), 'end_time': datetime.datetime(2023, 7, 11, 1, 17, 55, 887178), 'min_cost': 535.0, 's_vet': [60, 65, 43, 58, 60, 58, 11, 43, 60, 65, 65, 11, 60, 65, 43, 11, 11, 65, 60, 58, 58, 58, 60, 43, 65, 65, 65, 58, 11, 60, 60, 43, 65, 60, 43, 58, 43, 11, 11, 43, 65, 65, 58, 43, 58, 60, 60, 11, 58, 58, 58, 11, 58, 60, 65, 60, 65, 60, 58, 60, 60, 60, 65, 60, 43, 65, 11, 58, 43, 58]}, {'file': 'syntpmed9.txt', 'start_time': datetime.datetime(2023, 7, 11, 1, 17, 55, 888498), 'end_time': datetime.datetime(2023, 7, 11, 1, 17, 55, 933389), 'min_cost': 27.0, 's_vet': [0, 1, 13, 3, 4, 6, 6, 7, 8, 12, 3, 0, 12, 13, 4, 4, 4, 13, 18, 0]}, {'file': 'syntpmed10.txt', 'start_time': datetime.datetime(2023, 7, 11, 1, 17, 55, 936161), 'end_time': datetime.datetime(2023, 7, 11, 1, 17, 56, 388341), 'min_cost': 203.0, 's_vet': [20, 17, 37, 3, 22, 24, 33, 37, 20, 20, 33, 45, 24, 30, 24, 23, 24, 17, 23, 22, 20, 45, 22, 23, 24, 23, 22, 22, 22, 24, 30, 17, 37, 23, 45, 23, 33, 17, 23, 23, 37, 37, 17, 37, 24, 45, 22, 22, 30, 45]}]\n",
            "[{'file': 'syntpmed1.txt', 'start_time': datetime.datetime(2023, 7, 11, 1, 17, 55, 347463), 'end_time': datetime.datetime(2023, 7, 11, 1, 17, 55, 348607), 'min_cost': 153.0, 's_vet': [0, 3, 3, 3, 0, 3, 3, 3, 0, 3]}, {'file': 'syntpmed2.txt', 'start_time': datetime.datetime(2023, 7, 11, 1, 17, 55, 349343), 'end_time': datetime.datetime(2023, 7, 11, 1, 17, 55, 353769), 'min_cost': 349.0, 's_vet': [19, 11, 19, 11, 19, 11, 11, 11, 19, 19, 11, 11, 11, 19, 11, 19, 19, 11, 19, 19]}, {'file': 'syntpmed3.txt', 'start_time': datetime.datetime(2023, 7, 11, 1, 17, 55, 357788), 'end_time': datetime.datetime(2023, 7, 11, 1, 17, 55, 385611), 'min_cost': 1332.0, 's_vet': [11, 18, 11, 18, 11, 11, 11, 18, 18, 11, 11, 11, 18, 11, 18, 18, 11, 18, 18, 11, 18, 18, 11, 18, 18, 18, 11, 18, 18, 11, 18, 11, 18, 18, 11, 18, 18, 18, 18, 18, 18, 11, 18, 18, 11, 18, 11, 18, 11, 18]}, {'file': 'syntpmed4.txt', 'start_time': datetime.datetime(2023, 7, 11, 1, 17, 55, 390424), 'end_time': datetime.datetime(2023, 7, 11, 1, 17, 55, 445011), 'min_cost': 1771.0, 's_vet': [59, 50, 50, 50, 59, 50, 59, 50, 50, 59, 59, 59, 59, 59, 59, 50, 50, 50, 50, 50, 59, 59, 59, 50, 50, 50, 59, 50, 50, 59, 59, 59, 50, 59, 59, 50, 59, 59, 59, 59, 50, 59, 50, 59, 59, 59, 50, 59, 50, 59, 50, 59, 59, 59, 50, 59, 50, 50, 50, 59, 50, 50, 50, 50, 59, 59, 59, 50, 50, 50]}, {'file': 'syntpmed5.txt', 'start_time': datetime.datetime(2023, 7, 11, 1, 17, 55, 445853), 'end_time': datetime.datetime(2023, 7, 11, 1, 17, 55, 449648), 'min_cost': 70.0, 's_vet': [0, 1, 5, 3, 4, 5, 5, 4, 1, 3]}, {'file': 'syntpmed6.txt', 'start_time': datetime.datetime(2023, 7, 11, 1, 17, 55, 450507), 'end_time': datetime.datetime(2023, 7, 11, 1, 17, 55, 469113), 'min_cost': 101.0, 's_vet': [18, 19, 14, 17, 4, 14, 4, 14, 18, 4, 4, 17, 14, 4, 14, 4, 18, 17, 18, 19]}, {'file': 'syntpmed7.txt', 'start_time': datetime.datetime(2023, 7, 11, 1, 17, 55, 471691), 'end_time': datetime.datetime(2023, 7, 11, 1, 17, 55, 609586), 'min_cost': 372.0, 's_vet': [9, 49, 7, 11, 49, 7, 49, 7, 43, 9, 7, 11, 9, 43, 11, 11, 7, 7, 43, 49, 9, 49, 43, 11, 9, 49, 43, 7, 7, 7, 7, 9, 43, 43, 7, 11, 11, 7, 7, 11, 9, 7, 11, 43, 49, 9, 11, 11, 7, 49]}, {'file': 'syntpmed8.txt', 'start_time': datetime.datetime(2023, 7, 11, 1, 17, 55, 614580), 'end_time': datetime.datetime(2023, 7, 11, 1, 17, 55, 887178), 'min_cost': 535.0, 's_vet': [60, 65, 43, 58, 60, 58, 11, 43, 60, 65, 65, 11, 60, 65, 43, 11, 11, 65, 60, 58, 58, 58, 60, 43, 65, 65, 65, 58, 11, 60, 60, 43, 65, 60, 43, 58, 43, 11, 11, 43, 65, 65, 58, 43, 58, 60, 60, 11, 58, 58, 58, 11, 58, 60, 65, 60, 65, 60, 58, 60, 60, 60, 65, 60, 43, 65, 11, 58, 43, 58]}, {'file': 'syntpmed9.txt', 'start_time': datetime.datetime(2023, 7, 11, 1, 17, 55, 888498), 'end_time': datetime.datetime(2023, 7, 11, 1, 17, 55, 933389), 'min_cost': 27.0, 's_vet': [0, 1, 13, 3, 4, 6, 6, 7, 8, 12, 3, 0, 12, 13, 4, 4, 4, 13, 18, 0]}, {'file': 'syntpmed10.txt', 'start_time': datetime.datetime(2023, 7, 11, 1, 17, 55, 936161), 'end_time': datetime.datetime(2023, 7, 11, 1, 17, 56, 388341), 'min_cost': 203.0, 's_vet': [20, 17, 37, 3, 22, 24, 33, 37, 20, 20, 33, 45, 24, 30, 24, 23, 24, 17, 23, 22, 20, 45, 22, 23, 24, 23, 22, 22, 22, 24, 30, 17, 37, 23, 45, 23, 33, 17, 23, 23, 37, 37, 17, 37, 24, 45, 22, 22, 30, 45]}, {'file': 'syntpmed11.txt', 'start_time': datetime.datetime(2023, 7, 11, 1, 17, 56, 393258), 'end_time': datetime.datetime(2023, 7, 11, 1, 17, 57, 357536), 'min_cost': 279.0, 's_vet': [0, 0, 39, 0, 20, 20, 20, 61, 47, 58, 51, 47, 34, 39, 61, 15, 20, 0, 0, 24, 20, 58, 34, 47, 24, 15, 15, 24, 0, 47, 61, 24, 51, 24, 34, 34, 34, 51, 61, 39, 15, 24, 0, 61, 20, 39, 20, 47, 51, 20, 47, 51, 47, 58, 51, 47, 15, 58, 58, 34, 34, 61, 58, 24, 24, 51, 39, 47, 51, 61]}]\n",
            "[{'file': 'syntpmed1.txt', 'start_time': datetime.datetime(2023, 7, 11, 1, 17, 55, 347463), 'end_time': datetime.datetime(2023, 7, 11, 1, 17, 55, 348607), 'min_cost': 153.0, 's_vet': [0, 3, 3, 3, 0, 3, 3, 3, 0, 3]}, {'file': 'syntpmed2.txt', 'start_time': datetime.datetime(2023, 7, 11, 1, 17, 55, 349343), 'end_time': datetime.datetime(2023, 7, 11, 1, 17, 55, 353769), 'min_cost': 349.0, 's_vet': [19, 11, 19, 11, 19, 11, 11, 11, 19, 19, 11, 11, 11, 19, 11, 19, 19, 11, 19, 19]}, {'file': 'syntpmed3.txt', 'start_time': datetime.datetime(2023, 7, 11, 1, 17, 55, 357788), 'end_time': datetime.datetime(2023, 7, 11, 1, 17, 55, 385611), 'min_cost': 1332.0, 's_vet': [11, 18, 11, 18, 11, 11, 11, 18, 18, 11, 11, 11, 18, 11, 18, 18, 11, 18, 18, 11, 18, 18, 11, 18, 18, 18, 11, 18, 18, 11, 18, 11, 18, 18, 11, 18, 18, 18, 18, 18, 18, 11, 18, 18, 11, 18, 11, 18, 11, 18]}, {'file': 'syntpmed4.txt', 'start_time': datetime.datetime(2023, 7, 11, 1, 17, 55, 390424), 'end_time': datetime.datetime(2023, 7, 11, 1, 17, 55, 445011), 'min_cost': 1771.0, 's_vet': [59, 50, 50, 50, 59, 50, 59, 50, 50, 59, 59, 59, 59, 59, 59, 50, 50, 50, 50, 50, 59, 59, 59, 50, 50, 50, 59, 50, 50, 59, 59, 59, 50, 59, 59, 50, 59, 59, 59, 59, 50, 59, 50, 59, 59, 59, 50, 59, 50, 59, 50, 59, 59, 59, 50, 59, 50, 50, 50, 59, 50, 50, 50, 50, 59, 59, 59, 50, 50, 50]}, {'file': 'syntpmed5.txt', 'start_time': datetime.datetime(2023, 7, 11, 1, 17, 55, 445853), 'end_time': datetime.datetime(2023, 7, 11, 1, 17, 55, 449648), 'min_cost': 70.0, 's_vet': [0, 1, 5, 3, 4, 5, 5, 4, 1, 3]}, {'file': 'syntpmed6.txt', 'start_time': datetime.datetime(2023, 7, 11, 1, 17, 55, 450507), 'end_time': datetime.datetime(2023, 7, 11, 1, 17, 55, 469113), 'min_cost': 101.0, 's_vet': [18, 19, 14, 17, 4, 14, 4, 14, 18, 4, 4, 17, 14, 4, 14, 4, 18, 17, 18, 19]}, {'file': 'syntpmed7.txt', 'start_time': datetime.datetime(2023, 7, 11, 1, 17, 55, 471691), 'end_time': datetime.datetime(2023, 7, 11, 1, 17, 55, 609586), 'min_cost': 372.0, 's_vet': [9, 49, 7, 11, 49, 7, 49, 7, 43, 9, 7, 11, 9, 43, 11, 11, 7, 7, 43, 49, 9, 49, 43, 11, 9, 49, 43, 7, 7, 7, 7, 9, 43, 43, 7, 11, 11, 7, 7, 11, 9, 7, 11, 43, 49, 9, 11, 11, 7, 49]}, {'file': 'syntpmed8.txt', 'start_time': datetime.datetime(2023, 7, 11, 1, 17, 55, 614580), 'end_time': datetime.datetime(2023, 7, 11, 1, 17, 55, 887178), 'min_cost': 535.0, 's_vet': [60, 65, 43, 58, 60, 58, 11, 43, 60, 65, 65, 11, 60, 65, 43, 11, 11, 65, 60, 58, 58, 58, 60, 43, 65, 65, 65, 58, 11, 60, 60, 43, 65, 60, 43, 58, 43, 11, 11, 43, 65, 65, 58, 43, 58, 60, 60, 11, 58, 58, 58, 11, 58, 60, 65, 60, 65, 60, 58, 60, 60, 60, 65, 60, 43, 65, 11, 58, 43, 58]}, {'file': 'syntpmed9.txt', 'start_time': datetime.datetime(2023, 7, 11, 1, 17, 55, 888498), 'end_time': datetime.datetime(2023, 7, 11, 1, 17, 55, 933389), 'min_cost': 27.0, 's_vet': [0, 1, 13, 3, 4, 6, 6, 7, 8, 12, 3, 0, 12, 13, 4, 4, 4, 13, 18, 0]}, {'file': 'syntpmed10.txt', 'start_time': datetime.datetime(2023, 7, 11, 1, 17, 55, 936161), 'end_time': datetime.datetime(2023, 7, 11, 1, 17, 56, 388341), 'min_cost': 203.0, 's_vet': [20, 17, 37, 3, 22, 24, 33, 37, 20, 20, 33, 45, 24, 30, 24, 23, 24, 17, 23, 22, 20, 45, 22, 23, 24, 23, 22, 22, 22, 24, 30, 17, 37, 23, 45, 23, 33, 17, 23, 23, 37, 37, 17, 37, 24, 45, 22, 22, 30, 45]}, {'file': 'syntpmed11.txt', 'start_time': datetime.datetime(2023, 7, 11, 1, 17, 56, 393258), 'end_time': datetime.datetime(2023, 7, 11, 1, 17, 57, 357536), 'min_cost': 279.0, 's_vet': [0, 0, 39, 0, 20, 20, 20, 61, 47, 58, 51, 47, 34, 39, 61, 15, 20, 0, 0, 24, 20, 58, 34, 47, 24, 15, 15, 24, 0, 47, 61, 24, 51, 24, 34, 34, 34, 51, 61, 39, 15, 24, 0, 61, 20, 39, 20, 47, 51, 20, 47, 51, 47, 58, 51, 47, 15, 58, 58, 34, 34, 61, 58, 24, 24, 51, 39, 47, 51, 61]}]\n"
          ]
        }
      ]
    },
    {
      "cell_type": "code",
      "source": [
        "h_df = pd.DataFrame(h)\n",
        "print(h_df)\n",
        "h_df.to_csv(\"heuristic_exchange_sol.csv\")"
      ],
      "metadata": {
        "id": "Ez0BGsWEvxCn"
      },
      "execution_count": null,
      "outputs": []
    },
    {
      "cell_type": "markdown",
      "metadata": {
        "id": "7gGSrd6Om97o"
      },
      "source": [
        "## Exchange + Myopic Solution"
      ]
    },
    {
      "cell_type": "markdown",
      "source": [
        "### Solver"
      ],
      "metadata": {
        "id": "J0fpazqim98H"
      }
    },
    {
      "cell_type": "code",
      "execution_count": null,
      "metadata": {
        "id": "a22zFDTcm98H"
      },
      "outputs": [],
      "source": [
        "def heuristic_exchange_myopic_solver(vertices, edges, p, cost_mat):\n",
        "  # solutions = []\n",
        "\n",
        "  # def sol init\n",
        "  s_ini, sol_init  = heuristic_myopic_solver(vertices, edges, p, cost_mat)\n",
        "\n",
        "  # def sol final\n",
        "  s_final, sol_final = heuristic_exchange_solver(vertices, edges, p, cost_mat, sol_init)\n",
        "\n",
        "  return s_final, sol_final"
      ]
    },
    {
      "cell_type": "code",
      "source": [
        "h = []\n",
        "\n",
        "for pmed in synthetic_pmeds:\n",
        "  data = get_dataset(pmed)\n",
        "\n",
        "  start_time =  datetime.datetime.now()\n",
        "  solutions = heuristic_exchange_myopic_solver(data[\"vertices\"], data[\"edges\"], data[\"p\"], data[\"cost_mat\"])\n",
        "  end_time =  datetime.datetime.now()\n",
        "\n",
        "\n",
        "  h.append({\n",
        "      \"file\": pmed,\n",
        "      \"start_time\": start_time,\n",
        "      \"end_time\": end_time,\n",
        "      \"min_cost\": solutions[0].c,\n",
        "      \"s_vet\": solutions[0].s_vet\n",
        "  })\n",
        "  print(h)\n",
        "\n",
        "print(h)"
      ],
      "metadata": {
        "colab": {
          "base_uri": "https://localhost:8080/"
        },
        "outputId": "fbceca2b-fd76-4270-f9eb-b20dfb1af008",
        "id": "JwtwsSB_m98I"
      },
      "execution_count": null,
      "outputs": [
        {
          "output_type": "stream",
          "name": "stdout",
          "text": [
            "[{'file': 'syntpmed1.txt', 'start_time': datetime.datetime(2023, 7, 11, 1, 45, 48, 362864), 'end_time': datetime.datetime(2023, 7, 11, 1, 45, 48, 366230), 'min_cost': 153.0, 's_vet': [0, 3, 3, 3, 0, 3, 3, 3, 0, 3]}]\n",
            "[{'file': 'syntpmed1.txt', 'start_time': datetime.datetime(2023, 7, 11, 1, 45, 48, 362864), 'end_time': datetime.datetime(2023, 7, 11, 1, 45, 48, 366230), 'min_cost': 153.0, 's_vet': [0, 3, 3, 3, 0, 3, 3, 3, 0, 3]}, {'file': 'syntpmed2.txt', 'start_time': datetime.datetime(2023, 7, 11, 1, 45, 48, 367636), 'end_time': datetime.datetime(2023, 7, 11, 1, 45, 48, 375573), 'min_cost': 471.0, 's_vet': [6, 17, 6, 6, 17, 6, 6, 17, 6, 17, 6, 17, 6, 17, 17, 17, 17, 6, 6, 17]}]\n",
            "[{'file': 'syntpmed1.txt', 'start_time': datetime.datetime(2023, 7, 11, 1, 45, 48, 362864), 'end_time': datetime.datetime(2023, 7, 11, 1, 45, 48, 366230), 'min_cost': 153.0, 's_vet': [0, 3, 3, 3, 0, 3, 3, 3, 0, 3]}, {'file': 'syntpmed2.txt', 'start_time': datetime.datetime(2023, 7, 11, 1, 45, 48, 367636), 'end_time': datetime.datetime(2023, 7, 11, 1, 45, 48, 375573), 'min_cost': 471.0, 's_vet': [6, 17, 6, 6, 17, 6, 6, 17, 6, 17, 6, 17, 6, 17, 17, 17, 17, 6, 6, 17]}, {'file': 'syntpmed3.txt', 'start_time': datetime.datetime(2023, 7, 11, 1, 45, 48, 378644), 'end_time': datetime.datetime(2023, 7, 11, 1, 45, 48, 428493), 'min_cost': 1239.0, 's_vet': [42, 1, 1, 42, 42, 1, 42, 1, 42, 1, 1, 42, 42, 42, 42, 42, 42, 1, 1, 1, 42, 42, 42, 42, 1, 1, 42, 1, 42, 1, 1, 1, 1, 1, 42, 42, 1, 42, 42, 1, 42, 42, 42, 42, 42, 42, 42, 1, 42, 42]}]\n",
            "[{'file': 'syntpmed1.txt', 'start_time': datetime.datetime(2023, 7, 11, 1, 45, 48, 362864), 'end_time': datetime.datetime(2023, 7, 11, 1, 45, 48, 366230), 'min_cost': 153.0, 's_vet': [0, 3, 3, 3, 0, 3, 3, 3, 0, 3]}, {'file': 'syntpmed2.txt', 'start_time': datetime.datetime(2023, 7, 11, 1, 45, 48, 367636), 'end_time': datetime.datetime(2023, 7, 11, 1, 45, 48, 375573), 'min_cost': 471.0, 's_vet': [6, 17, 6, 6, 17, 6, 6, 17, 6, 17, 6, 17, 6, 17, 17, 17, 17, 6, 6, 17]}, {'file': 'syntpmed3.txt', 'start_time': datetime.datetime(2023, 7, 11, 1, 45, 48, 378644), 'end_time': datetime.datetime(2023, 7, 11, 1, 45, 48, 428493), 'min_cost': 1239.0, 's_vet': [42, 1, 1, 42, 42, 1, 42, 1, 42, 1, 1, 42, 42, 42, 42, 42, 42, 1, 1, 1, 42, 42, 42, 42, 1, 1, 42, 1, 42, 1, 1, 1, 1, 1, 42, 42, 1, 42, 42, 1, 42, 42, 42, 42, 42, 42, 42, 1, 42, 42]}, {'file': 'syntpmed4.txt', 'start_time': datetime.datetime(2023, 7, 11, 1, 45, 48, 433522), 'end_time': datetime.datetime(2023, 7, 11, 1, 45, 48, 532183), 'min_cost': 1724.0, 's_vet': [26, 26, 48, 48, 48, 26, 26, 48, 48, 48, 48, 48, 26, 26, 48, 48, 48, 48, 48, 48, 26, 48, 26, 26, 26, 26, 26, 26, 26, 26, 26, 48, 48, 26, 26, 26, 26, 26, 26, 48, 26, 48, 26, 48, 48, 48, 26, 48, 26, 26, 48, 48, 48, 26, 26, 48, 48, 26, 26, 26, 48, 48, 26, 26, 48, 26, 48, 48, 48, 48]}]\n",
            "[{'file': 'syntpmed1.txt', 'start_time': datetime.datetime(2023, 7, 11, 1, 45, 48, 362864), 'end_time': datetime.datetime(2023, 7, 11, 1, 45, 48, 366230), 'min_cost': 153.0, 's_vet': [0, 3, 3, 3, 0, 3, 3, 3, 0, 3]}, {'file': 'syntpmed2.txt', 'start_time': datetime.datetime(2023, 7, 11, 1, 45, 48, 367636), 'end_time': datetime.datetime(2023, 7, 11, 1, 45, 48, 375573), 'min_cost': 471.0, 's_vet': [6, 17, 6, 6, 17, 6, 6, 17, 6, 17, 6, 17, 6, 17, 17, 17, 17, 6, 6, 17]}, {'file': 'syntpmed3.txt', 'start_time': datetime.datetime(2023, 7, 11, 1, 45, 48, 378644), 'end_time': datetime.datetime(2023, 7, 11, 1, 45, 48, 428493), 'min_cost': 1239.0, 's_vet': [42, 1, 1, 42, 42, 1, 42, 1, 42, 1, 1, 42, 42, 42, 42, 42, 42, 1, 1, 1, 42, 42, 42, 42, 1, 1, 42, 1, 42, 1, 1, 1, 1, 1, 42, 42, 1, 42, 42, 1, 42, 42, 42, 42, 42, 42, 42, 1, 42, 42]}, {'file': 'syntpmed4.txt', 'start_time': datetime.datetime(2023, 7, 11, 1, 45, 48, 433522), 'end_time': datetime.datetime(2023, 7, 11, 1, 45, 48, 532183), 'min_cost': 1724.0, 's_vet': [26, 26, 48, 48, 48, 26, 26, 48, 48, 48, 48, 48, 26, 26, 48, 48, 48, 48, 48, 48, 26, 48, 26, 26, 26, 26, 26, 26, 26, 26, 26, 48, 48, 26, 26, 26, 26, 26, 26, 48, 26, 48, 26, 48, 48, 48, 26, 48, 26, 26, 48, 48, 48, 26, 26, 48, 48, 26, 26, 26, 48, 48, 26, 26, 48, 26, 48, 48, 48, 48]}, {'file': 'syntpmed5.txt', 'start_time': datetime.datetime(2023, 7, 11, 1, 45, 48, 533096), 'end_time': datetime.datetime(2023, 7, 11, 1, 45, 48, 539679), 'min_cost': 67.0, 's_vet': [0, 1, 2, 3, 5, 5, 5, 1, 1, 3]}]\n",
            "[{'file': 'syntpmed1.txt', 'start_time': datetime.datetime(2023, 7, 11, 1, 45, 48, 362864), 'end_time': datetime.datetime(2023, 7, 11, 1, 45, 48, 366230), 'min_cost': 153.0, 's_vet': [0, 3, 3, 3, 0, 3, 3, 3, 0, 3]}, {'file': 'syntpmed2.txt', 'start_time': datetime.datetime(2023, 7, 11, 1, 45, 48, 367636), 'end_time': datetime.datetime(2023, 7, 11, 1, 45, 48, 375573), 'min_cost': 471.0, 's_vet': [6, 17, 6, 6, 17, 6, 6, 17, 6, 17, 6, 17, 6, 17, 17, 17, 17, 6, 6, 17]}, {'file': 'syntpmed3.txt', 'start_time': datetime.datetime(2023, 7, 11, 1, 45, 48, 378644), 'end_time': datetime.datetime(2023, 7, 11, 1, 45, 48, 428493), 'min_cost': 1239.0, 's_vet': [42, 1, 1, 42, 42, 1, 42, 1, 42, 1, 1, 42, 42, 42, 42, 42, 42, 1, 1, 1, 42, 42, 42, 42, 1, 1, 42, 1, 42, 1, 1, 1, 1, 1, 42, 42, 1, 42, 42, 1, 42, 42, 42, 42, 42, 42, 42, 1, 42, 42]}, {'file': 'syntpmed4.txt', 'start_time': datetime.datetime(2023, 7, 11, 1, 45, 48, 433522), 'end_time': datetime.datetime(2023, 7, 11, 1, 45, 48, 532183), 'min_cost': 1724.0, 's_vet': [26, 26, 48, 48, 48, 26, 26, 48, 48, 48, 48, 48, 26, 26, 48, 48, 48, 48, 48, 48, 26, 48, 26, 26, 26, 26, 26, 26, 26, 26, 26, 48, 48, 26, 26, 26, 26, 26, 26, 48, 26, 48, 26, 48, 48, 48, 26, 48, 26, 26, 48, 48, 48, 26, 26, 48, 48, 26, 26, 26, 48, 48, 26, 26, 48, 26, 48, 48, 48, 48]}, {'file': 'syntpmed5.txt', 'start_time': datetime.datetime(2023, 7, 11, 1, 45, 48, 533096), 'end_time': datetime.datetime(2023, 7, 11, 1, 45, 48, 539679), 'min_cost': 67.0, 's_vet': [0, 1, 2, 3, 5, 5, 5, 1, 1, 3]}, {'file': 'syntpmed6.txt', 'start_time': datetime.datetime(2023, 7, 11, 1, 45, 48, 540532), 'end_time': datetime.datetime(2023, 7, 11, 1, 45, 48, 576672), 'min_cost': 102.0, 's_vet': [0, 11, 14, 13, 4, 14, 4, 14, 13, 4, 4, 11, 14, 13, 14, 4, 0, 11, 0, 13]}]\n",
            "[{'file': 'syntpmed1.txt', 'start_time': datetime.datetime(2023, 7, 11, 1, 45, 48, 362864), 'end_time': datetime.datetime(2023, 7, 11, 1, 45, 48, 366230), 'min_cost': 153.0, 's_vet': [0, 3, 3, 3, 0, 3, 3, 3, 0, 3]}, {'file': 'syntpmed2.txt', 'start_time': datetime.datetime(2023, 7, 11, 1, 45, 48, 367636), 'end_time': datetime.datetime(2023, 7, 11, 1, 45, 48, 375573), 'min_cost': 471.0, 's_vet': [6, 17, 6, 6, 17, 6, 6, 17, 6, 17, 6, 17, 6, 17, 17, 17, 17, 6, 6, 17]}, {'file': 'syntpmed3.txt', 'start_time': datetime.datetime(2023, 7, 11, 1, 45, 48, 378644), 'end_time': datetime.datetime(2023, 7, 11, 1, 45, 48, 428493), 'min_cost': 1239.0, 's_vet': [42, 1, 1, 42, 42, 1, 42, 1, 42, 1, 1, 42, 42, 42, 42, 42, 42, 1, 1, 1, 42, 42, 42, 42, 1, 1, 42, 1, 42, 1, 1, 1, 1, 1, 42, 42, 1, 42, 42, 1, 42, 42, 42, 42, 42, 42, 42, 1, 42, 42]}, {'file': 'syntpmed4.txt', 'start_time': datetime.datetime(2023, 7, 11, 1, 45, 48, 433522), 'end_time': datetime.datetime(2023, 7, 11, 1, 45, 48, 532183), 'min_cost': 1724.0, 's_vet': [26, 26, 48, 48, 48, 26, 26, 48, 48, 48, 48, 48, 26, 26, 48, 48, 48, 48, 48, 48, 26, 48, 26, 26, 26, 26, 26, 26, 26, 26, 26, 48, 48, 26, 26, 26, 26, 26, 26, 48, 26, 48, 26, 48, 48, 48, 26, 48, 26, 26, 48, 48, 48, 26, 26, 48, 48, 26, 26, 26, 48, 48, 26, 26, 48, 26, 48, 48, 48, 48]}, {'file': 'syntpmed5.txt', 'start_time': datetime.datetime(2023, 7, 11, 1, 45, 48, 533096), 'end_time': datetime.datetime(2023, 7, 11, 1, 45, 48, 539679), 'min_cost': 67.0, 's_vet': [0, 1, 2, 3, 5, 5, 5, 1, 1, 3]}, {'file': 'syntpmed6.txt', 'start_time': datetime.datetime(2023, 7, 11, 1, 45, 48, 540532), 'end_time': datetime.datetime(2023, 7, 11, 1, 45, 48, 576672), 'min_cost': 102.0, 's_vet': [0, 11, 14, 13, 4, 14, 4, 14, 13, 4, 4, 11, 14, 13, 14, 4, 0, 11, 0, 13]}, {'file': 'syntpmed7.txt', 'start_time': datetime.datetime(2023, 7, 11, 1, 45, 48, 579593), 'end_time': datetime.datetime(2023, 7, 11, 1, 45, 48, 809478), 'min_cost': 356.0, 's_vet': [11, 31, 7, 31, 31, 7, 21, 7, 21, 31, 10, 11, 31, 21, 11, 11, 7, 10, 11, 7, 21, 21, 21, 31, 21, 10, 10, 7, 7, 7, 21, 31, 10, 10, 21, 11, 21, 7, 7, 11, 10, 10, 31, 11, 21, 31, 21, 11, 7, 21]}]\n",
            "[{'file': 'syntpmed1.txt', 'start_time': datetime.datetime(2023, 7, 11, 1, 45, 48, 362864), 'end_time': datetime.datetime(2023, 7, 11, 1, 45, 48, 366230), 'min_cost': 153.0, 's_vet': [0, 3, 3, 3, 0, 3, 3, 3, 0, 3]}, {'file': 'syntpmed2.txt', 'start_time': datetime.datetime(2023, 7, 11, 1, 45, 48, 367636), 'end_time': datetime.datetime(2023, 7, 11, 1, 45, 48, 375573), 'min_cost': 471.0, 's_vet': [6, 17, 6, 6, 17, 6, 6, 17, 6, 17, 6, 17, 6, 17, 17, 17, 17, 6, 6, 17]}, {'file': 'syntpmed3.txt', 'start_time': datetime.datetime(2023, 7, 11, 1, 45, 48, 378644), 'end_time': datetime.datetime(2023, 7, 11, 1, 45, 48, 428493), 'min_cost': 1239.0, 's_vet': [42, 1, 1, 42, 42, 1, 42, 1, 42, 1, 1, 42, 42, 42, 42, 42, 42, 1, 1, 1, 42, 42, 42, 42, 1, 1, 42, 1, 42, 1, 1, 1, 1, 1, 42, 42, 1, 42, 42, 1, 42, 42, 42, 42, 42, 42, 42, 1, 42, 42]}, {'file': 'syntpmed4.txt', 'start_time': datetime.datetime(2023, 7, 11, 1, 45, 48, 433522), 'end_time': datetime.datetime(2023, 7, 11, 1, 45, 48, 532183), 'min_cost': 1724.0, 's_vet': [26, 26, 48, 48, 48, 26, 26, 48, 48, 48, 48, 48, 26, 26, 48, 48, 48, 48, 48, 48, 26, 48, 26, 26, 26, 26, 26, 26, 26, 26, 26, 48, 48, 26, 26, 26, 26, 26, 26, 48, 26, 48, 26, 48, 48, 48, 26, 48, 26, 26, 48, 48, 48, 26, 26, 48, 48, 26, 26, 26, 48, 48, 26, 26, 48, 26, 48, 48, 48, 48]}, {'file': 'syntpmed5.txt', 'start_time': datetime.datetime(2023, 7, 11, 1, 45, 48, 533096), 'end_time': datetime.datetime(2023, 7, 11, 1, 45, 48, 539679), 'min_cost': 67.0, 's_vet': [0, 1, 2, 3, 5, 5, 5, 1, 1, 3]}, {'file': 'syntpmed6.txt', 'start_time': datetime.datetime(2023, 7, 11, 1, 45, 48, 540532), 'end_time': datetime.datetime(2023, 7, 11, 1, 45, 48, 576672), 'min_cost': 102.0, 's_vet': [0, 11, 14, 13, 4, 14, 4, 14, 13, 4, 4, 11, 14, 13, 14, 4, 0, 11, 0, 13]}, {'file': 'syntpmed7.txt', 'start_time': datetime.datetime(2023, 7, 11, 1, 45, 48, 579593), 'end_time': datetime.datetime(2023, 7, 11, 1, 45, 48, 809478), 'min_cost': 356.0, 's_vet': [11, 31, 7, 31, 31, 7, 21, 7, 21, 31, 10, 11, 31, 21, 11, 11, 7, 10, 11, 7, 21, 21, 21, 31, 21, 10, 10, 7, 7, 7, 21, 31, 10, 10, 21, 11, 21, 7, 7, 11, 10, 10, 31, 11, 21, 31, 21, 11, 7, 21]}, {'file': 'syntpmed8.txt', 'start_time': datetime.datetime(2023, 7, 11, 1, 45, 48, 814334), 'end_time': datetime.datetime(2023, 7, 11, 1, 45, 49, 277289), 'min_cost': 539.0, 's_vet': [60, 65, 60, 58, 60, 58, 37, 43, 60, 65, 65, 37, 60, 65, 43, 58, 37, 65, 60, 58, 58, 58, 60, 37, 65, 65, 65, 58, 58, 37, 60, 43, 65, 60, 43, 37, 37, 37, 43, 43, 37, 65, 58, 43, 58, 60, 60, 43, 58, 58, 58, 37, 58, 60, 65, 60, 65, 60, 58, 37, 60, 60, 65, 60, 43, 65, 58, 58, 43, 58]}]\n",
            "[{'file': 'syntpmed1.txt', 'start_time': datetime.datetime(2023, 7, 11, 1, 45, 48, 362864), 'end_time': datetime.datetime(2023, 7, 11, 1, 45, 48, 366230), 'min_cost': 153.0, 's_vet': [0, 3, 3, 3, 0, 3, 3, 3, 0, 3]}, {'file': 'syntpmed2.txt', 'start_time': datetime.datetime(2023, 7, 11, 1, 45, 48, 367636), 'end_time': datetime.datetime(2023, 7, 11, 1, 45, 48, 375573), 'min_cost': 471.0, 's_vet': [6, 17, 6, 6, 17, 6, 6, 17, 6, 17, 6, 17, 6, 17, 17, 17, 17, 6, 6, 17]}, {'file': 'syntpmed3.txt', 'start_time': datetime.datetime(2023, 7, 11, 1, 45, 48, 378644), 'end_time': datetime.datetime(2023, 7, 11, 1, 45, 48, 428493), 'min_cost': 1239.0, 's_vet': [42, 1, 1, 42, 42, 1, 42, 1, 42, 1, 1, 42, 42, 42, 42, 42, 42, 1, 1, 1, 42, 42, 42, 42, 1, 1, 42, 1, 42, 1, 1, 1, 1, 1, 42, 42, 1, 42, 42, 1, 42, 42, 42, 42, 42, 42, 42, 1, 42, 42]}, {'file': 'syntpmed4.txt', 'start_time': datetime.datetime(2023, 7, 11, 1, 45, 48, 433522), 'end_time': datetime.datetime(2023, 7, 11, 1, 45, 48, 532183), 'min_cost': 1724.0, 's_vet': [26, 26, 48, 48, 48, 26, 26, 48, 48, 48, 48, 48, 26, 26, 48, 48, 48, 48, 48, 48, 26, 48, 26, 26, 26, 26, 26, 26, 26, 26, 26, 48, 48, 26, 26, 26, 26, 26, 26, 48, 26, 48, 26, 48, 48, 48, 26, 48, 26, 26, 48, 48, 48, 26, 26, 48, 48, 26, 26, 26, 48, 48, 26, 26, 48, 26, 48, 48, 48, 48]}, {'file': 'syntpmed5.txt', 'start_time': datetime.datetime(2023, 7, 11, 1, 45, 48, 533096), 'end_time': datetime.datetime(2023, 7, 11, 1, 45, 48, 539679), 'min_cost': 67.0, 's_vet': [0, 1, 2, 3, 5, 5, 5, 1, 1, 3]}, {'file': 'syntpmed6.txt', 'start_time': datetime.datetime(2023, 7, 11, 1, 45, 48, 540532), 'end_time': datetime.datetime(2023, 7, 11, 1, 45, 48, 576672), 'min_cost': 102.0, 's_vet': [0, 11, 14, 13, 4, 14, 4, 14, 13, 4, 4, 11, 14, 13, 14, 4, 0, 11, 0, 13]}, {'file': 'syntpmed7.txt', 'start_time': datetime.datetime(2023, 7, 11, 1, 45, 48, 579593), 'end_time': datetime.datetime(2023, 7, 11, 1, 45, 48, 809478), 'min_cost': 356.0, 's_vet': [11, 31, 7, 31, 31, 7, 21, 7, 21, 31, 10, 11, 31, 21, 11, 11, 7, 10, 11, 7, 21, 21, 21, 31, 21, 10, 10, 7, 7, 7, 21, 31, 10, 10, 21, 11, 21, 7, 7, 11, 10, 10, 31, 11, 21, 31, 21, 11, 7, 21]}, {'file': 'syntpmed8.txt', 'start_time': datetime.datetime(2023, 7, 11, 1, 45, 48, 814334), 'end_time': datetime.datetime(2023, 7, 11, 1, 45, 49, 277289), 'min_cost': 539.0, 's_vet': [60, 65, 60, 58, 60, 58, 37, 43, 60, 65, 65, 37, 60, 65, 43, 58, 37, 65, 60, 58, 58, 58, 60, 37, 65, 65, 65, 58, 58, 37, 60, 43, 65, 60, 43, 37, 37, 37, 43, 43, 37, 65, 58, 43, 58, 60, 60, 43, 58, 58, 58, 37, 58, 60, 65, 60, 65, 60, 58, 37, 60, 60, 65, 60, 43, 65, 58, 58, 43, 58]}, {'file': 'syntpmed9.txt', 'start_time': datetime.datetime(2023, 7, 11, 1, 45, 49, 278734), 'end_time': datetime.datetime(2023, 7, 11, 1, 45, 49, 363732), 'min_cost': 34.0, 's_vet': [11, 1, 13, 10, 14, 10, 11, 14, 8, 9, 10, 11, 11, 13, 14, 15, 16, 13, 13, 19]}]\n",
            "[{'file': 'syntpmed1.txt', 'start_time': datetime.datetime(2023, 7, 11, 1, 45, 48, 362864), 'end_time': datetime.datetime(2023, 7, 11, 1, 45, 48, 366230), 'min_cost': 153.0, 's_vet': [0, 3, 3, 3, 0, 3, 3, 3, 0, 3]}, {'file': 'syntpmed2.txt', 'start_time': datetime.datetime(2023, 7, 11, 1, 45, 48, 367636), 'end_time': datetime.datetime(2023, 7, 11, 1, 45, 48, 375573), 'min_cost': 471.0, 's_vet': [6, 17, 6, 6, 17, 6, 6, 17, 6, 17, 6, 17, 6, 17, 17, 17, 17, 6, 6, 17]}, {'file': 'syntpmed3.txt', 'start_time': datetime.datetime(2023, 7, 11, 1, 45, 48, 378644), 'end_time': datetime.datetime(2023, 7, 11, 1, 45, 48, 428493), 'min_cost': 1239.0, 's_vet': [42, 1, 1, 42, 42, 1, 42, 1, 42, 1, 1, 42, 42, 42, 42, 42, 42, 1, 1, 1, 42, 42, 42, 42, 1, 1, 42, 1, 42, 1, 1, 1, 1, 1, 42, 42, 1, 42, 42, 1, 42, 42, 42, 42, 42, 42, 42, 1, 42, 42]}, {'file': 'syntpmed4.txt', 'start_time': datetime.datetime(2023, 7, 11, 1, 45, 48, 433522), 'end_time': datetime.datetime(2023, 7, 11, 1, 45, 48, 532183), 'min_cost': 1724.0, 's_vet': [26, 26, 48, 48, 48, 26, 26, 48, 48, 48, 48, 48, 26, 26, 48, 48, 48, 48, 48, 48, 26, 48, 26, 26, 26, 26, 26, 26, 26, 26, 26, 48, 48, 26, 26, 26, 26, 26, 26, 48, 26, 48, 26, 48, 48, 48, 26, 48, 26, 26, 48, 48, 48, 26, 26, 48, 48, 26, 26, 26, 48, 48, 26, 26, 48, 26, 48, 48, 48, 48]}, {'file': 'syntpmed5.txt', 'start_time': datetime.datetime(2023, 7, 11, 1, 45, 48, 533096), 'end_time': datetime.datetime(2023, 7, 11, 1, 45, 48, 539679), 'min_cost': 67.0, 's_vet': [0, 1, 2, 3, 5, 5, 5, 1, 1, 3]}, {'file': 'syntpmed6.txt', 'start_time': datetime.datetime(2023, 7, 11, 1, 45, 48, 540532), 'end_time': datetime.datetime(2023, 7, 11, 1, 45, 48, 576672), 'min_cost': 102.0, 's_vet': [0, 11, 14, 13, 4, 14, 4, 14, 13, 4, 4, 11, 14, 13, 14, 4, 0, 11, 0, 13]}, {'file': 'syntpmed7.txt', 'start_time': datetime.datetime(2023, 7, 11, 1, 45, 48, 579593), 'end_time': datetime.datetime(2023, 7, 11, 1, 45, 48, 809478), 'min_cost': 356.0, 's_vet': [11, 31, 7, 31, 31, 7, 21, 7, 21, 31, 10, 11, 31, 21, 11, 11, 7, 10, 11, 7, 21, 21, 21, 31, 21, 10, 10, 7, 7, 7, 21, 31, 10, 10, 21, 11, 21, 7, 7, 11, 10, 10, 31, 11, 21, 31, 21, 11, 7, 21]}, {'file': 'syntpmed8.txt', 'start_time': datetime.datetime(2023, 7, 11, 1, 45, 48, 814334), 'end_time': datetime.datetime(2023, 7, 11, 1, 45, 49, 277289), 'min_cost': 539.0, 's_vet': [60, 65, 60, 58, 60, 58, 37, 43, 60, 65, 65, 37, 60, 65, 43, 58, 37, 65, 60, 58, 58, 58, 60, 37, 65, 65, 65, 58, 58, 37, 60, 43, 65, 60, 43, 37, 37, 37, 43, 43, 37, 65, 58, 43, 58, 60, 60, 43, 58, 58, 58, 37, 58, 60, 65, 60, 65, 60, 58, 37, 60, 60, 65, 60, 43, 65, 58, 58, 43, 58]}, {'file': 'syntpmed9.txt', 'start_time': datetime.datetime(2023, 7, 11, 1, 45, 49, 278734), 'end_time': datetime.datetime(2023, 7, 11, 1, 45, 49, 363732), 'min_cost': 34.0, 's_vet': [11, 1, 13, 10, 14, 10, 11, 14, 8, 9, 10, 11, 11, 13, 14, 15, 16, 13, 13, 19]}, {'file': 'syntpmed10.txt', 'start_time': datetime.datetime(2023, 7, 11, 1, 45, 49, 366891), 'end_time': datetime.datetime(2023, 7, 11, 1, 45, 50, 110688), 'min_cost': 188.0, 's_vet': [40, 42, 40, 42, 40, 5, 5, 7, 7, 46, 46, 23, 12, 5, 24, 23, 5, 42, 46, 7, 21, 21, 22, 23, 24, 23, 22, 22, 22, 24, 21, 12, 40, 23, 7, 23, 40, 7, 5, 46, 40, 5, 42, 22, 24, 21, 46, 22, 22, 22]}]\n",
            "[{'file': 'syntpmed1.txt', 'start_time': datetime.datetime(2023, 7, 11, 1, 45, 48, 362864), 'end_time': datetime.datetime(2023, 7, 11, 1, 45, 48, 366230), 'min_cost': 153.0, 's_vet': [0, 3, 3, 3, 0, 3, 3, 3, 0, 3]}, {'file': 'syntpmed2.txt', 'start_time': datetime.datetime(2023, 7, 11, 1, 45, 48, 367636), 'end_time': datetime.datetime(2023, 7, 11, 1, 45, 48, 375573), 'min_cost': 471.0, 's_vet': [6, 17, 6, 6, 17, 6, 6, 17, 6, 17, 6, 17, 6, 17, 17, 17, 17, 6, 6, 17]}, {'file': 'syntpmed3.txt', 'start_time': datetime.datetime(2023, 7, 11, 1, 45, 48, 378644), 'end_time': datetime.datetime(2023, 7, 11, 1, 45, 48, 428493), 'min_cost': 1239.0, 's_vet': [42, 1, 1, 42, 42, 1, 42, 1, 42, 1, 1, 42, 42, 42, 42, 42, 42, 1, 1, 1, 42, 42, 42, 42, 1, 1, 42, 1, 42, 1, 1, 1, 1, 1, 42, 42, 1, 42, 42, 1, 42, 42, 42, 42, 42, 42, 42, 1, 42, 42]}, {'file': 'syntpmed4.txt', 'start_time': datetime.datetime(2023, 7, 11, 1, 45, 48, 433522), 'end_time': datetime.datetime(2023, 7, 11, 1, 45, 48, 532183), 'min_cost': 1724.0, 's_vet': [26, 26, 48, 48, 48, 26, 26, 48, 48, 48, 48, 48, 26, 26, 48, 48, 48, 48, 48, 48, 26, 48, 26, 26, 26, 26, 26, 26, 26, 26, 26, 48, 48, 26, 26, 26, 26, 26, 26, 48, 26, 48, 26, 48, 48, 48, 26, 48, 26, 26, 48, 48, 48, 26, 26, 48, 48, 26, 26, 26, 48, 48, 26, 26, 48, 26, 48, 48, 48, 48]}, {'file': 'syntpmed5.txt', 'start_time': datetime.datetime(2023, 7, 11, 1, 45, 48, 533096), 'end_time': datetime.datetime(2023, 7, 11, 1, 45, 48, 539679), 'min_cost': 67.0, 's_vet': [0, 1, 2, 3, 5, 5, 5, 1, 1, 3]}, {'file': 'syntpmed6.txt', 'start_time': datetime.datetime(2023, 7, 11, 1, 45, 48, 540532), 'end_time': datetime.datetime(2023, 7, 11, 1, 45, 48, 576672), 'min_cost': 102.0, 's_vet': [0, 11, 14, 13, 4, 14, 4, 14, 13, 4, 4, 11, 14, 13, 14, 4, 0, 11, 0, 13]}, {'file': 'syntpmed7.txt', 'start_time': datetime.datetime(2023, 7, 11, 1, 45, 48, 579593), 'end_time': datetime.datetime(2023, 7, 11, 1, 45, 48, 809478), 'min_cost': 356.0, 's_vet': [11, 31, 7, 31, 31, 7, 21, 7, 21, 31, 10, 11, 31, 21, 11, 11, 7, 10, 11, 7, 21, 21, 21, 31, 21, 10, 10, 7, 7, 7, 21, 31, 10, 10, 21, 11, 21, 7, 7, 11, 10, 10, 31, 11, 21, 31, 21, 11, 7, 21]}, {'file': 'syntpmed8.txt', 'start_time': datetime.datetime(2023, 7, 11, 1, 45, 48, 814334), 'end_time': datetime.datetime(2023, 7, 11, 1, 45, 49, 277289), 'min_cost': 539.0, 's_vet': [60, 65, 60, 58, 60, 58, 37, 43, 60, 65, 65, 37, 60, 65, 43, 58, 37, 65, 60, 58, 58, 58, 60, 37, 65, 65, 65, 58, 58, 37, 60, 43, 65, 60, 43, 37, 37, 37, 43, 43, 37, 65, 58, 43, 58, 60, 60, 43, 58, 58, 58, 37, 58, 60, 65, 60, 65, 60, 58, 37, 60, 60, 65, 60, 43, 65, 58, 58, 43, 58]}, {'file': 'syntpmed9.txt', 'start_time': datetime.datetime(2023, 7, 11, 1, 45, 49, 278734), 'end_time': datetime.datetime(2023, 7, 11, 1, 45, 49, 363732), 'min_cost': 34.0, 's_vet': [11, 1, 13, 10, 14, 10, 11, 14, 8, 9, 10, 11, 11, 13, 14, 15, 16, 13, 13, 19]}, {'file': 'syntpmed10.txt', 'start_time': datetime.datetime(2023, 7, 11, 1, 45, 49, 366891), 'end_time': datetime.datetime(2023, 7, 11, 1, 45, 50, 110688), 'min_cost': 188.0, 's_vet': [40, 42, 40, 42, 40, 5, 5, 7, 7, 46, 46, 23, 12, 5, 24, 23, 5, 42, 46, 7, 21, 21, 22, 23, 24, 23, 22, 22, 22, 24, 21, 12, 40, 23, 7, 23, 40, 7, 5, 46, 40, 5, 42, 22, 24, 21, 46, 22, 22, 22]}, {'file': 'syntpmed11.txt', 'start_time': datetime.datetime(2023, 7, 11, 1, 45, 50, 115816), 'end_time': datetime.datetime(2023, 7, 11, 1, 45, 51, 656103), 'min_cost': 276.0, 's_vet': [0, 0, 10, 0, 0, 5, 5, 61, 61, 64, 10, 64, 16, 16, 59, 10, 16, 0, 0, 59, 5, 5, 5, 60, 64, 59, 10, 5, 0, 60, 61, 61, 49, 49, 59, 60, 5, 64, 61, 64, 16, 59, 0, 61, 49, 62, 5, 59, 5, 49, 10, 10, 16, 49, 62, 16, 60, 64, 62, 59, 60, 61, 62, 10, 64, 0, 59, 10, 59, 10]}]\n",
            "[{'file': 'syntpmed1.txt', 'start_time': datetime.datetime(2023, 7, 11, 1, 45, 48, 362864), 'end_time': datetime.datetime(2023, 7, 11, 1, 45, 48, 366230), 'min_cost': 153.0, 's_vet': [0, 3, 3, 3, 0, 3, 3, 3, 0, 3]}, {'file': 'syntpmed2.txt', 'start_time': datetime.datetime(2023, 7, 11, 1, 45, 48, 367636), 'end_time': datetime.datetime(2023, 7, 11, 1, 45, 48, 375573), 'min_cost': 471.0, 's_vet': [6, 17, 6, 6, 17, 6, 6, 17, 6, 17, 6, 17, 6, 17, 17, 17, 17, 6, 6, 17]}, {'file': 'syntpmed3.txt', 'start_time': datetime.datetime(2023, 7, 11, 1, 45, 48, 378644), 'end_time': datetime.datetime(2023, 7, 11, 1, 45, 48, 428493), 'min_cost': 1239.0, 's_vet': [42, 1, 1, 42, 42, 1, 42, 1, 42, 1, 1, 42, 42, 42, 42, 42, 42, 1, 1, 1, 42, 42, 42, 42, 1, 1, 42, 1, 42, 1, 1, 1, 1, 1, 42, 42, 1, 42, 42, 1, 42, 42, 42, 42, 42, 42, 42, 1, 42, 42]}, {'file': 'syntpmed4.txt', 'start_time': datetime.datetime(2023, 7, 11, 1, 45, 48, 433522), 'end_time': datetime.datetime(2023, 7, 11, 1, 45, 48, 532183), 'min_cost': 1724.0, 's_vet': [26, 26, 48, 48, 48, 26, 26, 48, 48, 48, 48, 48, 26, 26, 48, 48, 48, 48, 48, 48, 26, 48, 26, 26, 26, 26, 26, 26, 26, 26, 26, 48, 48, 26, 26, 26, 26, 26, 26, 48, 26, 48, 26, 48, 48, 48, 26, 48, 26, 26, 48, 48, 48, 26, 26, 48, 48, 26, 26, 26, 48, 48, 26, 26, 48, 26, 48, 48, 48, 48]}, {'file': 'syntpmed5.txt', 'start_time': datetime.datetime(2023, 7, 11, 1, 45, 48, 533096), 'end_time': datetime.datetime(2023, 7, 11, 1, 45, 48, 539679), 'min_cost': 67.0, 's_vet': [0, 1, 2, 3, 5, 5, 5, 1, 1, 3]}, {'file': 'syntpmed6.txt', 'start_time': datetime.datetime(2023, 7, 11, 1, 45, 48, 540532), 'end_time': datetime.datetime(2023, 7, 11, 1, 45, 48, 576672), 'min_cost': 102.0, 's_vet': [0, 11, 14, 13, 4, 14, 4, 14, 13, 4, 4, 11, 14, 13, 14, 4, 0, 11, 0, 13]}, {'file': 'syntpmed7.txt', 'start_time': datetime.datetime(2023, 7, 11, 1, 45, 48, 579593), 'end_time': datetime.datetime(2023, 7, 11, 1, 45, 48, 809478), 'min_cost': 356.0, 's_vet': [11, 31, 7, 31, 31, 7, 21, 7, 21, 31, 10, 11, 31, 21, 11, 11, 7, 10, 11, 7, 21, 21, 21, 31, 21, 10, 10, 7, 7, 7, 21, 31, 10, 10, 21, 11, 21, 7, 7, 11, 10, 10, 31, 11, 21, 31, 21, 11, 7, 21]}, {'file': 'syntpmed8.txt', 'start_time': datetime.datetime(2023, 7, 11, 1, 45, 48, 814334), 'end_time': datetime.datetime(2023, 7, 11, 1, 45, 49, 277289), 'min_cost': 539.0, 's_vet': [60, 65, 60, 58, 60, 58, 37, 43, 60, 65, 65, 37, 60, 65, 43, 58, 37, 65, 60, 58, 58, 58, 60, 37, 65, 65, 65, 58, 58, 37, 60, 43, 65, 60, 43, 37, 37, 37, 43, 43, 37, 65, 58, 43, 58, 60, 60, 43, 58, 58, 58, 37, 58, 60, 65, 60, 65, 60, 58, 37, 60, 60, 65, 60, 43, 65, 58, 58, 43, 58]}, {'file': 'syntpmed9.txt', 'start_time': datetime.datetime(2023, 7, 11, 1, 45, 49, 278734), 'end_time': datetime.datetime(2023, 7, 11, 1, 45, 49, 363732), 'min_cost': 34.0, 's_vet': [11, 1, 13, 10, 14, 10, 11, 14, 8, 9, 10, 11, 11, 13, 14, 15, 16, 13, 13, 19]}, {'file': 'syntpmed10.txt', 'start_time': datetime.datetime(2023, 7, 11, 1, 45, 49, 366891), 'end_time': datetime.datetime(2023, 7, 11, 1, 45, 50, 110688), 'min_cost': 188.0, 's_vet': [40, 42, 40, 42, 40, 5, 5, 7, 7, 46, 46, 23, 12, 5, 24, 23, 5, 42, 46, 7, 21, 21, 22, 23, 24, 23, 22, 22, 22, 24, 21, 12, 40, 23, 7, 23, 40, 7, 5, 46, 40, 5, 42, 22, 24, 21, 46, 22, 22, 22]}, {'file': 'syntpmed11.txt', 'start_time': datetime.datetime(2023, 7, 11, 1, 45, 50, 115816), 'end_time': datetime.datetime(2023, 7, 11, 1, 45, 51, 656103), 'min_cost': 276.0, 's_vet': [0, 0, 10, 0, 0, 5, 5, 61, 61, 64, 10, 64, 16, 16, 59, 10, 16, 0, 0, 59, 5, 5, 5, 60, 64, 59, 10, 5, 0, 60, 61, 61, 49, 49, 59, 60, 5, 64, 61, 64, 16, 59, 0, 61, 49, 62, 5, 59, 5, 49, 10, 10, 16, 49, 62, 16, 60, 64, 62, 59, 60, 61, 62, 10, 64, 0, 59, 10, 59, 10]}]\n"
          ]
        }
      ]
    },
    {
      "cell_type": "code",
      "source": [
        "h_df = pd.DataFrame(h)\n",
        "print(h_df)\n",
        "h_df.to_csv(\"heuristic_exchange_myopic_sol.csv\")"
      ],
      "metadata": {
        "id": "shyJbZK7m98J"
      },
      "execution_count": null,
      "outputs": []
    },
    {
      "cell_type": "markdown",
      "metadata": {
        "id": "PtCe3aKaphw8"
      },
      "source": [
        "## Myopic Solution with Exchange Correction"
      ]
    },
    {
      "cell_type": "markdown",
      "source": [
        "### Solver"
      ],
      "metadata": {
        "id": "9vjYf2jRphw-"
      }
    },
    {
      "cell_type": "code",
      "execution_count": null,
      "metadata": {
        "id": "UeJrLsSuphw_"
      },
      "outputs": [],
      "source": [
        "def exchange_correction(vertices, edges, p, cost_mat, sol_candidate):\n",
        "  # create sol init instance\n",
        "  s = Solution(vertices, sol_candidate, cost_mat)\n",
        "  while not s.solved():\n",
        "    s.sol_step()\n",
        "\n",
        "  for i in range(len(sol_candidate) - 1, -1, -1):\n",
        "    for j in range(vertices):\n",
        "\n",
        "      solution_temp = sol_candidate.copy()\n",
        "      if j in sol_candidate:\n",
        "        continue\n",
        "\n",
        "      solution_temp[i] = j\n",
        "      s_temp = Solution(vertices, solution_temp, cost_mat)\n",
        "\n",
        "      while not s_temp.solved():\n",
        "        s_temp.sol_step()\n",
        "\n",
        "      if s_temp.c < s.c:\n",
        "        sol_candidate = solution_temp\n",
        "        s = s_temp\n",
        "  return s, sol_candidate\n",
        "\n",
        "\n",
        "def heuristic_myopic_with_exchange_corr_solver(vertices, edges, p, cost_mat):\n",
        "\n",
        "  # create solutions instances\n",
        "  solution_candidate = []\n",
        "  s = None\n",
        "  while len(solution_candidate) < p:\n",
        "    s_list = solution_candidate.copy()\n",
        "    s_list_temp = solution_candidate.copy()\n",
        "    s_list_temp.append(-1)\n",
        "    s_cost = float(\"inf\")\n",
        "    s_temp = None\n",
        "\n",
        "    # myopic add\n",
        "    for i in range(vertices):\n",
        "      if i not in s_list:\n",
        "        s_list_temp[len(solution_candidate)] = i\n",
        "        s_temp = Solution(vertices, s_list_temp, cost_mat)\n",
        "\n",
        "        while not s_temp.solved():\n",
        "          s_temp.sol_step()\n",
        "\n",
        "        if s_cost > s_temp.c:\n",
        "          s_list = s_list_temp\n",
        "          s_cost = s_temp.c\n",
        "          s = s_temp\n",
        "\n",
        "    solution_candidate = s_list\n",
        "\n",
        "    # exchange correction\n",
        "    s, solution_candidate = exchange_correction(vertices, edges, p, cost_mat, solution_candidate)\n",
        "  return s, solution_candidate"
      ]
    },
    {
      "cell_type": "code",
      "source": [
        "h = []\n",
        "\n",
        "for pmed in synthetic_pmeds:\n",
        "  data = get_dataset(pmed)\n",
        "\n",
        "  start_time =  datetime.datetime.now()\n",
        "  solutions = heuristic_myopic_with_exchange_corr_solver(data[\"vertices\"], data[\"edges\"], data[\"p\"], data[\"cost_mat\"])\n",
        "  end_time =  datetime.datetime.now()\n",
        "\n",
        "  h.append({\n",
        "      \"file\": pmed,\n",
        "      \"start_time\": start_time,\n",
        "      \"end_time\": end_time,\n",
        "      \"min_cost\": solutions[0].c,\n",
        "      \"s_vet\": solutions[0].s_vet\n",
        "  })\n",
        "  print(h)\n",
        "\n",
        "print(h)"
      ],
      "metadata": {
        "colab": {
          "base_uri": "https://localhost:8080/"
        },
        "outputId": "edaab5f5-3956-44d8-9ec6-9d21c39303f4",
        "id": "IkyqJgpPphxB"
      },
      "execution_count": null,
      "outputs": [
        {
          "output_type": "stream",
          "name": "stdout",
          "text": [
            "[{'file': 'syntpmed1.txt', 'start_time': datetime.datetime(2023, 7, 11, 2, 1, 54, 269108), 'end_time': datetime.datetime(2023, 7, 11, 2, 1, 54, 272326), 'min_cost': 153.0, 's_vet': [0, 3, 3, 3, 0, 3, 3, 3, 0, 3]}]\n",
            "[{'file': 'syntpmed1.txt', 'start_time': datetime.datetime(2023, 7, 11, 2, 1, 54, 269108), 'end_time': datetime.datetime(2023, 7, 11, 2, 1, 54, 272326), 'min_cost': 153.0, 's_vet': [0, 3, 3, 3, 0, 3, 3, 3, 0, 3]}, {'file': 'syntpmed2.txt', 'start_time': datetime.datetime(2023, 7, 11, 2, 1, 54, 274109), 'end_time': datetime.datetime(2023, 7, 11, 2, 1, 54, 284184), 'min_cost': 349.0, 's_vet': [19, 11, 19, 11, 19, 11, 11, 11, 19, 19, 11, 11, 11, 19, 11, 19, 19, 11, 19, 19]}]\n",
            "[{'file': 'syntpmed1.txt', 'start_time': datetime.datetime(2023, 7, 11, 2, 1, 54, 269108), 'end_time': datetime.datetime(2023, 7, 11, 2, 1, 54, 272326), 'min_cost': 153.0, 's_vet': [0, 3, 3, 3, 0, 3, 3, 3, 0, 3]}, {'file': 'syntpmed2.txt', 'start_time': datetime.datetime(2023, 7, 11, 2, 1, 54, 274109), 'end_time': datetime.datetime(2023, 7, 11, 2, 1, 54, 284184), 'min_cost': 349.0, 's_vet': [19, 11, 19, 11, 19, 11, 11, 11, 19, 19, 11, 11, 11, 19, 11, 19, 19, 11, 19, 19]}, {'file': 'syntpmed3.txt', 'start_time': datetime.datetime(2023, 7, 11, 2, 1, 54, 287551), 'end_time': datetime.datetime(2023, 7, 11, 2, 1, 54, 345684), 'min_cost': 1239.0, 's_vet': [42, 1, 1, 42, 42, 1, 42, 1, 42, 1, 1, 42, 42, 42, 42, 42, 42, 1, 1, 1, 42, 42, 42, 42, 1, 1, 42, 1, 42, 1, 1, 1, 1, 1, 42, 42, 1, 42, 42, 1, 42, 42, 42, 42, 42, 42, 42, 1, 42, 42]}]\n",
            "[{'file': 'syntpmed1.txt', 'start_time': datetime.datetime(2023, 7, 11, 2, 1, 54, 269108), 'end_time': datetime.datetime(2023, 7, 11, 2, 1, 54, 272326), 'min_cost': 153.0, 's_vet': [0, 3, 3, 3, 0, 3, 3, 3, 0, 3]}, {'file': 'syntpmed2.txt', 'start_time': datetime.datetime(2023, 7, 11, 2, 1, 54, 274109), 'end_time': datetime.datetime(2023, 7, 11, 2, 1, 54, 284184), 'min_cost': 349.0, 's_vet': [19, 11, 19, 11, 19, 11, 11, 11, 19, 19, 11, 11, 11, 19, 11, 19, 19, 11, 19, 19]}, {'file': 'syntpmed3.txt', 'start_time': datetime.datetime(2023, 7, 11, 2, 1, 54, 287551), 'end_time': datetime.datetime(2023, 7, 11, 2, 1, 54, 345684), 'min_cost': 1239.0, 's_vet': [42, 1, 1, 42, 42, 1, 42, 1, 42, 1, 1, 42, 42, 42, 42, 42, 42, 1, 1, 1, 42, 42, 42, 42, 1, 1, 42, 1, 42, 1, 1, 1, 1, 1, 42, 42, 1, 42, 42, 1, 42, 42, 42, 42, 42, 42, 42, 1, 42, 42]}, {'file': 'syntpmed4.txt', 'start_time': datetime.datetime(2023, 7, 11, 2, 1, 54, 350223), 'end_time': datetime.datetime(2023, 7, 11, 2, 1, 54, 464299), 'min_cost': 1710.0, 's_vet': [48, 3, 48, 3, 48, 3, 48, 48, 48, 48, 48, 48, 3, 3, 3, 3, 48, 48, 3, 48, 3, 48, 48, 3, 3, 3, 48, 3, 3, 3, 3, 48, 48, 3, 3, 3, 3, 3, 3, 48, 3, 48, 3, 48, 48, 3, 48, 48, 48, 48, 3, 48, 48, 3, 3, 48, 3, 48, 3, 48, 48, 48, 48, 3, 48, 48, 48, 48, 3, 48]}]\n",
            "[{'file': 'syntpmed1.txt', 'start_time': datetime.datetime(2023, 7, 11, 2, 1, 54, 269108), 'end_time': datetime.datetime(2023, 7, 11, 2, 1, 54, 272326), 'min_cost': 153.0, 's_vet': [0, 3, 3, 3, 0, 3, 3, 3, 0, 3]}, {'file': 'syntpmed2.txt', 'start_time': datetime.datetime(2023, 7, 11, 2, 1, 54, 274109), 'end_time': datetime.datetime(2023, 7, 11, 2, 1, 54, 284184), 'min_cost': 349.0, 's_vet': [19, 11, 19, 11, 19, 11, 11, 11, 19, 19, 11, 11, 11, 19, 11, 19, 19, 11, 19, 19]}, {'file': 'syntpmed3.txt', 'start_time': datetime.datetime(2023, 7, 11, 2, 1, 54, 287551), 'end_time': datetime.datetime(2023, 7, 11, 2, 1, 54, 345684), 'min_cost': 1239.0, 's_vet': [42, 1, 1, 42, 42, 1, 42, 1, 42, 1, 1, 42, 42, 42, 42, 42, 42, 1, 1, 1, 42, 42, 42, 42, 1, 1, 42, 1, 42, 1, 1, 1, 1, 1, 42, 42, 1, 42, 42, 1, 42, 42, 42, 42, 42, 42, 42, 1, 42, 42]}, {'file': 'syntpmed4.txt', 'start_time': datetime.datetime(2023, 7, 11, 2, 1, 54, 350223), 'end_time': datetime.datetime(2023, 7, 11, 2, 1, 54, 464299), 'min_cost': 1710.0, 's_vet': [48, 3, 48, 3, 48, 3, 48, 48, 48, 48, 48, 48, 3, 3, 3, 3, 48, 48, 3, 48, 3, 48, 48, 3, 3, 3, 48, 3, 3, 3, 3, 48, 48, 3, 3, 3, 3, 3, 3, 48, 3, 48, 3, 48, 48, 3, 48, 48, 48, 48, 3, 48, 48, 3, 3, 48, 3, 48, 3, 48, 48, 48, 48, 3, 48, 48, 48, 48, 3, 48]}, {'file': 'syntpmed5.txt', 'start_time': datetime.datetime(2023, 7, 11, 2, 1, 54, 465327), 'end_time': datetime.datetime(2023, 7, 11, 2, 1, 54, 477471), 'min_cost': 67.0, 's_vet': [0, 1, 2, 3, 5, 5, 5, 1, 1, 3]}]\n",
            "[{'file': 'syntpmed1.txt', 'start_time': datetime.datetime(2023, 7, 11, 2, 1, 54, 269108), 'end_time': datetime.datetime(2023, 7, 11, 2, 1, 54, 272326), 'min_cost': 153.0, 's_vet': [0, 3, 3, 3, 0, 3, 3, 3, 0, 3]}, {'file': 'syntpmed2.txt', 'start_time': datetime.datetime(2023, 7, 11, 2, 1, 54, 274109), 'end_time': datetime.datetime(2023, 7, 11, 2, 1, 54, 284184), 'min_cost': 349.0, 's_vet': [19, 11, 19, 11, 19, 11, 11, 11, 19, 19, 11, 11, 11, 19, 11, 19, 19, 11, 19, 19]}, {'file': 'syntpmed3.txt', 'start_time': datetime.datetime(2023, 7, 11, 2, 1, 54, 287551), 'end_time': datetime.datetime(2023, 7, 11, 2, 1, 54, 345684), 'min_cost': 1239.0, 's_vet': [42, 1, 1, 42, 42, 1, 42, 1, 42, 1, 1, 42, 42, 42, 42, 42, 42, 1, 1, 1, 42, 42, 42, 42, 1, 1, 42, 1, 42, 1, 1, 1, 1, 1, 42, 42, 1, 42, 42, 1, 42, 42, 42, 42, 42, 42, 42, 1, 42, 42]}, {'file': 'syntpmed4.txt', 'start_time': datetime.datetime(2023, 7, 11, 2, 1, 54, 350223), 'end_time': datetime.datetime(2023, 7, 11, 2, 1, 54, 464299), 'min_cost': 1710.0, 's_vet': [48, 3, 48, 3, 48, 3, 48, 48, 48, 48, 48, 48, 3, 3, 3, 3, 48, 48, 3, 48, 3, 48, 48, 3, 3, 3, 48, 3, 3, 3, 3, 48, 48, 3, 3, 3, 3, 3, 3, 48, 3, 48, 3, 48, 48, 3, 48, 48, 48, 48, 3, 48, 48, 3, 3, 48, 3, 48, 3, 48, 48, 48, 48, 3, 48, 48, 48, 48, 3, 48]}, {'file': 'syntpmed5.txt', 'start_time': datetime.datetime(2023, 7, 11, 2, 1, 54, 465327), 'end_time': datetime.datetime(2023, 7, 11, 2, 1, 54, 477471), 'min_cost': 67.0, 's_vet': [0, 1, 2, 3, 5, 5, 5, 1, 1, 3]}, {'file': 'syntpmed6.txt', 'start_time': datetime.datetime(2023, 7, 11, 2, 1, 54, 479153), 'end_time': datetime.datetime(2023, 7, 11, 2, 1, 54, 537746), 'min_cost': 100.0, 's_vet': [0, 1, 4, 13, 4, 13, 4, 7, 13, 4, 4, 7, 7, 13, 7, 4, 0, 0, 0, 13]}]\n",
            "[{'file': 'syntpmed1.txt', 'start_time': datetime.datetime(2023, 7, 11, 2, 1, 54, 269108), 'end_time': datetime.datetime(2023, 7, 11, 2, 1, 54, 272326), 'min_cost': 153.0, 's_vet': [0, 3, 3, 3, 0, 3, 3, 3, 0, 3]}, {'file': 'syntpmed2.txt', 'start_time': datetime.datetime(2023, 7, 11, 2, 1, 54, 274109), 'end_time': datetime.datetime(2023, 7, 11, 2, 1, 54, 284184), 'min_cost': 349.0, 's_vet': [19, 11, 19, 11, 19, 11, 11, 11, 19, 19, 11, 11, 11, 19, 11, 19, 19, 11, 19, 19]}, {'file': 'syntpmed3.txt', 'start_time': datetime.datetime(2023, 7, 11, 2, 1, 54, 287551), 'end_time': datetime.datetime(2023, 7, 11, 2, 1, 54, 345684), 'min_cost': 1239.0, 's_vet': [42, 1, 1, 42, 42, 1, 42, 1, 42, 1, 1, 42, 42, 42, 42, 42, 42, 1, 1, 1, 42, 42, 42, 42, 1, 1, 42, 1, 42, 1, 1, 1, 1, 1, 42, 42, 1, 42, 42, 1, 42, 42, 42, 42, 42, 42, 42, 1, 42, 42]}, {'file': 'syntpmed4.txt', 'start_time': datetime.datetime(2023, 7, 11, 2, 1, 54, 350223), 'end_time': datetime.datetime(2023, 7, 11, 2, 1, 54, 464299), 'min_cost': 1710.0, 's_vet': [48, 3, 48, 3, 48, 3, 48, 48, 48, 48, 48, 48, 3, 3, 3, 3, 48, 48, 3, 48, 3, 48, 48, 3, 3, 3, 48, 3, 3, 3, 3, 48, 48, 3, 3, 3, 3, 3, 3, 48, 3, 48, 3, 48, 48, 3, 48, 48, 48, 48, 3, 48, 48, 3, 3, 48, 3, 48, 3, 48, 48, 48, 48, 3, 48, 48, 48, 48, 3, 48]}, {'file': 'syntpmed5.txt', 'start_time': datetime.datetime(2023, 7, 11, 2, 1, 54, 465327), 'end_time': datetime.datetime(2023, 7, 11, 2, 1, 54, 477471), 'min_cost': 67.0, 's_vet': [0, 1, 2, 3, 5, 5, 5, 1, 1, 3]}, {'file': 'syntpmed6.txt', 'start_time': datetime.datetime(2023, 7, 11, 2, 1, 54, 479153), 'end_time': datetime.datetime(2023, 7, 11, 2, 1, 54, 537746), 'min_cost': 100.0, 's_vet': [0, 1, 4, 13, 4, 13, 4, 7, 13, 4, 4, 7, 7, 13, 7, 4, 0, 0, 0, 13]}, {'file': 'syntpmed7.txt', 'start_time': datetime.datetime(2023, 7, 11, 2, 1, 54, 540732), 'end_time': datetime.datetime(2023, 7, 11, 2, 1, 54, 955450), 'min_cost': 356.0, 's_vet': [11, 31, 7, 31, 31, 7, 21, 7, 21, 31, 10, 11, 31, 21, 11, 11, 7, 10, 11, 7, 21, 21, 21, 31, 21, 10, 10, 7, 7, 7, 21, 31, 10, 10, 21, 11, 21, 7, 7, 11, 10, 10, 31, 11, 21, 31, 21, 11, 7, 21]}]\n",
            "[{'file': 'syntpmed1.txt', 'start_time': datetime.datetime(2023, 7, 11, 2, 1, 54, 269108), 'end_time': datetime.datetime(2023, 7, 11, 2, 1, 54, 272326), 'min_cost': 153.0, 's_vet': [0, 3, 3, 3, 0, 3, 3, 3, 0, 3]}, {'file': 'syntpmed2.txt', 'start_time': datetime.datetime(2023, 7, 11, 2, 1, 54, 274109), 'end_time': datetime.datetime(2023, 7, 11, 2, 1, 54, 284184), 'min_cost': 349.0, 's_vet': [19, 11, 19, 11, 19, 11, 11, 11, 19, 19, 11, 11, 11, 19, 11, 19, 19, 11, 19, 19]}, {'file': 'syntpmed3.txt', 'start_time': datetime.datetime(2023, 7, 11, 2, 1, 54, 287551), 'end_time': datetime.datetime(2023, 7, 11, 2, 1, 54, 345684), 'min_cost': 1239.0, 's_vet': [42, 1, 1, 42, 42, 1, 42, 1, 42, 1, 1, 42, 42, 42, 42, 42, 42, 1, 1, 1, 42, 42, 42, 42, 1, 1, 42, 1, 42, 1, 1, 1, 1, 1, 42, 42, 1, 42, 42, 1, 42, 42, 42, 42, 42, 42, 42, 1, 42, 42]}, {'file': 'syntpmed4.txt', 'start_time': datetime.datetime(2023, 7, 11, 2, 1, 54, 350223), 'end_time': datetime.datetime(2023, 7, 11, 2, 1, 54, 464299), 'min_cost': 1710.0, 's_vet': [48, 3, 48, 3, 48, 3, 48, 48, 48, 48, 48, 48, 3, 3, 3, 3, 48, 48, 3, 48, 3, 48, 48, 3, 3, 3, 48, 3, 3, 3, 3, 48, 48, 3, 3, 3, 3, 3, 3, 48, 3, 48, 3, 48, 48, 3, 48, 48, 48, 48, 3, 48, 48, 3, 3, 48, 3, 48, 3, 48, 48, 48, 48, 3, 48, 48, 48, 48, 3, 48]}, {'file': 'syntpmed5.txt', 'start_time': datetime.datetime(2023, 7, 11, 2, 1, 54, 465327), 'end_time': datetime.datetime(2023, 7, 11, 2, 1, 54, 477471), 'min_cost': 67.0, 's_vet': [0, 1, 2, 3, 5, 5, 5, 1, 1, 3]}, {'file': 'syntpmed6.txt', 'start_time': datetime.datetime(2023, 7, 11, 2, 1, 54, 479153), 'end_time': datetime.datetime(2023, 7, 11, 2, 1, 54, 537746), 'min_cost': 100.0, 's_vet': [0, 1, 4, 13, 4, 13, 4, 7, 13, 4, 4, 7, 7, 13, 7, 4, 0, 0, 0, 13]}, {'file': 'syntpmed7.txt', 'start_time': datetime.datetime(2023, 7, 11, 2, 1, 54, 540732), 'end_time': datetime.datetime(2023, 7, 11, 2, 1, 54, 955450), 'min_cost': 356.0, 's_vet': [11, 31, 7, 31, 31, 7, 21, 7, 21, 31, 10, 11, 31, 21, 11, 11, 7, 10, 11, 7, 21, 21, 21, 31, 21, 10, 10, 7, 7, 7, 21, 31, 10, 10, 21, 11, 21, 7, 7, 11, 10, 10, 31, 11, 21, 31, 21, 11, 7, 21]}, {'file': 'syntpmed8.txt', 'start_time': datetime.datetime(2023, 7, 11, 2, 1, 54, 960358), 'end_time': datetime.datetime(2023, 7, 11, 2, 1, 55, 793998), 'min_cost': 535.0, 's_vet': [60, 65, 60, 58, 60, 58, 11, 43, 60, 65, 65, 11, 60, 65, 43, 11, 11, 65, 60, 58, 58, 58, 60, 43, 65, 65, 65, 58, 11, 60, 60, 43, 65, 60, 43, 58, 43, 11, 11, 43, 65, 65, 58, 43, 58, 60, 60, 11, 58, 58, 58, 11, 58, 60, 65, 60, 65, 60, 58, 60, 60, 60, 65, 60, 43, 65, 11, 58, 43, 58]}]\n",
            "[{'file': 'syntpmed1.txt', 'start_time': datetime.datetime(2023, 7, 11, 2, 1, 54, 269108), 'end_time': datetime.datetime(2023, 7, 11, 2, 1, 54, 272326), 'min_cost': 153.0, 's_vet': [0, 3, 3, 3, 0, 3, 3, 3, 0, 3]}, {'file': 'syntpmed2.txt', 'start_time': datetime.datetime(2023, 7, 11, 2, 1, 54, 274109), 'end_time': datetime.datetime(2023, 7, 11, 2, 1, 54, 284184), 'min_cost': 349.0, 's_vet': [19, 11, 19, 11, 19, 11, 11, 11, 19, 19, 11, 11, 11, 19, 11, 19, 19, 11, 19, 19]}, {'file': 'syntpmed3.txt', 'start_time': datetime.datetime(2023, 7, 11, 2, 1, 54, 287551), 'end_time': datetime.datetime(2023, 7, 11, 2, 1, 54, 345684), 'min_cost': 1239.0, 's_vet': [42, 1, 1, 42, 42, 1, 42, 1, 42, 1, 1, 42, 42, 42, 42, 42, 42, 1, 1, 1, 42, 42, 42, 42, 1, 1, 42, 1, 42, 1, 1, 1, 1, 1, 42, 42, 1, 42, 42, 1, 42, 42, 42, 42, 42, 42, 42, 1, 42, 42]}, {'file': 'syntpmed4.txt', 'start_time': datetime.datetime(2023, 7, 11, 2, 1, 54, 350223), 'end_time': datetime.datetime(2023, 7, 11, 2, 1, 54, 464299), 'min_cost': 1710.0, 's_vet': [48, 3, 48, 3, 48, 3, 48, 48, 48, 48, 48, 48, 3, 3, 3, 3, 48, 48, 3, 48, 3, 48, 48, 3, 3, 3, 48, 3, 3, 3, 3, 48, 48, 3, 3, 3, 3, 3, 3, 48, 3, 48, 3, 48, 48, 3, 48, 48, 48, 48, 3, 48, 48, 3, 3, 48, 3, 48, 3, 48, 48, 48, 48, 3, 48, 48, 48, 48, 3, 48]}, {'file': 'syntpmed5.txt', 'start_time': datetime.datetime(2023, 7, 11, 2, 1, 54, 465327), 'end_time': datetime.datetime(2023, 7, 11, 2, 1, 54, 477471), 'min_cost': 67.0, 's_vet': [0, 1, 2, 3, 5, 5, 5, 1, 1, 3]}, {'file': 'syntpmed6.txt', 'start_time': datetime.datetime(2023, 7, 11, 2, 1, 54, 479153), 'end_time': datetime.datetime(2023, 7, 11, 2, 1, 54, 537746), 'min_cost': 100.0, 's_vet': [0, 1, 4, 13, 4, 13, 4, 7, 13, 4, 4, 7, 7, 13, 7, 4, 0, 0, 0, 13]}, {'file': 'syntpmed7.txt', 'start_time': datetime.datetime(2023, 7, 11, 2, 1, 54, 540732), 'end_time': datetime.datetime(2023, 7, 11, 2, 1, 54, 955450), 'min_cost': 356.0, 's_vet': [11, 31, 7, 31, 31, 7, 21, 7, 21, 31, 10, 11, 31, 21, 11, 11, 7, 10, 11, 7, 21, 21, 21, 31, 21, 10, 10, 7, 7, 7, 21, 31, 10, 10, 21, 11, 21, 7, 7, 11, 10, 10, 31, 11, 21, 31, 21, 11, 7, 21]}, {'file': 'syntpmed8.txt', 'start_time': datetime.datetime(2023, 7, 11, 2, 1, 54, 960358), 'end_time': datetime.datetime(2023, 7, 11, 2, 1, 55, 793998), 'min_cost': 535.0, 's_vet': [60, 65, 60, 58, 60, 58, 11, 43, 60, 65, 65, 11, 60, 65, 43, 11, 11, 65, 60, 58, 58, 58, 60, 43, 65, 65, 65, 58, 11, 60, 60, 43, 65, 60, 43, 58, 43, 11, 11, 43, 65, 65, 58, 43, 58, 60, 60, 11, 58, 58, 58, 11, 58, 60, 65, 60, 65, 60, 58, 60, 60, 60, 65, 60, 43, 65, 11, 58, 43, 58]}, {'file': 'syntpmed9.txt', 'start_time': datetime.datetime(2023, 7, 11, 2, 1, 55, 795587), 'end_time': datetime.datetime(2023, 7, 11, 2, 1, 56, 55133), 'min_cost': 27.0, 's_vet': [0, 1, 13, 10, 4, 5, 5, 7, 8, 9, 10, 0, 9, 13, 4, 4, 4, 13, 18, 0]}]\n",
            "[{'file': 'syntpmed1.txt', 'start_time': datetime.datetime(2023, 7, 11, 2, 1, 54, 269108), 'end_time': datetime.datetime(2023, 7, 11, 2, 1, 54, 272326), 'min_cost': 153.0, 's_vet': [0, 3, 3, 3, 0, 3, 3, 3, 0, 3]}, {'file': 'syntpmed2.txt', 'start_time': datetime.datetime(2023, 7, 11, 2, 1, 54, 274109), 'end_time': datetime.datetime(2023, 7, 11, 2, 1, 54, 284184), 'min_cost': 349.0, 's_vet': [19, 11, 19, 11, 19, 11, 11, 11, 19, 19, 11, 11, 11, 19, 11, 19, 19, 11, 19, 19]}, {'file': 'syntpmed3.txt', 'start_time': datetime.datetime(2023, 7, 11, 2, 1, 54, 287551), 'end_time': datetime.datetime(2023, 7, 11, 2, 1, 54, 345684), 'min_cost': 1239.0, 's_vet': [42, 1, 1, 42, 42, 1, 42, 1, 42, 1, 1, 42, 42, 42, 42, 42, 42, 1, 1, 1, 42, 42, 42, 42, 1, 1, 42, 1, 42, 1, 1, 1, 1, 1, 42, 42, 1, 42, 42, 1, 42, 42, 42, 42, 42, 42, 42, 1, 42, 42]}, {'file': 'syntpmed4.txt', 'start_time': datetime.datetime(2023, 7, 11, 2, 1, 54, 350223), 'end_time': datetime.datetime(2023, 7, 11, 2, 1, 54, 464299), 'min_cost': 1710.0, 's_vet': [48, 3, 48, 3, 48, 3, 48, 48, 48, 48, 48, 48, 3, 3, 3, 3, 48, 48, 3, 48, 3, 48, 48, 3, 3, 3, 48, 3, 3, 3, 3, 48, 48, 3, 3, 3, 3, 3, 3, 48, 3, 48, 3, 48, 48, 3, 48, 48, 48, 48, 3, 48, 48, 3, 3, 48, 3, 48, 3, 48, 48, 48, 48, 3, 48, 48, 48, 48, 3, 48]}, {'file': 'syntpmed5.txt', 'start_time': datetime.datetime(2023, 7, 11, 2, 1, 54, 465327), 'end_time': datetime.datetime(2023, 7, 11, 2, 1, 54, 477471), 'min_cost': 67.0, 's_vet': [0, 1, 2, 3, 5, 5, 5, 1, 1, 3]}, {'file': 'syntpmed6.txt', 'start_time': datetime.datetime(2023, 7, 11, 2, 1, 54, 479153), 'end_time': datetime.datetime(2023, 7, 11, 2, 1, 54, 537746), 'min_cost': 100.0, 's_vet': [0, 1, 4, 13, 4, 13, 4, 7, 13, 4, 4, 7, 7, 13, 7, 4, 0, 0, 0, 13]}, {'file': 'syntpmed7.txt', 'start_time': datetime.datetime(2023, 7, 11, 2, 1, 54, 540732), 'end_time': datetime.datetime(2023, 7, 11, 2, 1, 54, 955450), 'min_cost': 356.0, 's_vet': [11, 31, 7, 31, 31, 7, 21, 7, 21, 31, 10, 11, 31, 21, 11, 11, 7, 10, 11, 7, 21, 21, 21, 31, 21, 10, 10, 7, 7, 7, 21, 31, 10, 10, 21, 11, 21, 7, 7, 11, 10, 10, 31, 11, 21, 31, 21, 11, 7, 21]}, {'file': 'syntpmed8.txt', 'start_time': datetime.datetime(2023, 7, 11, 2, 1, 54, 960358), 'end_time': datetime.datetime(2023, 7, 11, 2, 1, 55, 793998), 'min_cost': 535.0, 's_vet': [60, 65, 60, 58, 60, 58, 11, 43, 60, 65, 65, 11, 60, 65, 43, 11, 11, 65, 60, 58, 58, 58, 60, 43, 65, 65, 65, 58, 11, 60, 60, 43, 65, 60, 43, 58, 43, 11, 11, 43, 65, 65, 58, 43, 58, 60, 60, 11, 58, 58, 58, 11, 58, 60, 65, 60, 65, 60, 58, 60, 60, 60, 65, 60, 43, 65, 11, 58, 43, 58]}, {'file': 'syntpmed9.txt', 'start_time': datetime.datetime(2023, 7, 11, 2, 1, 55, 795587), 'end_time': datetime.datetime(2023, 7, 11, 2, 1, 56, 55133), 'min_cost': 27.0, 's_vet': [0, 1, 13, 10, 4, 5, 5, 7, 8, 9, 10, 0, 9, 13, 4, 4, 4, 13, 18, 0]}, {'file': 'syntpmed10.txt', 'start_time': datetime.datetime(2023, 7, 11, 2, 1, 56, 58231), 'end_time': datetime.datetime(2023, 7, 11, 2, 1, 58, 222789), 'min_cost': 193.0, 's_vet': [27, 36, 37, 3, 22, 16, 16, 37, 16, 16, 36, 26, 12, 30, 27, 23, 16, 37, 23, 22, 26, 16, 22, 23, 12, 23, 22, 27, 22, 16, 30, 12, 16, 23, 12, 27, 36, 37, 12, 23, 36, 37, 3, 37, 16, 37, 22, 22, 30, 22]}]\n",
            "[{'file': 'syntpmed1.txt', 'start_time': datetime.datetime(2023, 7, 11, 2, 1, 54, 269108), 'end_time': datetime.datetime(2023, 7, 11, 2, 1, 54, 272326), 'min_cost': 153.0, 's_vet': [0, 3, 3, 3, 0, 3, 3, 3, 0, 3]}, {'file': 'syntpmed2.txt', 'start_time': datetime.datetime(2023, 7, 11, 2, 1, 54, 274109), 'end_time': datetime.datetime(2023, 7, 11, 2, 1, 54, 284184), 'min_cost': 349.0, 's_vet': [19, 11, 19, 11, 19, 11, 11, 11, 19, 19, 11, 11, 11, 19, 11, 19, 19, 11, 19, 19]}, {'file': 'syntpmed3.txt', 'start_time': datetime.datetime(2023, 7, 11, 2, 1, 54, 287551), 'end_time': datetime.datetime(2023, 7, 11, 2, 1, 54, 345684), 'min_cost': 1239.0, 's_vet': [42, 1, 1, 42, 42, 1, 42, 1, 42, 1, 1, 42, 42, 42, 42, 42, 42, 1, 1, 1, 42, 42, 42, 42, 1, 1, 42, 1, 42, 1, 1, 1, 1, 1, 42, 42, 1, 42, 42, 1, 42, 42, 42, 42, 42, 42, 42, 1, 42, 42]}, {'file': 'syntpmed4.txt', 'start_time': datetime.datetime(2023, 7, 11, 2, 1, 54, 350223), 'end_time': datetime.datetime(2023, 7, 11, 2, 1, 54, 464299), 'min_cost': 1710.0, 's_vet': [48, 3, 48, 3, 48, 3, 48, 48, 48, 48, 48, 48, 3, 3, 3, 3, 48, 48, 3, 48, 3, 48, 48, 3, 3, 3, 48, 3, 3, 3, 3, 48, 48, 3, 3, 3, 3, 3, 3, 48, 3, 48, 3, 48, 48, 3, 48, 48, 48, 48, 3, 48, 48, 3, 3, 48, 3, 48, 3, 48, 48, 48, 48, 3, 48, 48, 48, 48, 3, 48]}, {'file': 'syntpmed5.txt', 'start_time': datetime.datetime(2023, 7, 11, 2, 1, 54, 465327), 'end_time': datetime.datetime(2023, 7, 11, 2, 1, 54, 477471), 'min_cost': 67.0, 's_vet': [0, 1, 2, 3, 5, 5, 5, 1, 1, 3]}, {'file': 'syntpmed6.txt', 'start_time': datetime.datetime(2023, 7, 11, 2, 1, 54, 479153), 'end_time': datetime.datetime(2023, 7, 11, 2, 1, 54, 537746), 'min_cost': 100.0, 's_vet': [0, 1, 4, 13, 4, 13, 4, 7, 13, 4, 4, 7, 7, 13, 7, 4, 0, 0, 0, 13]}, {'file': 'syntpmed7.txt', 'start_time': datetime.datetime(2023, 7, 11, 2, 1, 54, 540732), 'end_time': datetime.datetime(2023, 7, 11, 2, 1, 54, 955450), 'min_cost': 356.0, 's_vet': [11, 31, 7, 31, 31, 7, 21, 7, 21, 31, 10, 11, 31, 21, 11, 11, 7, 10, 11, 7, 21, 21, 21, 31, 21, 10, 10, 7, 7, 7, 21, 31, 10, 10, 21, 11, 21, 7, 7, 11, 10, 10, 31, 11, 21, 31, 21, 11, 7, 21]}, {'file': 'syntpmed8.txt', 'start_time': datetime.datetime(2023, 7, 11, 2, 1, 54, 960358), 'end_time': datetime.datetime(2023, 7, 11, 2, 1, 55, 793998), 'min_cost': 535.0, 's_vet': [60, 65, 60, 58, 60, 58, 11, 43, 60, 65, 65, 11, 60, 65, 43, 11, 11, 65, 60, 58, 58, 58, 60, 43, 65, 65, 65, 58, 11, 60, 60, 43, 65, 60, 43, 58, 43, 11, 11, 43, 65, 65, 58, 43, 58, 60, 60, 11, 58, 58, 58, 11, 58, 60, 65, 60, 65, 60, 58, 60, 60, 60, 65, 60, 43, 65, 11, 58, 43, 58]}, {'file': 'syntpmed9.txt', 'start_time': datetime.datetime(2023, 7, 11, 2, 1, 55, 795587), 'end_time': datetime.datetime(2023, 7, 11, 2, 1, 56, 55133), 'min_cost': 27.0, 's_vet': [0, 1, 13, 10, 4, 5, 5, 7, 8, 9, 10, 0, 9, 13, 4, 4, 4, 13, 18, 0]}, {'file': 'syntpmed10.txt', 'start_time': datetime.datetime(2023, 7, 11, 2, 1, 56, 58231), 'end_time': datetime.datetime(2023, 7, 11, 2, 1, 58, 222789), 'min_cost': 193.0, 's_vet': [27, 36, 37, 3, 22, 16, 16, 37, 16, 16, 36, 26, 12, 30, 27, 23, 16, 37, 23, 22, 26, 16, 22, 23, 12, 23, 22, 27, 22, 16, 30, 12, 16, 23, 12, 27, 36, 37, 12, 23, 36, 37, 3, 37, 16, 37, 22, 22, 30, 22]}, {'file': 'syntpmed11.txt', 'start_time': datetime.datetime(2023, 7, 11, 2, 1, 58, 391226), 'end_time': datetime.datetime(2023, 7, 11, 2, 2, 2, 825869), 'min_cost': 227.0, 's_vet': [0, 54, 26, 0, 6, 6, 6, 61, 47, 24, 26, 44, 44, 54, 59, 26, 6, 0, 0, 24, 6, 44, 54, 47, 24, 26, 26, 24, 0, 47, 61, 24, 51, 24, 59, 24, 6, 51, 61, 61, 44, 59, 0, 26, 44, 6, 54, 47, 51, 44, 47, 51, 47, 44, 54, 59, 0, 44, 51, 59, 59, 61, 54, 24, 24, 51, 59, 47, 51, 6]}]\n",
            "[{'file': 'syntpmed1.txt', 'start_time': datetime.datetime(2023, 7, 11, 2, 1, 54, 269108), 'end_time': datetime.datetime(2023, 7, 11, 2, 1, 54, 272326), 'min_cost': 153.0, 's_vet': [0, 3, 3, 3, 0, 3, 3, 3, 0, 3]}, {'file': 'syntpmed2.txt', 'start_time': datetime.datetime(2023, 7, 11, 2, 1, 54, 274109), 'end_time': datetime.datetime(2023, 7, 11, 2, 1, 54, 284184), 'min_cost': 349.0, 's_vet': [19, 11, 19, 11, 19, 11, 11, 11, 19, 19, 11, 11, 11, 19, 11, 19, 19, 11, 19, 19]}, {'file': 'syntpmed3.txt', 'start_time': datetime.datetime(2023, 7, 11, 2, 1, 54, 287551), 'end_time': datetime.datetime(2023, 7, 11, 2, 1, 54, 345684), 'min_cost': 1239.0, 's_vet': [42, 1, 1, 42, 42, 1, 42, 1, 42, 1, 1, 42, 42, 42, 42, 42, 42, 1, 1, 1, 42, 42, 42, 42, 1, 1, 42, 1, 42, 1, 1, 1, 1, 1, 42, 42, 1, 42, 42, 1, 42, 42, 42, 42, 42, 42, 42, 1, 42, 42]}, {'file': 'syntpmed4.txt', 'start_time': datetime.datetime(2023, 7, 11, 2, 1, 54, 350223), 'end_time': datetime.datetime(2023, 7, 11, 2, 1, 54, 464299), 'min_cost': 1710.0, 's_vet': [48, 3, 48, 3, 48, 3, 48, 48, 48, 48, 48, 48, 3, 3, 3, 3, 48, 48, 3, 48, 3, 48, 48, 3, 3, 3, 48, 3, 3, 3, 3, 48, 48, 3, 3, 3, 3, 3, 3, 48, 3, 48, 3, 48, 48, 3, 48, 48, 48, 48, 3, 48, 48, 3, 3, 48, 3, 48, 3, 48, 48, 48, 48, 3, 48, 48, 48, 48, 3, 48]}, {'file': 'syntpmed5.txt', 'start_time': datetime.datetime(2023, 7, 11, 2, 1, 54, 465327), 'end_time': datetime.datetime(2023, 7, 11, 2, 1, 54, 477471), 'min_cost': 67.0, 's_vet': [0, 1, 2, 3, 5, 5, 5, 1, 1, 3]}, {'file': 'syntpmed6.txt', 'start_time': datetime.datetime(2023, 7, 11, 2, 1, 54, 479153), 'end_time': datetime.datetime(2023, 7, 11, 2, 1, 54, 537746), 'min_cost': 100.0, 's_vet': [0, 1, 4, 13, 4, 13, 4, 7, 13, 4, 4, 7, 7, 13, 7, 4, 0, 0, 0, 13]}, {'file': 'syntpmed7.txt', 'start_time': datetime.datetime(2023, 7, 11, 2, 1, 54, 540732), 'end_time': datetime.datetime(2023, 7, 11, 2, 1, 54, 955450), 'min_cost': 356.0, 's_vet': [11, 31, 7, 31, 31, 7, 21, 7, 21, 31, 10, 11, 31, 21, 11, 11, 7, 10, 11, 7, 21, 21, 21, 31, 21, 10, 10, 7, 7, 7, 21, 31, 10, 10, 21, 11, 21, 7, 7, 11, 10, 10, 31, 11, 21, 31, 21, 11, 7, 21]}, {'file': 'syntpmed8.txt', 'start_time': datetime.datetime(2023, 7, 11, 2, 1, 54, 960358), 'end_time': datetime.datetime(2023, 7, 11, 2, 1, 55, 793998), 'min_cost': 535.0, 's_vet': [60, 65, 60, 58, 60, 58, 11, 43, 60, 65, 65, 11, 60, 65, 43, 11, 11, 65, 60, 58, 58, 58, 60, 43, 65, 65, 65, 58, 11, 60, 60, 43, 65, 60, 43, 58, 43, 11, 11, 43, 65, 65, 58, 43, 58, 60, 60, 11, 58, 58, 58, 11, 58, 60, 65, 60, 65, 60, 58, 60, 60, 60, 65, 60, 43, 65, 11, 58, 43, 58]}, {'file': 'syntpmed9.txt', 'start_time': datetime.datetime(2023, 7, 11, 2, 1, 55, 795587), 'end_time': datetime.datetime(2023, 7, 11, 2, 1, 56, 55133), 'min_cost': 27.0, 's_vet': [0, 1, 13, 10, 4, 5, 5, 7, 8, 9, 10, 0, 9, 13, 4, 4, 4, 13, 18, 0]}, {'file': 'syntpmed10.txt', 'start_time': datetime.datetime(2023, 7, 11, 2, 1, 56, 58231), 'end_time': datetime.datetime(2023, 7, 11, 2, 1, 58, 222789), 'min_cost': 193.0, 's_vet': [27, 36, 37, 3, 22, 16, 16, 37, 16, 16, 36, 26, 12, 30, 27, 23, 16, 37, 23, 22, 26, 16, 22, 23, 12, 23, 22, 27, 22, 16, 30, 12, 16, 23, 12, 27, 36, 37, 12, 23, 36, 37, 3, 37, 16, 37, 22, 22, 30, 22]}, {'file': 'syntpmed11.txt', 'start_time': datetime.datetime(2023, 7, 11, 2, 1, 58, 391226), 'end_time': datetime.datetime(2023, 7, 11, 2, 2, 2, 825869), 'min_cost': 227.0, 's_vet': [0, 54, 26, 0, 6, 6, 6, 61, 47, 24, 26, 44, 44, 54, 59, 26, 6, 0, 0, 24, 6, 44, 54, 47, 24, 26, 26, 24, 0, 47, 61, 24, 51, 24, 59, 24, 6, 51, 61, 61, 44, 59, 0, 26, 44, 6, 54, 47, 51, 44, 47, 51, 47, 44, 54, 59, 0, 44, 51, 59, 59, 61, 54, 24, 24, 51, 59, 47, 51, 6]}]\n"
          ]
        }
      ]
    },
    {
      "cell_type": "code",
      "source": [
        "h_df = pd.DataFrame(h)\n",
        "print(h_df)\n",
        "h_df.to_csv(\"heuristic_myopic_with_exchange_corr_sol.csv\")"
      ],
      "metadata": {
        "id": "GHglTjBZphxC"
      },
      "execution_count": null,
      "outputs": []
    },
    {
      "cell_type": "markdown",
      "source": [
        "## Results"
      ],
      "metadata": {
        "id": "5aj8Ma63JJfM"
      }
    },
    {
      "cell_type": "code",
      "source": [],
      "metadata": {
        "id": "mvDm7lsvJOyY"
      },
      "execution_count": null,
      "outputs": []
    }
  ],
  "metadata": {
    "colab": {
      "machine_shape": "hm",
      "provenance": [],
      "authorship_tag": "ABX9TyM7MYkI+oL9wG//0L3ghcSW",
      "include_colab_link": true
    },
    "kernelspec": {
      "display_name": "Python 3",
      "name": "python3"
    },
    "language_info": {
      "name": "python"
    }
  },
  "nbformat": 4,
  "nbformat_minor": 0
}