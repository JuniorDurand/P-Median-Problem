{
  "cells": [
    {
      "cell_type": "markdown",
      "metadata": {
        "id": "view-in-github",
        "colab_type": "text"
      },
      "source": [
        "<a href=\"https://colab.research.google.com/github/JuniorDurand/P-Median-Problem/blob/main/P_medianas.ipynb\" target=\"_parent\"><img src=\"https://colab.research.google.com/assets/colab-badge.svg\" alt=\"Open In Colab\"/></a>"
      ]
    },
    {
      "cell_type": "markdown",
      "metadata": {
        "id": "HaGPgyLqBjlc"
      },
      "source": [
        "#Problema das P-medianas"
      ]
    },
    {
      "cell_type": "markdown",
      "metadata": {
        "id": "qy9wQ5xiBorN"
      },
      "source": [
        "## Environment"
      ]
    },
    {
      "cell_type": "code",
      "execution_count": 1,
      "metadata": {
        "id": "P1ibODJxBhK9"
      },
      "outputs": [],
      "source": [
        "import os\n",
        "import numpy as np\n",
        "import itertools\n",
        "from itertools import combinations\n",
        "from random import randint\n",
        "import datetime\n",
        "import heapq"
      ]
    },
    {
      "cell_type": "markdown",
      "metadata": {
        "id": "sUo0qTL1BrIf"
      },
      "source": [
        "## Dataset"
      ]
    },
    {
      "cell_type": "markdown",
      "source": [
        "### Synthetic Dataset"
      ],
      "metadata": {
        "id": "kT6wYaQlSavR"
      }
    },
    {
      "cell_type": "code",
      "source": [
        "vertices = [10, 20, 50, 70]\n",
        "ps = [2, 5, 10]\n",
        "count = 1\n",
        "\n",
        "for p in ps:\n",
        "  for v in vertices:\n",
        "\n",
        "    if p >= v:\n",
        "      continue\n",
        "\n",
        "    if os.path.isfile(\"syntpmed{count}.txt\".format(count=count)):\n",
        "      count = count + 1\n",
        "      continue\n",
        "\n",
        "    arq = open(\"syntpmed{count}.txt\".format(count=count), \"a\")\n",
        "\n",
        "    # head of file\n",
        "    arq.write(\"{v} {p}\\n\".format(v=v, p=p))\n",
        "    for i in combinations(range(v), 2):\n",
        "\n",
        "      # define rand cost\n",
        "      c = randint(0,100)\n",
        "      # writer edge line\n",
        "      arq.write(\"{i} {j} {c}\\n\".format(i=i[0]+1, j=i[1]+1, c=c))\n",
        "\n",
        "    arq.close()\n",
        "    count = count + 1\n",
        "\n",
        "\n"
      ],
      "metadata": {
        "id": "rAZDk6SHSdFh"
      },
      "execution_count": null,
      "outputs": []
    },
    {
      "cell_type": "markdown",
      "source": [
        "### Brunel Dataset\n",
        "\n",
        "[Brunel Dataset](http://people.brunel.ac.uk/~mastjjb/jeb/orlib/pmedinfo.html)\n",
        "\n",
        "The graphs resulting from this dataset are not complete so they were not used in the analysis"
      ],
      "metadata": {
        "id": "dO51QtLlScsi"
      }
    },
    {
      "cell_type": "code",
      "execution_count": 2,
      "metadata": {
        "id": "J4Jw3jnwEMcj"
      },
      "outputs": [],
      "source": [
        "brunel_pmeds = [\n",
        "    \"http://people.brunel.ac.uk/~mastjjb/jeb/orlib/files/pmed1.txt\",\n",
        "    \"http://people.brunel.ac.uk/~mastjjb/jeb/orlib/files/pmed2.txt\",\n",
        "    \"http://people.brunel.ac.uk/~mastjjb/jeb/orlib/files/pmed3.txt\",\n",
        "    \"http://people.brunel.ac.uk/~mastjjb/jeb/orlib/files/pmed4.txt\",\n",
        "    \"http://people.brunel.ac.uk/~mastjjb/jeb/orlib/files/pmed5.txt\",\n",
        "    \"http://people.brunel.ac.uk/~mastjjb/jeb/orlib/files/pmed6.txt\",\n",
        "    \"http://people.brunel.ac.uk/~mastjjb/jeb/orlib/files/pmed7.txt\",\n",
        "    \"http://people.brunel.ac.uk/~mastjjb/jeb/orlib/files/pmed8.txt\",\n",
        "    \"http://people.brunel.ac.uk/~mastjjb/jeb/orlib/files/pmed9.txt\",\n",
        "    \"http://people.brunel.ac.uk/~mastjjb/jeb/orlib/files/pmed10.txt\",\n",
        "    \"http://people.brunel.ac.uk/~mastjjb/jeb/orlib/files/pmed11.txt\",\n",
        "    \"http://people.brunel.ac.uk/~mastjjb/jeb/orlib/files/pmed12.txt\",\n",
        "    \"http://people.brunel.ac.uk/~mastjjb/jeb/orlib/files/pmed13.txt\",\n",
        "    \"http://people.brunel.ac.uk/~mastjjb/jeb/orlib/files/pmed14.txt\",\n",
        "    \"http://people.brunel.ac.uk/~mastjjb/jeb/orlib/files/pmed15.txt\",\n",
        "    \"http://people.brunel.ac.uk/~mastjjb/jeb/orlib/files/pmed16.txt\",\n",
        "    \"http://people.brunel.ac.uk/~mastjjb/jeb/orlib/files/pmed17.txt\",\n",
        "    \"http://people.brunel.ac.uk/~mastjjb/jeb/orlib/files/pmed18.txt\",\n",
        "    \"http://people.brunel.ac.uk/~mastjjb/jeb/orlib/files/pmed19.txt\",\n",
        "    \"http://people.brunel.ac.uk/~mastjjb/jeb/orlib/files/pmed20.txt\",\n",
        "    \"http://people.brunel.ac.uk/~mastjjb/jeb/orlib/files/pmed21.txt\",\n",
        "    \"http://people.brunel.ac.uk/~mastjjb/jeb/orlib/files/pmed22.txt\",\n",
        "    \"http://people.brunel.ac.uk/~mastjjb/jeb/orlib/files/pmed23.txt\",\n",
        "    \"http://people.brunel.ac.uk/~mastjjb/jeb/orlib/files/pmed24.txt\",\n",
        "    \"http://people.brunel.ac.uk/~mastjjb/jeb/orlib/files/pmed25.txt\",\n",
        "    \"http://people.brunel.ac.uk/~mastjjb/jeb/orlib/files/pmed26.txt\",\n",
        "    \"http://people.brunel.ac.uk/~mastjjb/jeb/orlib/files/pmed27.txt\",\n",
        "    \"http://people.brunel.ac.uk/~mastjjb/jeb/orlib/files/pmed28.txt\",\n",
        "    \"http://people.brunel.ac.uk/~mastjjb/jeb/orlib/files/pmed29.txt\",\n",
        "    \"http://people.brunel.ac.uk/~mastjjb/jeb/orlib/files/pmed30.txt\",\n",
        "    \"http://people.brunel.ac.uk/~mastjjb/jeb/orlib/files/pmed31.txt\",\n",
        "    \"http://people.brunel.ac.uk/~mastjjb/jeb/orlib/files/pmed32.txt\",\n",
        "    \"http://people.brunel.ac.uk/~mastjjb/jeb/orlib/files/pmed33.txt\",\n",
        "    \"http://people.brunel.ac.uk/~mastjjb/jeb/orlib/files/pmed34.txt\",\n",
        "    \"http://people.brunel.ac.uk/~mastjjb/jeb/orlib/files/pmed35.txt\",\n",
        "    \"http://people.brunel.ac.uk/~mastjjb/jeb/orlib/files/pmed36.txt\",\n",
        "    \"http://people.brunel.ac.uk/~mastjjb/jeb/orlib/files/pmed37.txt\",\n",
        "    \"http://people.brunel.ac.uk/~mastjjb/jeb/orlib/files/pmed38.txt\",\n",
        "    \"http://people.brunel.ac.uk/~mastjjb/jeb/orlib/files/pmed39.txt\",\n",
        "    \"http://people.brunel.ac.uk/~mastjjb/jeb/orlib/files/pmed40.txt\",\n",
        "]"
      ]
    },
    {
      "cell_type": "code",
      "execution_count": 3,
      "metadata": {
        "colab": {
          "base_uri": "https://localhost:8080/"
        },
        "id": "iLrzt4MTEytO",
        "outputId": "3e49fc63-bc64-4d05-8108-9a9527405724"
      },
      "outputs": [
        {
          "output_type": "execute_result",
          "data": {
            "text/plain": [
              "0"
            ]
          },
          "metadata": {},
          "execution_count": 3
        }
      ],
      "source": [
        "for pmed in brunel_pmeds\n",
        "  os.system('wget {FILE}'.format(FILE = pmed))"
      ]
    },
    {
      "cell_type": "code",
      "execution_count": 4,
      "metadata": {
        "id": "n87294q2K50u"
      },
      "outputs": [],
      "source": [
        "def get_dataset(filepath):\n",
        "  with open(filepath.split('/')[-1]) as f:\n",
        "    content = f.readlines()\n",
        "\n",
        "  params = content[0].split()\n",
        "  params = [int(x) for x in params]\n",
        "\n",
        "  # def dataset parans\n",
        "  vertices = params[0]\n",
        "  edges = params[1]\n",
        "  p = params[2]\n",
        "\n",
        "  # preprocess cost edges\n",
        "  cost = [x.split() for x in content[1:]]\n",
        "  cost = [list(map(int, x)) for x in cost]\n",
        "\n",
        "  # create mat cost\n",
        "  cost_mat = np.full((vertices, vertices), np.nan)\n",
        "  for i, j, c in cost:\n",
        "    cost_mat[i-1][j-1] = c\n",
        "    cost_mat[j-1][i-1] = c\n",
        "\n",
        "  for i in range(vertices):\n",
        "    cost_mat[i][i] = 0\n",
        "\n",
        "  return {\n",
        "      \"vertices\" : vertices,\n",
        "      \"edges\": edges,\n",
        "      \"p\": p,\n",
        "      \"cost_mat\": cost_mat\n",
        "  }\n"
      ]
    },
    {
      "cell_type": "markdown",
      "metadata": {
        "id": "uIFqFHkKBt0E"
      },
      "source": [
        "## Linear Solution"
      ]
    },
    {
      "cell_type": "markdown",
      "metadata": {
        "id": "Tl1v2owEQg2Q"
      },
      "source": [
        "###Utility Functions"
      ]
    },
    {
      "cell_type": "markdown",
      "source": [
        "#### Binary count"
      ],
      "metadata": {
        "id": "-ujMk_9nXyPc"
      }
    },
    {
      "cell_type": "code",
      "execution_count": null,
      "metadata": {
        "id": "yUdIVJwHTVVs"
      },
      "outputs": [],
      "source": [
        "class BinaryCount:\n",
        "  def __init__(self, length: int, start: int = 0):\n",
        "    self.length = length\n",
        "    self.start = start\n",
        "    self.i = self.start\n",
        "\n",
        "  def __get_zeros(self, n):\n",
        "    zeros = \"\"\n",
        "    for i in range(n):\n",
        "      zeros = zeros + str(0)\n",
        "\n",
        "    return zeros\n",
        "\n",
        "  def __string_to_list_int(self, string):\n",
        "    bin_list = [*string]\n",
        "    bin_list = [ int(x) for x in bin_list]\n",
        "    return bin_list\n",
        "\n",
        "  def __next__(self):\n",
        "    bin_code = \"{number:b}\".format(number=self.i)\n",
        "    self.i = self.i + 1\n",
        "\n",
        "    if(len(bin_code) < self.length):\n",
        "      bin_code = self.__get_zeros(self.length - len(bin_code)) + bin_code\n",
        "\n",
        "    elif (len(bin_code) == self.length):\n",
        "      bin_code = bin_code\n",
        "\n",
        "    else:\n",
        "      raise StopIteration\n",
        "\n",
        "    # return bin_code\n",
        "    return self.__string_to_list_int(bin_code)\n",
        "\n",
        "  def __iter__(self):\n",
        "    return self\n"
      ]
    },
    {
      "cell_type": "markdown",
      "source": [
        "#### Get cost of solution"
      ],
      "metadata": {
        "id": "62CF__k4X3YM"
      }
    },
    {
      "cell_type": "code",
      "execution_count": null,
      "metadata": {
        "id": "ZGPM2kmFatr_"
      },
      "outputs": [],
      "source": [
        "def get_cost_sol(vertices, sol, cost_mat):\n",
        "  total_cost = 0\n",
        "  for i in range(vertices):\n",
        "    for j in range(vertices):\n",
        "      if not np.isnan(cost_mat[i][j]):\n",
        "        total_cost = total_cost + (cost_mat[i][j] * sol[i][j])\n",
        "      elif( sol[i][j] > 0):\n",
        "        raise Exception\n",
        "      else:\n",
        "        continue;\n",
        "  return total_cost\n",
        "\n"
      ]
    },
    {
      "cell_type": "markdown",
      "source": [
        "#### Check all served vertices restriction"
      ],
      "metadata": {
        "id": "5ZkXonHvX-ej"
      }
    },
    {
      "cell_type": "code",
      "execution_count": null,
      "metadata": {
        "colab": {
          "base_uri": "https://localhost:8080/"
        },
        "id": "ObYVwqehf7CT",
        "outputId": "0b62cd76-2584-4c9c-ced2-822fc277b24b"
      },
      "outputs": [
        {
          "data": {
            "text/plain": [
              "False"
            ]
          },
          "execution_count": 88,
          "metadata": {},
          "output_type": "execute_result"
        }
      ],
      "source": [
        "def restriction_all_served(vertices, sol):\n",
        "  sol = np.array(sol)\n",
        "  for i in range(vertices):\n",
        "    col = sol[:, i]\n",
        "    sum = np.sum(col)\n",
        "    if(sum != 1):\n",
        "      return False\n",
        "  return True\n",
        "\n",
        "sol_test = [[0,1,0], [1,0,0], [0,0,0]]\n",
        "restriction_all_served(3, sol_test)"
      ]
    },
    {
      "cell_type": "markdown",
      "source": [
        "#### Check number of servers restriction"
      ],
      "metadata": {
        "id": "Pvpjz70NYMQD"
      }
    },
    {
      "cell_type": "code",
      "execution_count": null,
      "metadata": {
        "colab": {
          "base_uri": "https://localhost:8080/"
        },
        "id": "Yn7aFnuCiJMM",
        "outputId": "db8478cd-0dca-4f85-a343-a422002460bf"
      },
      "outputs": [
        {
          "data": {
            "text/plain": [
              "False"
            ]
          },
          "execution_count": 93,
          "metadata": {},
          "output_type": "execute_result"
        }
      ],
      "source": [
        "def restriction_p_servers(vertices, p, sol):\n",
        "  sol = np.array(sol)\n",
        "\n",
        "  col = sol[:, vertices]\n",
        "  sum = np.sum(col)\n",
        "  if(sum != p):\n",
        "    return False\n",
        "  return True\n",
        "\n",
        "sol_test = [[0,1,0,0], [1,0,0,1], [0,0,0,0]]\n",
        "restriction_p_servers(3, 2, sol_test)"
      ]
    },
    {
      "cell_type": "markdown",
      "source": [
        "#### Check vertives served by open servers"
      ],
      "metadata": {
        "id": "7MZpCFfeYU7z"
      }
    },
    {
      "cell_type": "code",
      "execution_count": null,
      "metadata": {
        "colab": {
          "base_uri": "https://localhost:8080/"
        },
        "id": "hbrECTfGjZHK",
        "outputId": "7640e293-b7fb-417f-ffcf-9e26210f3ae7"
      },
      "outputs": [
        {
          "data": {
            "text/plain": [
              "True"
            ]
          },
          "execution_count": 164,
          "metadata": {},
          "output_type": "execute_result"
        }
      ],
      "source": [
        "def restriction_served_by_open_servers(vertices, sol):\n",
        "  sol = np.array(sol)\n",
        "\n",
        "  for i in range(vertices):\n",
        "    row = sol[i, :vertices]\n",
        "    for j in row:\n",
        "      if not(j - sol[i,vertices] <= 0):\n",
        "        # print(i, row, sol[i,vertices])\n",
        "        return False\n",
        "  return True\n",
        "\n",
        "sol_test = [[0,1,0,1], [1,0,0,1], [0,0,0,1]]\n",
        "restriction_served_by_open_servers(3, sol_test)"
      ]
    },
    {
      "cell_type": "markdown",
      "metadata": {
        "id": "sECXIw3JYMd4"
      },
      "source": [
        "### Solver"
      ]
    },
    {
      "cell_type": "code",
      "execution_count": null,
      "metadata": {
        "id": "21NXfr32YLrv"
      },
      "outputs": [],
      "source": [
        "def linear_solver(vertices, edges, p, cost_mat):\n",
        "  solutions = []\n",
        "\n",
        "  bin_count = BinaryCount( vertices * (vertices + 1) )\n",
        "\n",
        "  for bin in bin_count:\n",
        "    sol = np.array(bin)\n",
        "    sol = np.reshape(sol, (vertices, (vertices + 1)))\n",
        "\n",
        "\n",
        "    if not restriction_p_servers(vertices, p, sol):\n",
        "      continue;\n",
        "\n",
        "    if not restriction_all_served(vertices, sol):\n",
        "      continue;\n",
        "\n",
        "    if not restriction_served_by_open_servers(vertices, sol):\n",
        "      continue;\n",
        "    # print(sol)\n",
        "\n",
        "    cost = get_cost_sol(vertices, sol, cost_mat)\n",
        "\n",
        "    solutions.append([cost, sol])\n",
        "\n",
        "  return solutions\n",
        "\n",
        "\n",
        "\n",
        "\n",
        "\n",
        "\n"
      ]
    },
    {
      "cell_type": "markdown",
      "source": [
        "### Execute Solution"
      ],
      "metadata": {
        "id": "e46yUAK-Y4Cz"
      }
    },
    {
      "cell_type": "code",
      "execution_count": null,
      "metadata": {
        "colab": {
          "base_uri": "https://localhost:8080/"
        },
        "id": "7JoIdEWg41HD",
        "outputId": "6382bd73-4fef-4891-e946-46cbc6b8a79b"
      },
      "outputs": [
        {
          "name": "stdout",
          "output_type": "stream",
          "text": [
            "{'vertices': 4, 'edges': 40, 'p': 2, 'cost_mat': array([[ 0., 34., 32., 66.],\n",
            "       [34.,  0., 73., 63.],\n",
            "       [32., 73.,  0., 92.],\n",
            "       [66., 63., 92.,  0.]])}\n",
            "66.0\n",
            "[[1 1 1 0 1]\n",
            " [0 0 0 0 0]\n",
            " [0 0 0 0 0]\n",
            " [0 0 0 1 1]]\n",
            "95.0\n",
            "[[0 0 0 0 0]\n",
            " [0 0 0 0 0]\n",
            " [1 0 1 0 1]\n",
            " [0 1 0 1 1]]\n",
            "95.0\n",
            "[[0 0 0 0 0]\n",
            " [0 1 0 1 1]\n",
            " [1 0 1 0 1]\n",
            " [0 0 0 0 0]]\n",
            "95.0\n",
            "[[1 0 1 0 1]\n",
            " [0 0 0 0 0]\n",
            " [0 0 0 0 0]\n",
            " [0 1 0 1 1]]\n",
            "95.0\n",
            "[[1 0 1 0 1]\n",
            " [0 1 0 1 1]\n",
            " [0 0 0 0 0]\n",
            " [0 0 0 0 0]]\n",
            "97.0\n",
            "[[0 0 0 0 0]\n",
            " [1 1 0 1 1]\n",
            " [0 0 1 0 1]\n",
            " [0 0 0 0 0]]\n",
            "98.0\n",
            "[[1 0 1 1 1]\n",
            " [0 1 0 0 1]\n",
            " [0 0 0 0 0]\n",
            " [0 0 0 0 0]]\n",
            "100.0\n",
            "[[1 1 0 1 1]\n",
            " [0 0 0 0 0]\n",
            " [0 0 1 0 1]\n",
            " [0 0 0 0 0]]\n",
            "105.0\n",
            "[[0 0 0 0 0]\n",
            " [0 0 0 0 0]\n",
            " [1 1 1 0 1]\n",
            " [0 0 0 1 1]]\n",
            "107.0\n",
            "[[0 0 0 0 0]\n",
            " [1 1 1 0 1]\n",
            " [0 0 0 0 0]\n",
            " [0 0 0 1 1]]\n",
            "124.0\n",
            "[[0 0 0 0 0]\n",
            " [0 1 0 0 1]\n",
            " [1 0 1 1 1]\n",
            " [0 0 0 0 0]]\n",
            "126.0\n",
            "[[0 0 0 0 0]\n",
            " [1 1 0 0 1]\n",
            " [0 0 0 0 0]\n",
            " [0 0 1 1 1]]\n",
            "126.0\n",
            "[[0 0 0 0 0]\n",
            " [1 1 0 0 1]\n",
            " [0 0 1 1 1]\n",
            " [0 0 0 0 0]]\n",
            "126.0\n",
            "[[1 1 0 0 1]\n",
            " [0 0 0 0 0]\n",
            " [0 0 0 0 0]\n",
            " [0 0 1 1 1]]\n",
            "126.0\n",
            "[[1 1 0 0 1]\n",
            " [0 0 0 0 0]\n",
            " [0 0 1 1 1]\n",
            " [0 0 0 0 0]]\n",
            "129.0\n",
            "[[0 0 0 0 0]\n",
            " [0 0 0 0 0]\n",
            " [0 0 1 0 1]\n",
            " [1 1 0 1 1]]\n",
            "129.0\n",
            "[[0 0 1 0 1]\n",
            " [1 1 0 1 1]\n",
            " [0 0 0 0 0]\n",
            " [0 0 0 0 0]]\n",
            "129.0\n",
            "[[1 1 1 0 1]\n",
            " [0 0 0 1 1]\n",
            " [0 0 0 0 0]\n",
            " [0 0 0 0 0]]\n",
            "132.0\n",
            "[[0 0 1 1 1]\n",
            " [1 1 0 0 1]\n",
            " [0 0 0 0 0]\n",
            " [0 0 0 0 0]]\n",
            "132.0\n",
            "[[0 1 0 1 1]\n",
            " [0 0 0 0 0]\n",
            " [1 0 1 0 1]\n",
            " [0 0 0 0 0]]\n",
            "132.0\n",
            "[[0 1 1 0 1]\n",
            " [0 0 0 0 0]\n",
            " [0 0 0 0 0]\n",
            " [1 0 0 1 1]]\n",
            "132.0\n",
            "[[1 1 1 1 1]\n",
            " [0 0 0 0 0]\n",
            " [0 0 0 0 0]\n",
            " [0 0 0 0 1]]\n",
            "132.0\n",
            "[[1 1 1 1 1]\n",
            " [0 0 0 0 0]\n",
            " [0 0 0 0 1]\n",
            " [0 0 0 0 0]]\n",
            "132.0\n",
            "[[1 1 1 1 1]\n",
            " [0 0 0 0 1]\n",
            " [0 0 0 0 0]\n",
            " [0 0 0 0 0]]\n",
            "136.0\n",
            "[[1 0 0 0 1]\n",
            " [0 1 1 1 1]\n",
            " [0 0 0 0 0]\n",
            " [0 0 0 0 0]]\n",
            "139.0\n",
            "[[0 0 0 0 0]\n",
            " [0 0 0 0 0]\n",
            " [0 1 1 0 1]\n",
            " [1 0 0 1 1]]\n",
            "139.0\n",
            "[[0 0 0 0 0]\n",
            " [0 1 1 0 1]\n",
            " [0 0 0 0 0]\n",
            " [1 0 0 1 1]]\n",
            "139.0\n",
            "[[1 0 0 1 1]\n",
            " [0 0 0 0 0]\n",
            " [0 1 1 0 1]\n",
            " [0 0 0 0 0]]\n",
            "139.0\n",
            "[[1 0 0 1 1]\n",
            " [0 1 1 0 1]\n",
            " [0 0 0 0 0]\n",
            " [0 0 0 0 0]]\n",
            "155.0\n",
            "[[1 0 0 0 1]\n",
            " [0 0 0 0 0]\n",
            " [0 0 0 0 0]\n",
            " [0 1 1 1 1]]\n",
            "158.0\n",
            "[[0 0 0 0 0]\n",
            " [0 1 0 0 1]\n",
            " [0 0 0 0 0]\n",
            " [1 0 1 1 1]]\n",
            "158.0\n",
            "[[0 1 0 0 1]\n",
            " [0 0 0 0 0]\n",
            " [1 0 1 1 1]\n",
            " [0 0 0 0 0]]\n",
            "158.0\n",
            "[[1 1 1 0 1]\n",
            " [0 0 0 0 0]\n",
            " [0 0 0 1 1]\n",
            " [0 0 0 0 0]]\n",
            "161.0\n",
            "[[0 0 1 0 1]\n",
            " [0 0 0 0 0]\n",
            " [0 0 0 0 0]\n",
            " [1 1 0 1 1]]\n",
            "161.0\n",
            "[[1 0 1 1 1]\n",
            " [0 0 0 0 0]\n",
            " [0 0 0 0 0]\n",
            " [0 1 0 0 1]]\n",
            "163.0\n",
            "[[0 1 1 0 1]\n",
            " [1 0 0 1 1]\n",
            " [0 0 0 0 0]\n",
            " [0 0 0 0 0]]\n",
            "164.0\n",
            "[[0 1 1 1 1]\n",
            " [0 0 0 0 0]\n",
            " [1 0 0 0 1]\n",
            " [0 0 0 0 0]]\n",
            "165.0\n",
            "[[1 0 0 0 1]\n",
            " [0 0 0 0 0]\n",
            " [0 1 1 1 1]\n",
            " [0 0 0 0 0]]\n",
            "166.0\n",
            "[[0 1 1 1 1]\n",
            " [1 0 0 0 1]\n",
            " [0 0 0 0 0]\n",
            " [0 0 0 0 0]]\n",
            "168.0\n",
            "[[0 0 0 0 0]\n",
            " [0 0 0 1 1]\n",
            " [1 1 1 0 1]\n",
            " [0 0 0 0 0]]\n",
            "168.0\n",
            "[[0 0 0 0 0]\n",
            " [0 1 1 1 1]\n",
            " [1 0 0 0 1]\n",
            " [0 0 0 0 0]]\n",
            "170.0\n",
            "[[0 0 0 0 0]\n",
            " [1 0 0 1 1]\n",
            " [0 1 1 0 1]\n",
            " [0 0 0 0 0]]\n",
            "170.0\n",
            "[[0 0 0 0 0]\n",
            " [1 0 1 0 1]\n",
            " [0 0 0 0 0]\n",
            " [0 1 0 1 1]]\n",
            "170.0\n",
            "[[0 0 0 0 0]\n",
            " [1 1 1 1 1]\n",
            " [0 0 0 0 0]\n",
            " [0 0 0 0 1]]\n",
            "170.0\n",
            "[[0 0 0 0 0]\n",
            " [1 1 1 1 1]\n",
            " [0 0 0 0 1]\n",
            " [0 0 0 0 0]]\n",
            "170.0\n",
            "[[0 0 0 0 1]\n",
            " [1 1 1 1 1]\n",
            " [0 0 0 0 0]\n",
            " [0 0 0 0 0]]\n",
            "170.0\n",
            "[[1 1 0 0 1]\n",
            " [0 0 1 1 1]\n",
            " [0 0 0 0 0]\n",
            " [0 0 0 0 0]]\n",
            "171.0\n",
            "[[0 0 0 1 1]\n",
            " [0 0 0 0 0]\n",
            " [1 1 1 0 1]\n",
            " [0 0 0 0 0]]\n",
            "171.0\n",
            "[[1 0 1 1 1]\n",
            " [0 0 0 0 0]\n",
            " [0 1 0 0 1]\n",
            " [0 0 0 0 0]]\n",
            "173.0\n",
            "[[0 0 0 1 1]\n",
            " [1 1 1 0 1]\n",
            " [0 0 0 0 0]\n",
            " [0 0 0 0 0]]\n",
            "173.0\n",
            "[[1 1 0 1 1]\n",
            " [0 0 1 0 1]\n",
            " [0 0 0 0 0]\n",
            " [0 0 0 0 0]]\n",
            "187.0\n",
            "[[0 0 0 0 0]\n",
            " [0 0 0 0 0]\n",
            " [1 0 0 0 1]\n",
            " [0 1 1 1 1]]\n",
            "187.0\n",
            "[[0 0 0 0 0]\n",
            " [0 0 0 0 0]\n",
            " [1 0 1 1 1]\n",
            " [0 1 0 0 1]]\n",
            "189.0\n",
            "[[0 0 0 0 0]\n",
            " [1 0 0 0 1]\n",
            " [0 0 0 0 0]\n",
            " [0 1 1 1 1]]\n",
            "189.0\n",
            "[[0 0 0 0 0]\n",
            " [1 1 0 1 1]\n",
            " [0 0 0 0 0]\n",
            " [0 0 1 0 1]]\n",
            "190.0\n",
            "[[0 1 1 0 1]\n",
            " [0 0 0 0 0]\n",
            " [1 0 0 1 1]\n",
            " [0 0 0 0 0]]\n",
            "192.0\n",
            "[[0 1 0 0 1]\n",
            " [0 0 0 0 0]\n",
            " [0 0 0 0 0]\n",
            " [1 0 1 1 1]]\n",
            "192.0\n",
            "[[1 1 0 1 1]\n",
            " [0 0 0 0 0]\n",
            " [0 0 0 0 0]\n",
            " [0 0 1 0 1]]\n",
            "197.0\n",
            "[[0 0 0 0 0]\n",
            " [0 0 0 0 0]\n",
            " [1 1 0 0 1]\n",
            " [0 0 1 1 1]]\n",
            "197.0\n",
            "[[0 0 0 0 0]\n",
            " [0 0 0 0 0]\n",
            " [1 1 1 1 1]\n",
            " [0 0 0 0 1]]\n",
            "197.0\n",
            "[[0 0 0 0 0]\n",
            " [0 0 0 0 1]\n",
            " [1 1 1 1 1]\n",
            " [0 0 0 0 0]]\n",
            "197.0\n",
            "[[0 0 0 0 0]\n",
            " [0 1 1 0 1]\n",
            " [1 0 0 1 1]\n",
            " [0 0 0 0 0]]\n",
            "197.0\n",
            "[[0 0 0 0 1]\n",
            " [0 0 0 0 0]\n",
            " [1 1 1 1 1]\n",
            " [0 0 0 0 0]]\n",
            "197.0\n",
            "[[1 0 1 0 1]\n",
            " [0 0 0 0 0]\n",
            " [0 1 0 1 1]\n",
            " [0 0 0 0 0]]\n",
            "198.0\n",
            "[[0 1 1 1 1]\n",
            " [0 0 0 0 0]\n",
            " [0 0 0 0 0]\n",
            " [1 0 0 0 1]]\n",
            "199.0\n",
            "[[0 0 0 0 0]\n",
            " [1 0 0 0 1]\n",
            " [0 1 1 1 1]\n",
            " [0 0 0 0 0]]\n",
            "199.0\n",
            "[[0 0 0 0 0]\n",
            " [1 1 1 0 1]\n",
            " [0 0 0 1 1]\n",
            " [0 0 0 0 0]]\n",
            "202.0\n",
            "[[0 0 0 0 0]\n",
            " [0 0 1 0 1]\n",
            " [0 0 0 0 0]\n",
            " [1 1 0 1 1]]\n",
            "202.0\n",
            "[[0 0 0 0 0]\n",
            " [0 1 1 1 1]\n",
            " [0 0 0 0 0]\n",
            " [1 0 0 0 1]]\n",
            "203.0\n",
            "[[0 0 1 1 1]\n",
            " [0 0 0 0 0]\n",
            " [1 1 0 0 1]\n",
            " [0 0 0 0 0]]\n",
            "204.0\n",
            "[[0 1 0 0 1]\n",
            " [1 0 1 1 1]\n",
            " [0 0 0 0 0]\n",
            " [0 0 0 0 0]]\n",
            "207.0\n",
            "[[0 1 0 1 1]\n",
            " [1 0 1 0 1]\n",
            " [0 0 0 0 0]\n",
            " [0 0 0 0 0]]\n",
            "221.0\n",
            "[[0 0 0 0 0]\n",
            " [0 0 0 0 0]\n",
            " [0 0 0 0 1]\n",
            " [1 1 1 1 1]]\n",
            "221.0\n",
            "[[0 0 0 0 0]\n",
            " [0 0 0 0 0]\n",
            " [0 0 1 1 1]\n",
            " [1 1 0 0 1]]\n",
            "221.0\n",
            "[[0 0 0 0 0]\n",
            " [0 0 0 0 1]\n",
            " [0 0 0 0 0]\n",
            " [1 1 1 1 1]]\n",
            "221.0\n",
            "[[0 0 0 0 0]\n",
            " [0 1 0 1 1]\n",
            " [0 0 0 0 0]\n",
            " [1 0 1 0 1]]\n",
            "221.0\n",
            "[[0 0 0 0 1]\n",
            " [0 0 0 0 0]\n",
            " [0 0 0 0 0]\n",
            " [1 1 1 1 1]]\n",
            "221.0\n",
            "[[1 0 0 1 1]\n",
            " [0 0 0 0 0]\n",
            " [0 0 0 0 0]\n",
            " [0 1 1 0 1]]\n",
            "227.0\n",
            "[[0 0 1 1 1]\n",
            " [0 0 0 0 0]\n",
            " [0 0 0 0 0]\n",
            " [1 1 0 0 1]]\n",
            "229.0\n",
            "[[0 0 1 0 1]\n",
            " [0 0 0 0 0]\n",
            " [1 1 0 1 1]\n",
            " [0 0 0 0 0]]\n",
            "231.0\n",
            "[[0 0 0 0 0]\n",
            " [0 0 0 0 0]\n",
            " [0 1 0 0 1]\n",
            " [1 0 1 1 1]]\n",
            "231.0\n",
            "[[0 0 0 0 0]\n",
            " [0 0 0 0 0]\n",
            " [0 1 1 1 1]\n",
            " [1 0 0 0 1]]\n",
            "233.0\n",
            "[[0 0 0 0 0]\n",
            " [1 0 1 1 1]\n",
            " [0 0 0 0 0]\n",
            " [0 1 0 0 1]]\n",
            "241.0\n",
            "[[0 0 0 0 0]\n",
            " [0 0 1 1 1]\n",
            " [1 1 0 0 1]\n",
            " [0 0 0 0 0]]\n",
            "243.0\n",
            "[[0 0 0 0 0]\n",
            " [1 0 1 1 1]\n",
            " [0 1 0 0 1]\n",
            " [0 0 0 0 0]]\n",
            "252.0\n",
            "[[0 0 0 0 0]\n",
            " [1 0 0 1 1]\n",
            " [0 0 0 0 0]\n",
            " [0 1 1 0 1]]\n",
            "258.0\n",
            "[[0 1 0 1 1]\n",
            " [0 0 0 0 0]\n",
            " [0 0 0 0 0]\n",
            " [1 0 1 0 1]]\n",
            "265.0\n",
            "[[0 0 0 0 0]\n",
            " [0 0 1 1 1]\n",
            " [0 0 0 0 0]\n",
            " [1 1 0 0 1]]\n",
            "270.0\n",
            "[[0 0 0 0 0]\n",
            " [0 0 1 0 1]\n",
            " [1 1 0 1 1]\n",
            " [0 0 0 0 0]]\n",
            "272.0\n",
            "[[0 0 0 0 0]\n",
            " [1 0 1 0 1]\n",
            " [0 1 0 1 1]\n",
            " [0 0 0 0 0]]\n",
            "279.0\n",
            "[[0 0 0 0 0]\n",
            " [0 0 0 0 0]\n",
            " [1 0 0 1 1]\n",
            " [0 1 1 0 1]]\n",
            "284.0\n",
            "[[0 0 0 0 0]\n",
            " [0 0 0 1 1]\n",
            " [0 0 0 0 0]\n",
            " [1 1 1 0 1]]\n",
            "287.0\n",
            "[[0 0 0 1 1]\n",
            " [0 0 0 0 0]\n",
            " [0 0 0 0 0]\n",
            " [1 1 1 0 1]]\n",
            "289.0\n",
            "[[0 0 0 0 0]\n",
            " [0 0 0 0 0]\n",
            " [1 1 0 1 1]\n",
            " [0 0 1 0 1]]\n",
            "313.0\n",
            "[[0 0 0 0 0]\n",
            " [0 0 0 0 0]\n",
            " [0 0 0 1 1]\n",
            " [1 1 1 0 1]]\n",
            "323.0\n",
            "[[0 0 0 0 0]\n",
            " [0 0 0 0 0]\n",
            " [0 1 0 1 1]\n",
            " [1 0 1 0 1]]\n"
          ]
        }
      ],
      "source": [
        "data = get_dataset('./pmed00.txt')\n",
        "\n",
        "print(data)\n",
        "\n",
        "solutions = linear_solver(data[\"vertices\"], data[\"edges\"], data[\"p\"], data[\"cost_mat\"])\n",
        "\n",
        "solutions.sort(key=lambda s : s[0])\n",
        "\n",
        "\n",
        "print(\"Best cost: \", solutions[0][0])\n",
        "print(\"Best solution matrix: \\n\", solutions[0][1])"
      ]
    },
    {
      "cell_type": "markdown",
      "metadata": {
        "id": "aBLNR9Z_9zQe"
      },
      "source": [
        "## Improved Linear Solution"
      ]
    },
    {
      "cell_type": "markdown",
      "metadata": {
        "id": "KdCCaiu2-BfY"
      },
      "source": [
        "### Class Solution"
      ]
    },
    {
      "cell_type": "code",
      "execution_count": 5,
      "metadata": {
        "id": "97DT86Eg-EWm"
      },
      "outputs": [],
      "source": [
        "class Solution:\n",
        "  def __init__(self, vertices: int, p: list, c_mat):\n",
        "    self.v = vertices\n",
        "    self.p = p\n",
        "    self.c_mat = c_mat\n",
        "    # self.s_mat = np.full((vertices, vertices), 0, dtype=int)\n",
        "    self.s_vet = []\n",
        "\n",
        "    # col iterator\n",
        "    self.i = 0\n",
        "\n",
        "    # solution cost\n",
        "    self.c = 0.0\n",
        "\n",
        "    # possible solution\n",
        "    self.impossible = False\n",
        "\n",
        "    self.nancount = 0\n",
        "\n",
        "  # exec sol step\n",
        "  def sol_step(self):\n",
        "    if self.i < self.v:\n",
        "      min_cost_serv = float(\"inf\")\n",
        "      min_cost_serv_ind = None\n",
        "      for serv in self.p:\n",
        "\n",
        "        # if cost not def continue\n",
        "        if np.isnan(self.c_mat[serv][self.i]):\n",
        "          continue\n",
        "\n",
        "        # update cost min\n",
        "        if self.c_mat[serv][self.i] < min_cost_serv:\n",
        "          min_cost_serv = self.c_mat[serv][self.i]\n",
        "          min_cost_serv_ind = serv\n",
        "\n",
        "      # if not find edge sol, is impossible\n",
        "      if min_cost_serv_ind is None :\n",
        "        # self.impossible = True;\n",
        "        # self.c = float(\"inf\")\n",
        "        # self.i = self.v\n",
        "        self.s_vet.append(np.nan)\n",
        "        self.i = self.i + 1\n",
        "        self.c = self.c + 0\n",
        "        self.nancount = self.nancount + 1\n",
        "\n",
        "      # update solution\n",
        "      else:\n",
        "        # add sol into s_mat\n",
        "        # self.s_mat[min_cost_serv_ind][self.i] = 1\n",
        "        self.s_vet.append(min_cost_serv_ind)\n",
        "        # iterate col\n",
        "        self.i = self.i + 1\n",
        "        # update cost\n",
        "        self.c = self.c + min_cost_serv\n",
        "\n",
        "  def solved(self):\n",
        "    if self.i < self.v:\n",
        "      return False\n",
        "    else:\n",
        "      return True\n",
        "\n",
        "  def __lt__(self, s):\n",
        "    return self.c < s.c\n",
        "\n",
        "  def __le__(self, s):\n",
        "    return self.c <= s.c\n",
        "\n",
        "  def __eq__(self, s):\n",
        "    return self.c == s.c\n",
        "\n",
        "  def __gt__(self, s):\n",
        "    return self.c > s.c\n",
        "\n",
        "  def __ge__(self, s):\n",
        "    return self.c >= s.c\n",
        "\n"
      ]
    },
    {
      "cell_type": "markdown",
      "source": [
        "### Solver"
      ],
      "metadata": {
        "id": "DWa23cnhyzGm"
      }
    },
    {
      "cell_type": "code",
      "execution_count": 6,
      "metadata": {
        "id": "CTvSkpNXDyex"
      },
      "outputs": [],
      "source": [
        "def solver(vertices, edges, p, cost_mat):\n",
        "  solutions = []\n",
        "\n",
        "  # create solutions instances\n",
        "  comb = combinations(range(vertices), p)\n",
        "  for c in list(comb):\n",
        "    s = Solution(vertices, c, cost_mat)\n",
        "    solutions.append(s)\n",
        "\n",
        "  # resolve all solutions\n",
        "  for s in solutions:\n",
        "    while not s.solved():\n",
        "      s.sol_step()\n",
        "  return solutions\n",
        "\n",
        "\n",
        "\n",
        "\n",
        "\n",
        "\n"
      ]
    },
    {
      "cell_type": "markdown",
      "source": [
        "### Execute Solution"
      ],
      "metadata": {
        "id": "eAMoKCbiy3T2"
      }
    },
    {
      "cell_type": "code",
      "execution_count": null,
      "metadata": {
        "colab": {
          "base_uri": "https://localhost:8080/"
        },
        "id": "y49AoitgDvr1",
        "outputId": "d8a56ff1-d82a-460e-dd84-c97bd10db127"
      },
      "outputs": [
        {
          "output_type": "stream",
          "name": "stdout",
          "text": [
            "{'vertices': 100, 'edges': 200, 'p': 5, 'cost_mat': array([[ 0., 30., nan, ..., nan, nan, 88.],\n",
            "       [30.,  0., 46., ..., nan, nan, nan],\n",
            "       [nan, 46.,  0., ..., nan, 49., nan],\n",
            "       ...,\n",
            "       [nan, nan, nan, ...,  0., 31., nan],\n",
            "       [nan, nan, 49., ..., 31.,  0., 49.],\n",
            "       [88., nan, nan, ..., nan, 49.,  0.]])}\n",
            "Start time:- 2023-07-10 13:44:18.939816\n",
            "timestamp:- 1688996658.939816\n"
          ]
        }
      ],
      "source": [
        "data = get_dataset('./pmed1.txt')\n",
        "\n",
        "print(data)\n",
        "\n",
        "# ct stores current time\n",
        "ct = datetime.datetime.now()\n",
        "print(\"Start time:-\", ct)\n",
        "ts = ct.timestamp()\n",
        "print(\"timestamp:-\", ts)\n",
        "\n",
        "solutions = solver(data[\"vertices\"], data[\"edges\"], data[\"p\"], data[\"cost_mat\"])\n",
        "\n",
        "# ct stores current time\n",
        "ct = datetime.datetime.now()\n",
        "print(\"End time:-\", ct)\n",
        "ts = ct.timestamp()\n",
        "print(\"timestamp:-\", ts)\n",
        "\n",
        "solutions.sort()\n",
        "\n",
        "print(solutions[0].c)\n",
        "print(solutions[0].s_vet)\n",
        "\n",
        "# for s in solutions:\n",
        "#   if not s.impossible:\n",
        "#     print(s.c)\n",
        "#     print(s.s_vet)"
      ]
    },
    {
      "cell_type": "markdown",
      "metadata": {
        "id": "PswgAvlJyr3x"
      },
      "source": [
        "## Linear Solution with Heuristics"
      ]
    },
    {
      "cell_type": "markdown",
      "source": [
        "### Solver"
      ],
      "metadata": {
        "id": "yXP7jW81y9Y-"
      }
    },
    {
      "cell_type": "code",
      "execution_count": null,
      "metadata": {
        "id": "Nu-zn-_zyr35"
      },
      "outputs": [],
      "source": [
        "def heuristic_solver(vertices, edges, p, cost_mat):\n",
        "  solutions = []\n",
        "\n",
        "  # create solutions instances\n",
        "  comb = combinations(range(vertices), p)\n",
        "  for c in list(comb):\n",
        "    s = Solution(vertices, c, cost_mat)\n",
        "    solutions.append(s)\n",
        "\n",
        "  # get first of priority queue\n",
        "  s = solutions[0]\n",
        "  while not s.solved() and not s.impossible:\n",
        "\n",
        "    # sol step first of heap\n",
        "    s.sol_step()\n",
        "\n",
        "    if s.impossible:\n",
        "      heapq.heappop(solutions)\n",
        "\n",
        "    # heapify heap\n",
        "    heapq.heapify(solutions)\n",
        "    # get most promising solution\n",
        "    s = solutions[0]\n",
        "\n",
        "  return solutions\n",
        "\n",
        "\n",
        "\n"
      ]
    },
    {
      "cell_type": "code",
      "execution_count": null,
      "metadata": {
        "colab": {
          "base_uri": "https://localhost:8080/"
        },
        "outputId": "42f7f926-d7ab-47dd-d20a-7be53ab5f6b9",
        "id": "CGDGRN6Fyr36"
      },
      "outputs": [
        {
          "output_type": "stream",
          "name": "stdout",
          "text": [
            "{'vertices': 100, 'edges': 200, 'p': 5, 'cost_mat': array([[ 0., 30., nan, ..., nan, nan, 88.],\n",
            "       [30.,  0., 46., ..., nan, nan, nan],\n",
            "       [nan, 46.,  0., ..., nan, 49., nan],\n",
            "       ...,\n",
            "       [nan, nan, nan, ...,  0., 31., nan],\n",
            "       [nan, nan, 49., ..., 31.,  0., 49.],\n",
            "       [88., nan, nan, ..., nan, 49.,  0.]])}\n",
            "Start time:- 2023-07-10 12:32:44.243576\n",
            "timestamp:- 1688992364.243576\n"
          ]
        }
      ],
      "source": [
        "data = get_dataset('./pmed1.txt')\n",
        "\n",
        "print(data)\n",
        "\n",
        "# ct stores current time\n",
        "ct = datetime.datetime.now()\n",
        "print(\"Start time:-\", ct)\n",
        "ts = ct.timestamp()\n",
        "print(\"timestamp:-\", ts)\n",
        "\n",
        "solutions = heuristic_solver(data[\"vertices\"], data[\"edges\"], data[\"p\"], data[\"cost_mat\"])\n",
        "\n",
        "# ct stores current time\n",
        "ct = datetime.datetime.now()\n",
        "print(\"End time:-\", ct)\n",
        "ts = ct.timestamp()\n",
        "print(\"timestamp:-\", ts)\n",
        "\n",
        "solutions.sort()\n",
        "\n",
        "print(solutions[0].c)\n",
        "print(solutions[0].s_vet)\n"
      ]
    }
  ],
  "metadata": {
    "colab": {
      "machine_shape": "hm",
      "provenance": [],
      "toc_visible": true,
      "authorship_tag": "ABX9TyMjjFls6gQlbN5D+W7mJYMo",
      "include_colab_link": true
    },
    "kernelspec": {
      "display_name": "Python 3",
      "name": "python3"
    },
    "language_info": {
      "name": "python"
    }
  },
  "nbformat": 4,
  "nbformat_minor": 0
}